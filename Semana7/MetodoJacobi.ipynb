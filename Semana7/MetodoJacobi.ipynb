{
  "nbformat": 4,
  "nbformat_minor": 0,
  "metadata": {
    "colab": {
      "provenance": [],
      "authorship_tag": "ABX9TyPkCNs8m7FYfuUlg1aX7KN3",
      "include_colab_link": true
    },
    "kernelspec": {
      "name": "python3",
      "display_name": "Python 3"
    },
    "language_info": {
      "name": "python"
    }
  },
  "cells": [
    {
      "cell_type": "markdown",
      "metadata": {
        "id": "view-in-github",
        "colab_type": "text"
      },
      "source": [
        "<a href=\"https://colab.research.google.com/github/asegura4488/MetodosComputacionales1/blob/main/Semana7/MetodoJacobi.ipynb\" target=\"_parent\"><img src=\"https://colab.research.google.com/assets/colab-badge.svg\" alt=\"Open In Colab\"/></a>"
      ]
    },
    {
      "cell_type": "code",
      "execution_count": 53,
      "metadata": {
        "id": "7p7x9F7OU4rJ"
      },
      "outputs": [],
      "source": [
        "import numpy as np"
      ]
    },
    {
      "cell_type": "code",
      "source": [
        "A = np.array([[3,-1,-1],[-1,3,1],[2,1,4]])\n",
        "A"
      ],
      "metadata": {
        "colab": {
          "base_uri": "https://localhost:8080/"
        },
        "id": "9nIWdTP_U9Ak",
        "outputId": "b2979b16-843d-4ea5-b98a-e2020a03d493"
      },
      "execution_count": 54,
      "outputs": [
        {
          "output_type": "execute_result",
          "data": {
            "text/plain": [
              "array([[ 3, -1, -1],\n",
              "       [-1,  3,  1],\n",
              "       [ 2,  1,  4]])"
            ]
          },
          "metadata": {},
          "execution_count": 54
        }
      ]
    },
    {
      "cell_type": "code",
      "source": [
        "b = np.array([1.,3.,7.])\n",
        "b"
      ],
      "metadata": {
        "id": "HDmwiOVGVBz3",
        "outputId": "4e53dc6d-164e-448a-b33a-1e05a59e45ae",
        "colab": {
          "base_uri": "https://localhost:8080/"
        }
      },
      "execution_count": 55,
      "outputs": [
        {
          "output_type": "execute_result",
          "data": {
            "text/plain": [
              "array([1., 3., 7.])"
            ]
          },
          "metadata": {},
          "execution_count": 55
        }
      ]
    },
    {
      "cell_type": "code",
      "source": [
        "np.linalg.solve(A,b)"
      ],
      "metadata": {
        "id": "MXxt2pfcVE3T",
        "colab": {
          "base_uri": "https://localhost:8080/"
        },
        "outputId": "e0dab095-d0c6-483c-d7f7-c7fb186126f4"
      },
      "execution_count": 56,
      "outputs": [
        {
          "output_type": "execute_result",
          "data": {
            "text/plain": [
              "array([1., 1., 1.])"
            ]
          },
          "metadata": {},
          "execution_count": 56
        }
      ]
    },
    {
      "cell_type": "code",
      "source": [
        "# ALgoritmo de Jacobi"
      ],
      "metadata": {
        "id": "asVfXCYImq7o"
      },
      "execution_count": 57,
      "outputs": []
    },
    {
      "cell_type": "code",
      "source": [
        "def Jacobi(A,b,x0, itmax = 1000, tolerancia = 1e-10):\n",
        "\n",
        "  x = x0.copy()\n",
        "\n",
        "  for it in range(itmax):\n",
        "\n",
        "    x_new = np.copy(x)\n",
        "\n",
        "    for i in range(A.shape[0]):\n",
        "\n",
        "      Suma = 0.\n",
        "      for j in range(A.shape[1]):\n",
        "        if i != j:\n",
        "          Suma += A[i,j]*x[j]\n",
        "\n",
        "      # Calculamos el vector\n",
        "      x_new[i] = (b[i] - Suma)/A[i,i]\n",
        "\n",
        "    #print(np.linalg.norm( np.dot(A,x_new)-b ))\n",
        "    if np.linalg.norm( np.dot(A,x_new)-b ) < tolerancia:\n",
        "      break\n",
        "\n",
        "    x = np.copy(x_new)\n",
        "\n",
        "  print(it)\n",
        "\n",
        "  return x, it"
      ],
      "metadata": {
        "id": "zSjJYApTpSuT"
      },
      "execution_count": 58,
      "outputs": []
    },
    {
      "cell_type": "code",
      "source": [
        "x0 = np.array([0.,0.,0.])\n",
        "x,_ = Jacobi(A,b,x0)\n",
        "x"
      ],
      "metadata": {
        "colab": {
          "base_uri": "https://localhost:8080/"
        },
        "id": "j1_yuow-q_SM",
        "outputId": "ec50dad6-05f2-4c54-e4e6-636cd86dcba8"
      },
      "execution_count": 59,
      "outputs": [
        {
          "output_type": "stream",
          "name": "stdout",
          "text": [
            "22\n"
          ]
        },
        {
          "output_type": "execute_result",
          "data": {
            "text/plain": [
              "array([1., 1., 1.])"
            ]
          },
          "metadata": {},
          "execution_count": 59
        }
      ]
    },
    {
      "cell_type": "code",
      "source": [
        "def GaussSeidel(A,b,x0, itmax = 100, tolerancia = 1e-10):\n",
        "\n",
        "  x = x0.copy()\n",
        "\n",
        "  for it in range(itmax):\n",
        "\n",
        "    # Hacemos una copia del vector x\n",
        "    x_new = np.copy(x)\n",
        "\n",
        "    for i in range(A.shape[0]):\n",
        "\n",
        "      # Contabilizamos la suma del iterador\n",
        "      Suma = 0.\n",
        "      for j in range(A.shape[1]):\n",
        "        if i != j:\n",
        "          Suma += A[i,j]*x_new[j]\n",
        "          # La diferencia radica en que ahora la suma es\n",
        "          # calcula usando x_new recien actualizado\n",
        "          x_new[i] = (b[i] - Suma)/A[i,i]\n",
        "\n",
        "    # Criterio de convergencia\n",
        "    if np.linalg.norm( np.dot(A,x_new)-b) < tolerancia:\n",
        "      break\n",
        "\n",
        "    x = np.copy(x_new)\n",
        "\n",
        "  print(it)\n",
        "\n",
        "  return x, it"
      ],
      "metadata": {
        "id": "mxB_BkwYrZGg"
      },
      "execution_count": 60,
      "outputs": []
    },
    {
      "cell_type": "code",
      "source": [
        "x0 = np.array([0.,0.,0.])\n",
        "x,_ = GaussSeidel(A,b,x0)\n",
        "x"
      ],
      "metadata": {
        "id": "bhqqZJfcr0x-",
        "colab": {
          "base_uri": "https://localhost:8080/"
        },
        "outputId": "1a7070fa-aa06-46de-c3e5-f2efc2d2b265"
      },
      "execution_count": 61,
      "outputs": [
        {
          "output_type": "stream",
          "name": "stdout",
          "text": [
            "17\n"
          ]
        },
        {
          "output_type": "execute_result",
          "data": {
            "text/plain": [
              "array([1., 1., 1.])"
            ]
          },
          "metadata": {},
          "execution_count": 61
        }
      ]
    },
    {
      "cell_type": "code",
      "source": [],
      "metadata": {
        "id": "1r7sy5ILfOCM"
      },
      "execution_count": 61,
      "outputs": []
    }
  ]
}