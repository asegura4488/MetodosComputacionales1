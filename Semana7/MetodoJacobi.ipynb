{
  "nbformat": 4,
  "nbformat_minor": 0,
  "metadata": {
    "colab": {
      "provenance": [],
      "authorship_tag": "ABX9TyPycCIW7ulI4GRf1c0xb/4M",
      "include_colab_link": true
    },
    "kernelspec": {
      "name": "python3",
      "display_name": "Python 3"
    },
    "language_info": {
      "name": "python"
    }
  },
  "cells": [
    {
      "cell_type": "markdown",
      "metadata": {
        "id": "view-in-github",
        "colab_type": "text"
      },
      "source": [
        "<a href=\"https://colab.research.google.com/github/asegura4488/MetodosComputacionales1/blob/main/Semana7/MetodoJacobi.ipynb\" target=\"_parent\"><img src=\"https://colab.research.google.com/assets/colab-badge.svg\" alt=\"Open In Colab\"/></a>"
      ]
    },
    {
      "cell_type": "code",
      "execution_count": 10,
      "metadata": {
        "id": "7p7x9F7OU4rJ"
      },
      "outputs": [],
      "source": [
        "import numpy as np"
      ]
    },
    {
      "cell_type": "code",
      "source": [
        "A = np.array([[3,-1,-1],[-1,3,1],[2,1,4]])\n",
        "A"
      ],
      "metadata": {
        "colab": {
          "base_uri": "https://localhost:8080/"
        },
        "id": "9nIWdTP_U9Ak",
        "outputId": "4591b990-d78c-4f5f-cae7-0bf0fa849dbb"
      },
      "execution_count": 37,
      "outputs": [
        {
          "output_type": "execute_result",
          "data": {
            "text/plain": [
              "array([[ 3, -1, -1],\n",
              "       [-1,  3,  1],\n",
              "       [ 2,  1,  4]])"
            ]
          },
          "metadata": {},
          "execution_count": 37
        }
      ]
    },
    {
      "cell_type": "code",
      "source": [
        "b = np.array([1.,3.,7.])\n",
        "b"
      ],
      "metadata": {
        "id": "HDmwiOVGVBz3",
        "outputId": "e03dd388-ad90-49e8-882c-d004561d1a0c",
        "colab": {
          "base_uri": "https://localhost:8080/"
        }
      },
      "execution_count": 38,
      "outputs": [
        {
          "output_type": "execute_result",
          "data": {
            "text/plain": [
              "array([1., 3., 7.])"
            ]
          },
          "metadata": {},
          "execution_count": 38
        }
      ]
    },
    {
      "cell_type": "code",
      "source": [
        "np.linalg.solve(A,b)"
      ],
      "metadata": {
        "id": "MXxt2pfcVE3T",
        "colab": {
          "base_uri": "https://localhost:8080/"
        },
        "outputId": "8ebb18e5-cfa6-4db8-b5c8-2174f27c2660"
      },
      "execution_count": 39,
      "outputs": [
        {
          "output_type": "execute_result",
          "data": {
            "text/plain": [
              "array([1., 1., 1.])"
            ]
          },
          "metadata": {},
          "execution_count": 39
        }
      ]
    },
    {
      "cell_type": "code",
      "source": [
        "# ALgoritmo de Jacobi"
      ],
      "metadata": {
        "id": "asVfXCYImq7o"
      },
      "execution_count": 40,
      "outputs": []
    },
    {
      "cell_type": "code",
      "source": [
        "def Jacobi(A,b,x0, itmax = 1000, tolerancia = 1e-16):\n",
        "\n",
        "  x = x0.copy()\n",
        "\n",
        "  for it in range(itmax):\n",
        "\n",
        "    x_new = np.copy(x)\n",
        "\n",
        "    for i in range(A.shape[0]):\n",
        "\n",
        "      Suma = 0.\n",
        "      for j in range(A.shape[1]):\n",
        "        if i != j:\n",
        "          Suma += A[i,j]*x[j]\n",
        "          x_new[i] = (b[i] - Suma)/A[i,i]\n",
        "\n",
        "    #print(np.linalg.norm( np.dot(A,x_new)-b ))\n",
        "    if np.linalg.norm( np.dot(A,x_new)-b ) < tolerancia:\n",
        "      break\n",
        "\n",
        "    x = np.copy(x_new)\n",
        "\n",
        "  print(it)\n",
        "\n",
        "  return x, it"
      ],
      "metadata": {
        "id": "zSjJYApTpSuT"
      },
      "execution_count": 41,
      "outputs": []
    },
    {
      "cell_type": "code",
      "source": [
        "x0 = np.array([0.,0.,0.])\n",
        "x,_ = Jacobi(A,b,x0)\n",
        "x"
      ],
      "metadata": {
        "colab": {
          "base_uri": "https://localhost:8080/"
        },
        "id": "j1_yuow-q_SM",
        "outputId": "e1ee3580-2f77-49ef-a55a-41975825848f"
      },
      "execution_count": 42,
      "outputs": [
        {
          "output_type": "stream",
          "name": "stdout",
          "text": [
            "34\n"
          ]
        },
        {
          "output_type": "execute_result",
          "data": {
            "text/plain": [
              "array([1., 1., 1.])"
            ]
          },
          "metadata": {},
          "execution_count": 42
        }
      ]
    },
    {
      "cell_type": "code",
      "source": [],
      "metadata": {
        "id": "mxB_BkwYrZGg"
      },
      "execution_count": 42,
      "outputs": []
    },
    {
      "cell_type": "code",
      "source": [],
      "metadata": {
        "id": "bhqqZJfcr0x-"
      },
      "execution_count": null,
      "outputs": []
    }
  ]
}