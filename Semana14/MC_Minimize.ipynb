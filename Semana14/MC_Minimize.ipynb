{
  "cells": [
    {
      "cell_type": "markdown",
      "metadata": {
        "id": "view-in-github",
        "colab_type": "text"
      },
      "source": [
        "<a href=\"https://colab.research.google.com/github/asegura4488/MetodosComputacionales1/blob/main/Semana14/MC_Minimize.ipynb\" target=\"_parent\"><img src=\"https://colab.research.google.com/assets/colab-badge.svg\" alt=\"Open In Colab\"/></a>"
      ]
    },
    {
      "cell_type": "code",
      "execution_count": 1,
      "id": "f71c3d21",
      "metadata": {
        "colab": {
          "base_uri": "https://localhost:8080/"
        },
        "id": "f71c3d21",
        "outputId": "4a9c6975-8129-4d30-addb-d6de07a88d37"
      },
      "outputs": [
        {
          "output_type": "stream",
          "name": "stdout",
          "text": [
            "Mounted at /content/drive\n"
          ]
        }
      ],
      "source": [
        "#%matplotlib notebook\n",
        "\n",
        "import numpy as np\n",
        "import matplotlib.pyplot as plt\n",
        "import pandas as pd\n",
        "import os\n",
        "from google.colab import drive\n",
        "import scipy.optimize as spo\n",
        "\n",
        "drive.mount('/content/drive', force_remount=True)"
      ]
    },
    {
      "cell_type": "code",
      "execution_count": 2,
      "id": "78d5c37c",
      "metadata": {
        "colab": {
          "base_uri": "https://localhost:8080/"
        },
        "id": "78d5c37c",
        "outputId": "93cc7514-8276-4b02-a48d-6de4afd81474"
      },
      "outputs": [
        {
          "output_type": "stream",
          "name": "stdout",
          "text": [
            "Parcial2    Semana1   Semana11\tSemana13  Semana2  Semana4  Semana6  Semana8\n",
            "ProyectoML  Semana10  Semana12\tSemana14  Semana3  Semana5  Semana7  Semana9\n"
          ]
        }
      ],
      "source": [
        "os.chdir(\"/content/drive/MyDrive/ColabNotebooks/Cursos/MetodosComputacionalesI\")\n",
        "!ls"
      ]
    },
    {
      "cell_type": "code",
      "source": [
        "file = '/content/drive/MyDrive/ColabNotebooks/Cursos/MetodosComputacionalesI/Semana14/Data/DataExponencial.csv'\n",
        "#file = '/content/drive/MyDrive/ColabNotebooks/Cursos/MetodosComputacionalesI/Semana14/Data/DataExponencial1.csv'\n",
        "\n",
        "file"
      ],
      "metadata": {
        "colab": {
          "base_uri": "https://localhost:8080/",
          "height": 35
        },
        "id": "Iggads8mx93K",
        "outputId": "8c06db0b-08ce-4d50-9c01-2f8a89ea3d0b"
      },
      "id": "Iggads8mx93K",
      "execution_count": 9,
      "outputs": [
        {
          "output_type": "execute_result",
          "data": {
            "text/plain": [
              "'/content/drive/MyDrive/ColabNotebooks/Cursos/MetodosComputacionalesI/Semana14/Data/DataExponencial.csv'"
            ],
            "application/vnd.google.colaboratory.intrinsic+json": {
              "type": "string"
            }
          },
          "metadata": {},
          "execution_count": 9
        }
      ]
    },
    {
      "cell_type": "code",
      "execution_count": 10,
      "id": "f23de65b",
      "metadata": {
        "id": "f23de65b"
      },
      "outputs": [],
      "source": [
        "data = pd.read_csv(file)\n",
        "x = data['x']\n",
        "y = data['y']\n",
        "sigma = data['sigma']\n",
        "N = x.shape[0]"
      ]
    },
    {
      "cell_type": "code",
      "execution_count": 11,
      "id": "d3c41781",
      "metadata": {
        "colab": {
          "base_uri": "https://localhost:8080/",
          "height": 447
        },
        "id": "d3c41781",
        "outputId": "315f1a24-24b8-4c79-a84a-563a6e7c70f9"
      },
      "outputs": [
        {
          "output_type": "execute_result",
          "data": {
            "text/plain": [
              "<ErrorbarContainer object of 3 artists>"
            ]
          },
          "metadata": {},
          "execution_count": 11
        },
        {
          "output_type": "display_data",
          "data": {
            "text/plain": [
              "<Figure size 640x480 with 1 Axes>"
            ],
            "image/png": "[encoded data removed]"
          },
          "metadata": {}
        }
      ],
      "source": [
        "plt.errorbar(x,y,yerr=sigma,fmt='.',color='k')"
      ]
    },
    {
      "cell_type": "code",
      "execution_count": 12,
      "id": "86920338",
      "metadata": {
        "id": "86920338"
      },
      "outputs": [],
      "source": [
        "# Definimos el modelo con sus parametros\n",
        "def GetModel1(x,p):\n",
        "    y = 0.\n",
        "    for n in range(len(p)):\n",
        "        y += p[n]*x**n\n",
        "    return y"
      ]
    },
    {
      "cell_type": "code",
      "execution_count": 13,
      "id": "b33d7a04",
      "metadata": {
        "id": "b33d7a04"
      },
      "outputs": [],
      "source": [
        "def GetModel2(x,p):\n",
        "    A,B,C = p\n",
        "   # C  = 0.\n",
        "    return A*np.exp(B*x)+C"
      ]
    },
    {
      "cell_type": "code",
      "execution_count": 14,
      "id": "807a7663",
      "metadata": {
        "id": "807a7663"
      },
      "outputs": [],
      "source": [
        "def Chi2(p,x,y,sigma,Model):\n",
        "    return np.sum( ( 0.5*( y - Model(x,p) )/sigma )**2  + 0.5*np.log(2*np.pi*sigma) )"
      ]
    },
    {
      "cell_type": "code",
      "execution_count": 15,
      "id": "1f359a52",
      "metadata": {
        "id": "1f359a52"
      },
      "outputs": [],
      "source": [
        "#primer modelo\n",
        "p0 = np.ones(3)\n",
        "nll = lambda *p: Chi2(*p)"
      ]
    },
    {
      "cell_type": "code",
      "execution_count": 16,
      "id": "49205d9a",
      "metadata": {
        "colab": {
          "base_uri": "https://localhost:8080/"
        },
        "id": "49205d9a",
        "outputId": "d0fabfe9-af86-4842-e118-927632e5a1c6"
      },
      "outputs": [
        {
          "output_type": "stream",
          "name": "stdout",
          "text": [
            "Optimization terminated successfully.\n",
            "         Current function value: 34.792388\n",
            "         Iterations: 193\n",
            "         Function evaluations: 343\n"
          ]
        }
      ],
      "source": [
        "result = spo.minimize( nll, p0, args=(x,y,sigma,GetModel1), options={\"disp\":True}, method='Nelder-Mead')"
      ]
    },
    {
      "cell_type": "code",
      "execution_count": 17,
      "id": "5182960e",
      "metadata": {
        "colab": {
          "base_uri": "https://localhost:8080/"
        },
        "id": "5182960e",
        "outputId": "0e606349-cf1d-454f-fc4d-2d407f991410"
      },
      "outputs": [
        {
          "output_type": "stream",
          "name": "stdout",
          "text": [
            "Success!\n",
            "x=[10.33489468 -2.50318469  0.17483038] y = 34.79238753573686\n"
          ]
        }
      ],
      "source": [
        "if result.success:\n",
        "    print('Success!')\n",
        "    print(f\"x={result.x} y = {result.fun}\")\n",
        "else:\n",
        "    print('could not find a minimum')\n",
        "    print(f\"x={result.x} y = {result.fun}\")"
      ]
    },
    {
      "cell_type": "code",
      "execution_count": 18,
      "id": "c91e976a",
      "metadata": {
        "id": "c91e976a"
      },
      "outputs": [],
      "source": [
        "param = result.x"
      ]
    },
    {
      "cell_type": "code",
      "execution_count": 19,
      "id": "e650a4d4",
      "metadata": {
        "colab": {
          "base_uri": "https://localhost:8080/"
        },
        "id": "e650a4d4",
        "outputId": "fc4bd93b-7543-4a6d-f80c-b2ed1ef373b5"
      },
      "outputs": [
        {
          "output_type": "execute_result",
          "data": {
            "text/plain": [
              "np.float64(34.79238753573686)"
            ]
          },
          "metadata": {},
          "execution_count": 19
        }
      ],
      "source": [
        "ObsChi2 = Chi2(param,x,y,sigma,GetModel1)\n",
        "ObsChi2"
      ]
    },
    {
      "cell_type": "code",
      "execution_count": 20,
      "id": "43a84484",
      "metadata": {
        "id": "43a84484"
      },
      "outputs": [],
      "source": [
        "def Chi2Reducido(p,Model):\n",
        "    return Chi2(p,x,y,sigma,Model)/(N-len(p))"
      ]
    },
    {
      "cell_type": "code",
      "execution_count": 21,
      "id": "bfaf01ec",
      "metadata": {
        "colab": {
          "base_uri": "https://localhost:8080/"
        },
        "id": "bfaf01ec",
        "outputId": "368016bf-1ade-4582-a66d-8491add14570"
      },
      "outputs": [
        {
          "output_type": "execute_result",
          "data": {
            "text/plain": [
              "np.float64(1.2886069457680318)"
            ]
          },
          "metadata": {},
          "execution_count": 21
        }
      ],
      "source": [
        "Chi2R = Chi2Reducido(param,GetModel1)\n",
        "Chi2R"
      ]
    },
    {
      "cell_type": "code",
      "execution_count": 22,
      "id": "be3adadb",
      "metadata": {
        "colab": {
          "base_uri": "https://localhost:8080/"
        },
        "id": "be3adadb",
        "outputId": "f0b3bfc7-25a5-4d89-f9c8-31b8eb716c79"
      },
      "outputs": [
        {
          "output_type": "stream",
          "name": "stdout",
          "text": [
            "Optimization terminated successfully.\n",
            "         Current function value: 33.423904\n",
            "         Iterations: 47\n",
            "         Function evaluations: 196\n",
            "         Gradient evaluations: 49\n"
          ]
        }
      ],
      "source": [
        "#segundo modelo\n",
        "p0 = np.ones(3)\n",
        "nll = lambda *p: Chi2(*p)\n",
        "result1 = spo.minimize( nll, p0, args=(x,y,sigma,GetModel2), options={\"disp\":True})"
      ]
    },
    {
      "cell_type": "code",
      "execution_count": 23,
      "id": "592705fe",
      "metadata": {
        "colab": {
          "base_uri": "https://localhost:8080/"
        },
        "id": "592705fe",
        "outputId": "108df91b-6566-4496-b81c-03f7f115a43b"
      },
      "outputs": [
        {
          "output_type": "execute_result",
          "data": {
            "text/plain": [
              "np.float64(33.42390435426751)"
            ]
          },
          "metadata": {},
          "execution_count": 23
        }
      ],
      "source": [
        "param1 = result1.x\n",
        "ObsChi2 = Chi2(param1,x,y,sigma,GetModel2)\n",
        "ObsChi2"
      ]
    },
    {
      "cell_type": "code",
      "execution_count": 24,
      "id": "13959178",
      "metadata": {
        "colab": {
          "base_uri": "https://localhost:8080/"
        },
        "id": "13959178",
        "outputId": "909df44d-ae9a-4912-d187-64ed51d42edd"
      },
      "outputs": [
        {
          "output_type": "execute_result",
          "data": {
            "text/plain": [
              "np.float64(1.2379223834913893)"
            ]
          },
          "metadata": {},
          "execution_count": 24
        }
      ],
      "source": [
        "Chi2RE = Chi2Reducido(param1,GetModel2)\n",
        "Chi2RE"
      ]
    },
    {
      "cell_type": "code",
      "execution_count": 25,
      "id": "16122174",
      "metadata": {
        "colab": {
          "base_uri": "https://localhost:8080/",
          "height": 462
        },
        "id": "16122174",
        "outputId": "ac53e7ff-c55d-4f08-e6e6-68719470ac98"
      },
      "outputs": [
        {
          "output_type": "execute_result",
          "data": {
            "text/plain": [
              "<matplotlib.legend.Legend at 0x79eb8660c610>"
            ]
          },
          "metadata": {},
          "execution_count": 25
        },
        {
          "output_type": "display_data",
          "data": {
            "text/plain": [
              "<Figure size 500x500 with 1 Axes>"
            ],
            "image/png": "[encoded data removed]"
          },
          "metadata": {}
        }
      ],
      "source": [
        "fig = plt.figure(figsize=(5,5))\n",
        "ax = fig.add_subplot(1,1,1)\n",
        "ax.errorbar(x,y,yerr=sigma,fmt='o',color='k',label='Data')\n",
        "\n",
        "t = np.linspace(np.min(x),np.max(x),100)\n",
        "ax.plot(t,GetModel1(t,param),lw=3,label='Polinomial')\n",
        "ax.plot(t,GetModel2(t,param1),lw=3,label='Exponential')\n",
        "ax.legend()"
      ]
    },
    {
      "cell_type": "code",
      "execution_count": 26,
      "id": "9d3a2c9e-9e74-4045-8c7f-1add2e32563e",
      "metadata": {
        "id": "9d3a2c9e-9e74-4045-8c7f-1add2e32563e"
      },
      "outputs": [],
      "source": [
        "residuos1 = GetModel1(x,param ) - y\n",
        "residuos2 = GetModel2(x,param1) - y"
      ]
    },
    {
      "cell_type": "code",
      "execution_count": 26,
      "id": "3e074936",
      "metadata": {
        "id": "3e074936"
      },
      "outputs": [],
      "source": []
    },
    {
      "cell_type": "code",
      "execution_count": 27,
      "id": "ff23f092-d21d-4ed0-b233-69b1050decca",
      "metadata": {
        "colab": {
          "base_uri": "https://localhost:8080/",
          "height": 447
        },
        "id": "ff23f092-d21d-4ed0-b233-69b1050decca",
        "outputId": "63e740ee-95ba-4e09-a542-38d2ab87a173"
      },
      "outputs": [
        {
          "output_type": "execute_result",
          "data": {
            "text/plain": [
              "<matplotlib.lines.Line2D at 0x79eb7b9b5a10>"
            ]
          },
          "metadata": {},
          "execution_count": 27
        },
        {
          "output_type": "display_data",
          "data": {
            "text/plain": [
              "<Figure size 640x480 with 1 Axes>"
            ],
            "image/png": "[encoded data removed]"
          },
          "metadata": {}
        }
      ],
      "source": [
        "plt.scatter(x,residuos1,color='k')\n",
        "plt.scatter(x,residuos2,color='b')\n",
        "plt.axhline(y=0.,ls='--',color='r')"
      ]
    },
    {
      "cell_type": "code",
      "execution_count": 28,
      "id": "6e7b91c4-3b35-4c8e-8c27-8c7938fd08ff",
      "metadata": {
        "colab": {
          "base_uri": "https://localhost:8080/"
        },
        "id": "6e7b91c4-3b35-4c8e-8c27-8c7938fd08ff",
        "outputId": "108d47c7-e17a-4470-c017-9988c556f97f"
      },
      "outputs": [
        {
          "output_type": "stream",
          "name": "stdout",
          "text": [
            "0.5333333333333333 0.4666666666666667\n"
          ]
        }
      ],
      "source": [
        "positive = residuos1[residuos1 >  0.].shape[0]\n",
        "negative = residuos1[residuos1 <= 0.].shape[0]\n",
        "print(positive/N,negative/N)"
      ]
    },
    {
      "cell_type": "code",
      "execution_count": 29,
      "id": "be34c360",
      "metadata": {
        "colab": {
          "base_uri": "https://localhost:8080/"
        },
        "id": "be34c360",
        "outputId": "19105227-0ab0-4247-b9d9-c1a0ffcf9cad"
      },
      "outputs": [
        {
          "output_type": "stream",
          "name": "stdout",
          "text": [
            "0.43333333333333335 0.5666666666666667\n"
          ]
        }
      ],
      "source": [
        "positive = residuos2[residuos2 >  0.].shape[0]\n",
        "negative = residuos2[residuos2 <= 0.].shape[0]\n",
        "print(positive/N,negative/N)"
      ]
    },
    {
      "cell_type": "code",
      "source": [],
      "metadata": {
        "id": "5FK6T32RydQC"
      },
      "id": "5FK6T32RydQC",
      "execution_count": null,
      "outputs": []
    }
  ],
  "metadata": {
    "kernelspec": {
      "display_name": "Python 3 (ipykernel)",
      "language": "python",
      "name": "python3"
    },
    "language_info": {
      "codemirror_mode": {
        "name": "ipython",
        "version": 3
      },
      "file_extension": ".py",
      "mimetype": "text/x-python",
      "name": "python",
      "nbconvert_exporter": "python",
      "pygments_lexer": "ipython3",
      "version": "3.11.5"
    },
    "colab": {
      "provenance": [],
      "include_colab_link": true
    }
  },
  "nbformat": 4,
  "nbformat_minor": 5
}