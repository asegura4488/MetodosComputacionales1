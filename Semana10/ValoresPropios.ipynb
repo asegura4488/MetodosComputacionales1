{
  "nbformat": 4,
  "nbformat_minor": 0,
  "metadata": {
    "colab": {
      "provenance": [],
      "authorship_tag": "ABX9TyNSL44aMbZ46n3DJ+T38YBn",
      "include_colab_link": true
    },
    "kernelspec": {
      "name": "python3",
      "display_name": "Python 3"
    },
    "language_info": {
      "name": "python"
    }
  },
  "cells": [
    {
      "cell_type": "markdown",
      "metadata": {
        "id": "view-in-github",
        "colab_type": "text"
      },
      "source": [
        "<a href=\"https://colab.research.google.com/github/asegura4488/MetodosComputacionales1/blob/main/Semana10/ValoresPropios.ipynb\" target=\"_parent\"><img src=\"https://colab.research.google.com/assets/colab-badge.svg\" alt=\"Open In Colab\"/></a>"
      ]
    },
    {
      "cell_type": "code",
      "execution_count": 1,
      "metadata": {
        "id": "oIqTj3R1YNSN"
      },
      "outputs": [],
      "source": [
        "import numpy as np"
      ]
    },
    {
      "cell_type": "code",
      "source": [
        "A = np.array([[1,2,-1,],[1,0,1],[4,-4,5]])\n",
        "A"
      ],
      "metadata": {
        "colab": {
          "base_uri": "https://localhost:8080/"
        },
        "id": "9bTbOiFwblpL",
        "outputId": "7763611c-d4b4-45e6-edc4-1423c62a61a6"
      },
      "execution_count": 31,
      "outputs": [
        {
          "output_type": "execute_result",
          "data": {
            "text/plain": [
              "array([[ 1,  2, -1],\n",
              "       [ 1,  0,  1],\n",
              "       [ 4, -4,  5]])"
            ]
          },
          "metadata": {},
          "execution_count": 31
        }
      ]
    },
    {
      "cell_type": "code",
      "source": [
        "valores, vectores = np.linalg.eig(A)\n",
        "valores"
      ],
      "metadata": {
        "colab": {
          "base_uri": "https://localhost:8080/"
        },
        "id": "61Zn_HWGbwYp",
        "outputId": "b57d2a54-fd12-4edf-f4c9-8637c8dccac0"
      },
      "execution_count": 32,
      "outputs": [
        {
          "output_type": "execute_result",
          "data": {
            "text/plain": [
              "array([3., 2., 1.])"
            ]
          },
          "metadata": {},
          "execution_count": 32
        }
      ]
    },
    {
      "cell_type": "code",
      "source": [
        "vectores"
      ],
      "metadata": {
        "colab": {
          "base_uri": "https://localhost:8080/"
        },
        "id": "y2m-UEtcb3aM",
        "outputId": "7e195d97-8750-4fe8-cb3b-898de68bdb15"
      },
      "execution_count": 33,
      "outputs": [
        {
          "output_type": "execute_result",
          "data": {
            "text/plain": [
              "array([[-0.23570226,  0.43643578,  0.40824829],\n",
              "       [ 0.23570226, -0.21821789, -0.40824829],\n",
              "       [ 0.94280904, -0.87287156, -0.81649658]])"
            ]
          },
          "metadata": {},
          "execution_count": 33
        }
      ]
    },
    {
      "cell_type": "code",
      "source": [
        "def EigValue(A, itmax = 1000, tolerancia = 1e-6):\n",
        "\n",
        "  n = A.shape[0]\n",
        "\n",
        "  v0 = np.zeros(n)\n",
        "  v0[0] = 1.\n",
        "  #print(v0)\n",
        "\n",
        "  for i in range(itmax):\n",
        "\n",
        "    vn = A @ v0\n",
        "    lambda1_new = np.dot(v0,vn)\n",
        "    vn = vn/np.linalg.norm(vn)\n",
        "\n",
        "    if np.linalg.norm(vn - v0) < tolerancia:\n",
        "      break\n",
        "\n",
        "    v0 = vn\n",
        "    lambda1 = lambda1_new\n",
        "\n",
        "  #print(lambda1)\n",
        "\n",
        "  return lambda1, v0"
      ],
      "metadata": {
        "id": "l-fRHRsHb4DU"
      },
      "execution_count": 38,
      "outputs": []
    },
    {
      "cell_type": "code",
      "source": [
        "EigValue(A)"
      ],
      "metadata": {
        "colab": {
          "base_uri": "https://localhost:8080/"
        },
        "id": "Iu7wnrRAegxA",
        "outputId": "4a7655df-7158-4295-cce7-86024945a7de"
      },
      "execution_count": 39,
      "outputs": [
        {
          "output_type": "execute_result",
          "data": {
            "text/plain": [
              "(np.float64(3.00001857910504), array([-0.23569965,  0.23570241,  0.94280966]))"
            ]
          },
          "metadata": {},
          "execution_count": 39
        }
      ]
    },
    {
      "cell_type": "code",
      "source": [
        "vectores"
      ],
      "metadata": {
        "colab": {
          "base_uri": "https://localhost:8080/"
        },
        "id": "oKh5ri5keh9X",
        "outputId": "b87b6e03-760d-4560-c6d8-4ab0307b5b5c"
      },
      "execution_count": 40,
      "outputs": [
        {
          "output_type": "execute_result",
          "data": {
            "text/plain": [
              "array([[-0.23570226,  0.43643578,  0.40824829],\n",
              "       [ 0.23570226, -0.21821789, -0.40824829],\n",
              "       [ 0.94280904, -0.87287156, -0.81649658]])"
            ]
          },
          "metadata": {},
          "execution_count": 40
        }
      ]
    },
    {
      "cell_type": "code",
      "source": [
        "valores"
      ],
      "metadata": {
        "colab": {
          "base_uri": "https://localhost:8080/"
        },
        "id": "x86OvZm_hwgd",
        "outputId": "aa2f6f67-b2e6-4e4d-d156-a0e1d6228ba9"
      },
      "execution_count": 41,
      "outputs": [
        {
          "output_type": "execute_result",
          "data": {
            "text/plain": [
              "array([3., 2., 1.])"
            ]
          },
          "metadata": {},
          "execution_count": 41
        }
      ]
    },
    {
      "cell_type": "code",
      "source": [],
      "metadata": {
        "id": "gpMj9Eglio5Y"
      },
      "execution_count": null,
      "outputs": []
    }
  ]
}