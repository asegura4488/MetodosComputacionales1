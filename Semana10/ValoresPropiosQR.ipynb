{
  "nbformat": 4,
  "nbformat_minor": 0,
  "metadata": {
    "colab": {
      "provenance": [],
      "authorship_tag": "ABX9TyOMqj4xA7u1QyVrGX1OekBB",
      "include_colab_link": true
    },
    "kernelspec": {
      "name": "python3",
      "display_name": "Python 3"
    },
    "language_info": {
      "name": "python"
    }
  },
  "cells": [
    {
      "cell_type": "markdown",
      "metadata": {
        "id": "view-in-github",
        "colab_type": "text"
      },
      "source": [
        "<a href=\"https://colab.research.google.com/github/asegura4488/MetodosComputacionales1/blob/main/Semana10/ValoresPropiosQR.ipynb\" target=\"_parent\"><img src=\"https://colab.research.google.com/assets/colab-badge.svg\" alt=\"Open In Colab\"/></a>"
      ]
    },
    {
      "cell_type": "code",
      "execution_count": 1,
      "metadata": {
        "id": "uSq1trIrquGK"
      },
      "outputs": [],
      "source": [
        "import numpy as np"
      ]
    },
    {
      "cell_type": "code",
      "source": [
        "A = np.array([[1,2,-1,],[1,0,1],[4,-4,5]])\n",
        "A"
      ],
      "metadata": {
        "colab": {
          "base_uri": "https://localhost:8080/"
        },
        "id": "pTiTJWq7qx7l",
        "outputId": "f3ccdd19-f60f-4157-9992-09e54a36d40f"
      },
      "execution_count": 6,
      "outputs": [
        {
          "output_type": "execute_result",
          "data": {
            "text/plain": [
              "array([[ 1,  2, -1],\n",
              "       [ 1,  0,  1],\n",
              "       [ 4, -4,  5]])"
            ]
          },
          "metadata": {},
          "execution_count": 6
        }
      ]
    },
    {
      "cell_type": "code",
      "source": [
        "valores, vectores = np.linalg.eig(A)"
      ],
      "metadata": {
        "id": "umTQt5lcu3Fv"
      },
      "execution_count": 14,
      "outputs": []
    },
    {
      "cell_type": "code",
      "source": [
        "def GrandSchmith(A):\n",
        "\n",
        "  n,m = A.shape\n",
        "\n",
        "  Q = np.zeros((n,m))\n",
        "\n",
        "  for j in range(m):\n",
        "    v = A[:,j].copy()\n",
        "    for i in range(j):\n",
        "      u = Q[:,i]\n",
        "      v = v - np.dot(u,v)*u\n",
        "\n",
        "    norm = np.linalg.norm(v)\n",
        "    Q[:,j] = v/norm\n",
        "\n",
        "\n",
        "  return Q"
      ],
      "metadata": {
        "id": "qtib1Evfq37-"
      },
      "execution_count": 8,
      "outputs": []
    },
    {
      "cell_type": "code",
      "source": [
        "Q = GrandSchmith(A)\n",
        "Q"
      ],
      "metadata": {
        "colab": {
          "base_uri": "https://localhost:8080/"
        },
        "id": "FGDBX7Q7q6Tb",
        "outputId": "4f563580-b790-4e77-ae3f-7dd25bbe0bbe"
      },
      "execution_count": 9,
      "outputs": [
        {
          "output_type": "execute_result",
          "data": {
            "text/plain": [
              "array([[ 0.23570226,  0.92026272, -0.31234752],\n",
              "       [ 0.23570226,  0.25767356,  0.93704257],\n",
              "       [ 0.94280904, -0.29448407, -0.15617376]])"
            ]
          },
          "metadata": {},
          "execution_count": 9
        }
      ]
    },
    {
      "cell_type": "code",
      "source": [
        "np.round(Q.T @ A,2)"
      ],
      "metadata": {
        "colab": {
          "base_uri": "https://localhost:8080/"
        },
        "id": "PKptu1dDq8Kw",
        "outputId": "e58254de-f23e-4726-82bb-b5bfeb14e93f"
      },
      "execution_count": 10,
      "outputs": [
        {
          "output_type": "execute_result",
          "data": {
            "text/plain": [
              "array([[ 4.24, -3.3 ,  4.71],\n",
              "       [ 0.  ,  3.02, -2.14],\n",
              "       [-0.  ,  0.  ,  0.47]])"
            ]
          },
          "metadata": {},
          "execution_count": 10
        }
      ]
    },
    {
      "cell_type": "code",
      "source": [
        "# Miremos el paquete\n",
        "Q,R = np.linalg.qr(A)"
      ],
      "metadata": {
        "id": "coFIILd0q-bx"
      },
      "execution_count": 11,
      "outputs": []
    },
    {
      "cell_type": "code",
      "source": [
        "R"
      ],
      "metadata": {
        "colab": {
          "base_uri": "https://localhost:8080/"
        },
        "id": "NaAvh7YLuRJ4",
        "outputId": "08dc82ed-6c57-4e5d-f869-724765854b1d"
      },
      "execution_count": 13,
      "outputs": [
        {
          "output_type": "execute_result",
          "data": {
            "text/plain": [
              "array([[-4.24264069,  3.29983165, -4.71404521],\n",
              "       [ 0.        , -3.01846171,  2.1350095 ],\n",
              "       [ 0.        ,  0.        ,  0.46852129]])"
            ]
          },
          "metadata": {},
          "execution_count": 13
        }
      ]
    },
    {
      "cell_type": "code",
      "source": [
        "np.linalg.inv(vectores) @ A @ vectores"
      ],
      "metadata": {
        "colab": {
          "base_uri": "https://localhost:8080/"
        },
        "id": "WzP6l1dfuRxV",
        "outputId": "df8f3962-28f4-4aa6-b21e-e135ec21cbe9"
      },
      "execution_count": 18,
      "outputs": [
        {
          "output_type": "execute_result",
          "data": {
            "text/plain": [
              "array([[ 3.00000000e+00,  0.00000000e+00, -8.88178420e-16],\n",
              "       [ 3.07277296e-15,  2.00000000e+00, -3.48123786e-15],\n",
              "       [-1.33226763e-15,  1.33226763e-15,  1.00000000e+00]])"
            ]
          },
          "metadata": {},
          "execution_count": 18
        }
      ]
    },
    {
      "cell_type": "code",
      "source": [
        "def Eigen()"
      ],
      "metadata": {
        "id": "_XHYhoBRvBVJ"
      },
      "execution_count": null,
      "outputs": []
    }
  ]
}