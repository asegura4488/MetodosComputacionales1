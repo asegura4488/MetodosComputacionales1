{
  "nbformat": 4,
  "nbformat_minor": 0,
  "metadata": {
    "colab": {
      "provenance": [],
      "authorship_tag": "ABX9TyOU/5vhRRQX1BodaJEI7gp3",
      "include_colab_link": true
    },
    "kernelspec": {
      "name": "python3",
      "display_name": "Python 3"
    },
    "language_info": {
      "name": "python"
    }
  },
  "cells": [
    {
      "cell_type": "markdown",
      "metadata": {
        "id": "view-in-github",
        "colab_type": "text"
      },
      "source": [
        "<a href=\"https://colab.research.google.com/github/asegura4488/MetodosComputacionales1/blob/main/Semana10/ValoresPropiosQR.ipynb\" target=\"_parent\"><img src=\"https://colab.research.google.com/assets/colab-badge.svg\" alt=\"Open In Colab\"/></a>"
      ]
    },
    {
      "cell_type": "code",
      "execution_count": 1,
      "metadata": {
        "id": "uSq1trIrquGK"
      },
      "outputs": [],
      "source": [
        "import numpy as np"
      ]
    },
    {
      "cell_type": "code",
      "source": [
        "A = np.array([[1,2,-1,],[1,0,1],[4,-4,5]])\n",
        "A"
      ],
      "metadata": {
        "colab": {
          "base_uri": "https://localhost:8080/"
        },
        "id": "pTiTJWq7qx7l",
        "outputId": "f3ccdd19-f60f-4157-9992-09e54a36d40f"
      },
      "execution_count": 6,
      "outputs": [
        {
          "output_type": "execute_result",
          "data": {
            "text/plain": [
              "array([[ 1,  2, -1],\n",
              "       [ 1,  0,  1],\n",
              "       [ 4, -4,  5]])"
            ]
          },
          "metadata": {},
          "execution_count": 6
        }
      ]
    },
    {
      "cell_type": "code",
      "source": [
        "valores, vectores = np.linalg.eig(A)"
      ],
      "metadata": {
        "id": "umTQt5lcu3Fv"
      },
      "execution_count": 14,
      "outputs": []
    },
    {
      "cell_type": "code",
      "source": [
        "def GrandSchmith(A):\n",
        "\n",
        "  n,m = A.shape\n",
        "\n",
        "  Q = np.zeros((n,m))\n",
        "\n",
        "  for j in range(m):\n",
        "    v = A[:,j].copy()\n",
        "    for i in range(j):\n",
        "      u = Q[:,i]\n",
        "      v = v - np.dot(u,v)*u\n",
        "\n",
        "    norm = np.linalg.norm(v)\n",
        "    Q[:,j] = v/norm\n",
        "\n",
        "\n",
        "  return Q"
      ],
      "metadata": {
        "id": "qtib1Evfq37-"
      },
      "execution_count": 8,
      "outputs": []
    },
    {
      "cell_type": "code",
      "source": [
        "Q = GrandSchmith(A)\n",
        "Q"
      ],
      "metadata": {
        "colab": {
          "base_uri": "https://localhost:8080/"
        },
        "id": "FGDBX7Q7q6Tb",
        "outputId": "cf839ac5-1ebc-4c3c-f46b-43d35e2a6555"
      },
      "execution_count": 46,
      "outputs": [
        {
          "output_type": "execute_result",
          "data": {
            "text/plain": [
              "array([[ 0.23570226,  0.92026272, -0.31234752],\n",
              "       [ 0.23570226,  0.25767356,  0.93704257],\n",
              "       [ 0.94280904, -0.29448407, -0.15617376]])"
            ]
          },
          "metadata": {},
          "execution_count": 46
        }
      ]
    },
    {
      "cell_type": "code",
      "source": [
        "np.round(Q.T @ A,2)"
      ],
      "metadata": {
        "colab": {
          "base_uri": "https://localhost:8080/"
        },
        "id": "PKptu1dDq8Kw",
        "outputId": "e58254de-f23e-4726-82bb-b5bfeb14e93f"
      },
      "execution_count": 10,
      "outputs": [
        {
          "output_type": "execute_result",
          "data": {
            "text/plain": [
              "array([[ 4.24, -3.3 ,  4.71],\n",
              "       [ 0.  ,  3.02, -2.14],\n",
              "       [-0.  ,  0.  ,  0.47]])"
            ]
          },
          "metadata": {},
          "execution_count": 10
        }
      ]
    },
    {
      "cell_type": "code",
      "source": [
        "# Miremos el paquete\n",
        "Q,R = np.linalg.qr(A)"
      ],
      "metadata": {
        "id": "coFIILd0q-bx"
      },
      "execution_count": 11,
      "outputs": []
    },
    {
      "cell_type": "code",
      "source": [
        "Q"
      ],
      "metadata": {
        "colab": {
          "base_uri": "https://localhost:8080/"
        },
        "id": "NaAvh7YLuRJ4",
        "outputId": "a45fd14f-8963-48e5-c2d5-a8aa6d1ede90"
      },
      "execution_count": 45,
      "outputs": [
        {
          "output_type": "execute_result",
          "data": {
            "text/plain": [
              "array([[-0.23570226, -0.92026272, -0.31234752],\n",
              "       [-0.23570226, -0.25767356,  0.93704257],\n",
              "       [-0.94280904,  0.29448407, -0.15617376]])"
            ]
          },
          "metadata": {},
          "execution_count": 45
        }
      ]
    },
    {
      "cell_type": "code",
      "source": [
        "np.linalg.inv(vectores) @ A @ vectores"
      ],
      "metadata": {
        "colab": {
          "base_uri": "https://localhost:8080/"
        },
        "id": "WzP6l1dfuRxV",
        "outputId": "df8f3962-28f4-4aa6-b21e-e135ec21cbe9"
      },
      "execution_count": 18,
      "outputs": [
        {
          "output_type": "execute_result",
          "data": {
            "text/plain": [
              "array([[ 3.00000000e+00,  0.00000000e+00, -8.88178420e-16],\n",
              "       [ 3.07277296e-15,  2.00000000e+00, -3.48123786e-15],\n",
              "       [-1.33226763e-15,  1.33226763e-15,  1.00000000e+00]])"
            ]
          },
          "metadata": {},
          "execution_count": 18
        }
      ]
    },
    {
      "cell_type": "code",
      "source": [
        "def Eigen(A, max_iter = 1000, tol = 1e-10):\n",
        "\n",
        "  Ak = A.copy()\n",
        "\n",
        "  Q_total = np.eye(A.shape[0])\n",
        "\n",
        "  it = 0\n",
        "  while it < max_iter:\n",
        "\n",
        "    Q, R = np.linalg.qr(Ak)\n",
        "\n",
        "    Ak = R @ Q\n",
        "\n",
        "    Q_total = Q_total @ Q\n",
        "\n",
        "    off_diag = np.sqrt( np.sum( np.tril(Ak, -1)**2 ) )\n",
        "    if off_diag < tol:\n",
        "      break\n",
        "\n",
        "    it += 1\n",
        "\n",
        "  eigenvalues = np.diag(Ak)\n",
        "  eigenvectors = Q_total\n",
        "\n",
        "  return eigenvalues, eigenvectors"
      ],
      "metadata": {
        "id": "_XHYhoBRvBVJ"
      },
      "execution_count": 40,
      "outputs": []
    },
    {
      "cell_type": "code",
      "source": [
        "valores1, vectores1 = Eigen(A)\n",
        "vectores1"
      ],
      "metadata": {
        "colab": {
          "base_uri": "https://localhost:8080/"
        },
        "id": "HSNTRaxExXdy",
        "outputId": "48116a28-85f5-4899-804b-db4c39ee936d"
      },
      "execution_count": 41,
      "outputs": [
        {
          "output_type": "execute_result",
          "data": {
            "text/plain": [
              "array([[-2.35702260e-01,  9.71825316e-01, -1.18681278e-15],\n",
              "       [ 2.35702260e-01,  5.71661950e-02,  9.70142500e-01],\n",
              "       [ 9.42809042e-01,  2.28664780e-01, -2.42535625e-01]])"
            ]
          },
          "metadata": {},
          "execution_count": 41
        }
      ]
    },
    {
      "cell_type": "code",
      "source": [
        "vectores"
      ],
      "metadata": {
        "colab": {
          "base_uri": "https://localhost:8080/"
        },
        "id": "zXBcZ_HGxvwQ",
        "outputId": "e79eb4d8-6bd7-4908-f5e5-b65d9c7ce5fb"
      },
      "execution_count": 42,
      "outputs": [
        {
          "output_type": "execute_result",
          "data": {
            "text/plain": [
              "array([[-0.23570226,  0.43643578,  0.40824829],\n",
              "       [ 0.23570226, -0.21821789, -0.40824829],\n",
              "       [ 0.94280904, -0.87287156, -0.81649658]])"
            ]
          },
          "metadata": {},
          "execution_count": 42
        }
      ]
    },
    {
      "cell_type": "code",
      "source": [
        "vectores1[:,0] @ vectores1[:,2]"
      ],
      "metadata": {
        "colab": {
          "base_uri": "https://localhost:8080/"
        },
        "id": "zE9rJDYtxytz",
        "outputId": "6db07f75-fa9d-409c-fd13-a454252aa617"
      },
      "execution_count": 43,
      "outputs": [
        {
          "output_type": "execute_result",
          "data": {
            "text/plain": [
              "np.float64(-2.7755575615628914e-16)"
            ]
          },
          "metadata": {},
          "execution_count": 43
        }
      ]
    },
    {
      "cell_type": "code",
      "source": [
        "for i in range(3):\n",
        "  v1 = vectores[:,i]\n",
        "  v2 = vectores1[:,i]\n",
        "  angle = np.arccos(\n",
        "      np.clip(np.dot(v1,v2)/(np.linalg.norm(v1)*np.linalg.norm(v2)),-1,1))\n",
        "  print(np.degrees(angle))"
      ],
      "metadata": {
        "colab": {
          "base_uri": "https://localhost:8080/"
        },
        "id": "1b0uQu8oyUwP",
        "outputId": "decdc836-91ea-42ec-acf2-dd628f9ab1cb"
      },
      "execution_count": 44,
      "outputs": [
        {
          "output_type": "stream",
          "name": "stdout",
          "text": [
            "0.0\n",
            "77.75633216047316\n",
            "101.42175365896236\n"
          ]
        }
      ]
    },
    {
      "cell_type": "code",
      "source": [
        "101.42 + 77.75"
      ],
      "metadata": {
        "colab": {
          "base_uri": "https://localhost:8080/"
        },
        "id": "5hi_N0Jk0c_T",
        "outputId": "37525ebf-6f30-4dc9-c6fe-7192f4b6a824"
      },
      "execution_count": 47,
      "outputs": [
        {
          "output_type": "execute_result",
          "data": {
            "text/plain": [
              "179.17000000000002"
            ]
          },
          "metadata": {},
          "execution_count": 47
        }
      ]
    },
    {
      "cell_type": "code",
      "source": [
        "# Schur\n",
        "# Jacobi # No computacional"
      ],
      "metadata": {
        "id": "8GGmFiZN1iZJ"
      },
      "execution_count": 48,
      "outputs": []
    },
    {
      "cell_type": "code",
      "source": [],
      "metadata": {
        "id": "fRGh9tUc1x1F"
      },
      "execution_count": null,
      "outputs": []
    }
  ]
}