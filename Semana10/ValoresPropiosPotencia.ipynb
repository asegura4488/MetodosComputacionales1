{
  "nbformat": 4,
  "nbformat_minor": 0,
  "metadata": {
    "colab": {
      "provenance": [],
      "authorship_tag": "ABX9TyPAr7DBHg92Q9ZdtgLvafqw",
      "include_colab_link": true
    },
    "kernelspec": {
      "name": "python3",
      "display_name": "Python 3"
    },
    "language_info": {
      "name": "python"
    }
  },
  "cells": [
    {
      "cell_type": "markdown",
      "metadata": {
        "id": "view-in-github",
        "colab_type": "text"
      },
      "source": [
        "<a href=\"https://colab.research.google.com/github/asegura4488/MetodosComputacionales1/blob/main/Semana10/ValoresPropiosPotencia.ipynb\" target=\"_parent\"><img src=\"https://colab.research.google.com/assets/colab-badge.svg\" alt=\"Open In Colab\"/></a>"
      ]
    },
    {
      "cell_type": "code",
      "execution_count": 4,
      "metadata": {
        "id": "oIqTj3R1YNSN"
      },
      "outputs": [],
      "source": [
        "import numpy as np"
      ]
    },
    {
      "cell_type": "code",
      "source": [
        "A = np.array([[1,2,-1,],[1,0,1],[4,-4,5]])\n",
        "A"
      ],
      "metadata": {
        "colab": {
          "base_uri": "https://localhost:8080/"
        },
        "id": "9bTbOiFwblpL",
        "outputId": "07ecb1a9-cdf5-44d0-8d30-24b425002d52"
      },
      "execution_count": 5,
      "outputs": [
        {
          "output_type": "execute_result",
          "data": {
            "text/plain": [
              "array([[ 1,  2, -1],\n",
              "       [ 1,  0,  1],\n",
              "       [ 4, -4,  5]])"
            ]
          },
          "metadata": {},
          "execution_count": 5
        }
      ]
    },
    {
      "cell_type": "code",
      "source": [
        "valores, vectores = np.linalg.eig(A)\n",
        "valores"
      ],
      "metadata": {
        "colab": {
          "base_uri": "https://localhost:8080/"
        },
        "id": "61Zn_HWGbwYp",
        "outputId": "d641993b-b3dd-4409-b65b-7fb82cb3fb95"
      },
      "execution_count": 6,
      "outputs": [
        {
          "output_type": "execute_result",
          "data": {
            "text/plain": [
              "array([3., 2., 1.])"
            ]
          },
          "metadata": {},
          "execution_count": 6
        }
      ]
    },
    {
      "cell_type": "code",
      "source": [
        "vectores"
      ],
      "metadata": {
        "colab": {
          "base_uri": "https://localhost:8080/"
        },
        "id": "y2m-UEtcb3aM",
        "outputId": "5bff71dd-ecc0-405a-ffcd-a7dee0999d09"
      },
      "execution_count": 7,
      "outputs": [
        {
          "output_type": "execute_result",
          "data": {
            "text/plain": [
              "array([[-0.23570226,  0.43643578,  0.40824829],\n",
              "       [ 0.23570226, -0.21821789, -0.40824829],\n",
              "       [ 0.94280904, -0.87287156, -0.81649658]])"
            ]
          },
          "metadata": {},
          "execution_count": 7
        }
      ]
    },
    {
      "cell_type": "code",
      "source": [
        "def EigValue(A, itmax = 1000, tolerancia = 1e-6):\n",
        "\n",
        "  n = A.shape[0]\n",
        "\n",
        "  v0 = np.zeros(n)\n",
        "  v0[0] = 1.\n",
        "  #print(v0)\n",
        "\n",
        "  for i in range(itmax):\n",
        "\n",
        "    vn = A @ v0\n",
        "    lambda1_new = np.dot(v0,vn)\n",
        "    vn = vn/np.linalg.norm(vn)\n",
        "\n",
        "    if np.linalg.norm(vn - v0) < tolerancia:\n",
        "      break\n",
        "\n",
        "    v0 = vn\n",
        "    lambda1 = lambda1_new\n",
        "\n",
        "  #print(lambda1)\n",
        "\n",
        "  return lambda1, v0"
      ],
      "metadata": {
        "id": "l-fRHRsHb4DU"
      },
      "execution_count": 8,
      "outputs": []
    },
    {
      "cell_type": "code",
      "source": [
        "EigValue(A)"
      ],
      "metadata": {
        "colab": {
          "base_uri": "https://localhost:8080/"
        },
        "id": "Iu7wnrRAegxA",
        "outputId": "c64df9fd-3d59-4509-9fdd-601839581df7"
      },
      "execution_count": 9,
      "outputs": [
        {
          "output_type": "execute_result",
          "data": {
            "text/plain": [
              "(np.float64(3.00001857910504), array([-0.23569965,  0.23570241,  0.94280966]))"
            ]
          },
          "metadata": {},
          "execution_count": 9
        }
      ]
    },
    {
      "cell_type": "code",
      "source": [
        "vectores"
      ],
      "metadata": {
        "colab": {
          "base_uri": "https://localhost:8080/"
        },
        "id": "oKh5ri5keh9X",
        "outputId": "e44bf931-f214-400e-c9a2-c6158428c2d0"
      },
      "execution_count": 10,
      "outputs": [
        {
          "output_type": "execute_result",
          "data": {
            "text/plain": [
              "array([[-0.23570226,  0.43643578,  0.40824829],\n",
              "       [ 0.23570226, -0.21821789, -0.40824829],\n",
              "       [ 0.94280904, -0.87287156, -0.81649658]])"
            ]
          },
          "metadata": {},
          "execution_count": 10
        }
      ]
    },
    {
      "cell_type": "code",
      "source": [
        "valores"
      ],
      "metadata": {
        "colab": {
          "base_uri": "https://localhost:8080/"
        },
        "id": "x86OvZm_hwgd",
        "outputId": "aa2f6f67-b2e6-4e4d-d156-a0e1d6228ba9"
      },
      "execution_count": null,
      "outputs": [
        {
          "output_type": "execute_result",
          "data": {
            "text/plain": [
              "array([3., 2., 1.])"
            ]
          },
          "metadata": {},
          "execution_count": 41
        }
      ]
    },
    {
      "cell_type": "code",
      "source": [
        "A"
      ],
      "metadata": {
        "colab": {
          "base_uri": "https://localhost:8080/"
        },
        "id": "f-Q3p4NlngZA",
        "outputId": "0379a017-d787-41be-835d-701e27d7908c"
      },
      "execution_count": null,
      "outputs": [
        {
          "output_type": "execute_result",
          "data": {
            "text/plain": [
              "array([[ 1,  2, -1],\n",
              "       [ 1,  0,  1],\n",
              "       [ 4, -4,  5]])"
            ]
          },
          "metadata": {},
          "execution_count": 60
        }
      ]
    }
  ]
}