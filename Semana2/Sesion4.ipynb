{
  "nbformat": 4,
  "nbformat_minor": 0,
  "metadata": {
    "colab": {
      "provenance": [],
      "authorship_tag": "ABX9TyPdMfkiAWiUmpI174YNhlKo",
      "include_colab_link": true
    },
    "kernelspec": {
      "name": "python3",
      "display_name": "Python 3"
    },
    "language_info": {
      "name": "python"
    }
  },
  "cells": [
    {
      "cell_type": "markdown",
      "metadata": {
        "id": "view-in-github",
        "colab_type": "text"
      },
      "source": [
        "<a href=\"https://colab.research.google.com/github/asegura4488/MetodosComputacionales1/blob/main/Semana2/Sesion4.ipynb\" target=\"_parent\"><img src=\"https://colab.research.google.com/assets/colab-badge.svg\" alt=\"Open In Colab\"/></a>"
      ]
    },
    {
      "cell_type": "code",
      "execution_count": 73,
      "metadata": {
        "id": "SD9XfWe1LXzv"
      },
      "outputs": [],
      "source": [
        "import numpy as np\n",
        "import matplotlib.pyplot as plt\n",
        "from mpl_toolkits.mplot3d import Axes3D"
      ]
    },
    {
      "cell_type": "code",
      "source": [
        "x = np.array(42)\n",
        "x.shape"
      ],
      "metadata": {
        "colab": {
          "base_uri": "https://localhost:8080/"
        },
        "id": "isgVuTjALqrp",
        "outputId": "abce3e6e-b09a-4e5c-ce6a-fd2810202568"
      },
      "execution_count": null,
      "outputs": [
        {
          "output_type": "execute_result",
          "data": {
            "text/plain": [
              "()"
            ]
          },
          "metadata": {},
          "execution_count": 43
        }
      ]
    },
    {
      "cell_type": "code",
      "source": [
        "x.ndim"
      ],
      "metadata": {
        "colab": {
          "base_uri": "https://localhost:8080/"
        },
        "id": "pwNftgS3LukO",
        "outputId": "5dfb4349-2be1-4a89-8600-bcedc4e5e424"
      },
      "execution_count": null,
      "outputs": [
        {
          "output_type": "execute_result",
          "data": {
            "text/plain": [
              "0"
            ]
          },
          "metadata": {},
          "execution_count": 44
        }
      ]
    },
    {
      "cell_type": "code",
      "source": [
        "x = np.array([12, 3, 6, 14])\n",
        "x.shape"
      ],
      "metadata": {
        "colab": {
          "base_uri": "https://localhost:8080/"
        },
        "id": "g5cvCf_YLwvf",
        "outputId": "d629c416-4853-4405-989b-c9f6acb4f77f"
      },
      "execution_count": null,
      "outputs": [
        {
          "output_type": "execute_result",
          "data": {
            "text/plain": [
              "(4,)"
            ]
          },
          "metadata": {},
          "execution_count": 45
        }
      ]
    },
    {
      "cell_type": "code",
      "source": [
        "x.ndim"
      ],
      "metadata": {
        "colab": {
          "base_uri": "https://localhost:8080/"
        },
        "id": "5RMS7iZKL5Gw",
        "outputId": "0ce33fe2-93af-4e26-d299-a9683aec57a4"
      },
      "execution_count": null,
      "outputs": [
        {
          "output_type": "execute_result",
          "data": {
            "text/plain": [
              "1"
            ]
          },
          "metadata": {},
          "execution_count": 46
        }
      ]
    },
    {
      "cell_type": "code",
      "source": [
        "x.T.shape"
      ],
      "metadata": {
        "colab": {
          "base_uri": "https://localhost:8080/"
        },
        "id": "75uK6A3uL96g",
        "outputId": "82cfdd52-2254-4fe3-9fab-bb1dbcb6d5d8"
      },
      "execution_count": null,
      "outputs": [
        {
          "output_type": "execute_result",
          "data": {
            "text/plain": [
              "(4,)"
            ]
          },
          "metadata": {},
          "execution_count": 47
        }
      ]
    },
    {
      "cell_type": "code",
      "source": [
        "x = np.array([[3,4],[1,2]])\n",
        "x.shape"
      ],
      "metadata": {
        "colab": {
          "base_uri": "https://localhost:8080/"
        },
        "id": "HLSwgwmRMC1v",
        "outputId": "76f4a59c-6b9a-44f2-ce9d-29bff10c908b"
      },
      "execution_count": null,
      "outputs": [
        {
          "output_type": "execute_result",
          "data": {
            "text/plain": [
              "(2, 2)"
            ]
          },
          "metadata": {},
          "execution_count": 48
        }
      ]
    },
    {
      "cell_type": "code",
      "source": [
        "x.ndim"
      ],
      "metadata": {
        "colab": {
          "base_uri": "https://localhost:8080/"
        },
        "id": "XP8Kch8NMYOq",
        "outputId": "bb9956c8-fa0e-44e6-e791-2a48c83e0424"
      },
      "execution_count": null,
      "outputs": [
        {
          "output_type": "execute_result",
          "data": {
            "text/plain": [
              "2"
            ]
          },
          "metadata": {},
          "execution_count": 49
        }
      ]
    },
    {
      "cell_type": "code",
      "source": [
        "x = np.array([\n",
        "    [[1,2],[3,4],[0,0]],\n",
        "    [[5,6],[7,8],[0,0]],\n",
        "    [[4,3],[6,7],[0,0]]\n",
        "  ])\n",
        "x.shape"
      ],
      "metadata": {
        "colab": {
          "base_uri": "https://localhost:8080/"
        },
        "id": "JJH9I0yKMcy2",
        "outputId": "2e37ebf4-5b48-4b34-ac6f-3bb9407fc714"
      },
      "execution_count": 6,
      "outputs": [
        {
          "output_type": "execute_result",
          "data": {
            "text/plain": [
              "(3, 3, 2)"
            ]
          },
          "metadata": {},
          "execution_count": 6
        }
      ]
    },
    {
      "cell_type": "code",
      "source": [
        "#x[0].reshape(-1,1)"
      ],
      "metadata": {
        "id": "4YaZu6odNjcC"
      },
      "execution_count": 7,
      "outputs": []
    },
    {
      "cell_type": "code",
      "source": [
        "x[0]"
      ],
      "metadata": {
        "colab": {
          "base_uri": "https://localhost:8080/"
        },
        "id": "o1frJOc4RQrX",
        "outputId": "02d12bef-ca12-487f-eab2-03fe954c91cb"
      },
      "execution_count": 8,
      "outputs": [
        {
          "output_type": "execute_result",
          "data": {
            "text/plain": [
              "array([[1, 2],\n",
              "       [3, 4],\n",
              "       [0, 0]])"
            ]
          },
          "metadata": {},
          "execution_count": 8
        }
      ]
    },
    {
      "cell_type": "code",
      "source": [
        "x[0].reshape(2,3)#.shape"
      ],
      "metadata": {
        "colab": {
          "base_uri": "https://localhost:8080/"
        },
        "id": "aw3XcM8oN9Ky",
        "outputId": "ebec0711-098b-4a3c-9a42-d5c54463cdbb"
      },
      "execution_count": 9,
      "outputs": [
        {
          "output_type": "execute_result",
          "data": {
            "text/plain": [
              "array([[1, 2, 3],\n",
              "       [4, 0, 0]])"
            ]
          },
          "metadata": {},
          "execution_count": 9
        }
      ]
    },
    {
      "cell_type": "code",
      "source": [
        "x.reshape(-1,1)"
      ],
      "metadata": {
        "colab": {
          "base_uri": "https://localhost:8080/"
        },
        "id": "5kAQPrvyMl_v",
        "outputId": "76a2815a-e057-4589-faf1-f7b3ee799993"
      },
      "execution_count": 10,
      "outputs": [
        {
          "output_type": "execute_result",
          "data": {
            "text/plain": [
              "array([[1],\n",
              "       [2],\n",
              "       [3],\n",
              "       [4],\n",
              "       [0],\n",
              "       [0],\n",
              "       [5],\n",
              "       [6],\n",
              "       [7],\n",
              "       [8],\n",
              "       [0],\n",
              "       [0],\n",
              "       [4],\n",
              "       [3],\n",
              "       [6],\n",
              "       [7],\n",
              "       [0],\n",
              "       [0]])"
            ]
          },
          "metadata": {},
          "execution_count": 10
        }
      ]
    },
    {
      "cell_type": "code",
      "source": [
        "np.transpose(x)"
      ],
      "metadata": {
        "colab": {
          "base_uri": "https://localhost:8080/"
        },
        "id": "dPbwfbxlNXCD",
        "outputId": "0a899709-21da-4fac-ce3d-3ca4fc8edc5b"
      },
      "execution_count": 11,
      "outputs": [
        {
          "output_type": "execute_result",
          "data": {
            "text/plain": [
              "array([[[1, 5, 4],\n",
              "        [3, 7, 6],\n",
              "        [0, 0, 0]],\n",
              "\n",
              "       [[2, 6, 3],\n",
              "        [4, 8, 7],\n",
              "        [0, 0, 0]]])"
            ]
          },
          "metadata": {},
          "execution_count": 11
        }
      ]
    },
    {
      "cell_type": "code",
      "source": [
        "# Vamos a definir el conjunto de soporte:\n",
        "x = np.linspace(-1,1,100)\n",
        "#x"
      ],
      "metadata": {
        "id": "rAPyN617bnbe"
      },
      "execution_count": 49,
      "outputs": []
    },
    {
      "cell_type": "code",
      "source": [
        "def funcion(x,alpha=1):\n",
        "  return x**alpha"
      ],
      "metadata": {
        "id": "mucH99FDSCpT"
      },
      "execution_count": 42,
      "outputs": []
    },
    {
      "cell_type": "code",
      "source": [
        "y = funcion(x,1)"
      ],
      "metadata": {
        "id": "OUMEAmMTScAp"
      },
      "execution_count": 43,
      "outputs": []
    },
    {
      "cell_type": "code",
      "source": [
        "Data = np.zeros((len(x),4))\n",
        "Data[:,0] = x\n",
        "\n",
        "for i in range(1,4):\n",
        "  Data[:,i] = funcion(x,i)\n",
        "#np.round(Data,2)"
      ],
      "metadata": {
        "id": "-oVIgdtLUAeu"
      },
      "execution_count": 51,
      "outputs": []
    },
    {
      "cell_type": "code",
      "source": [
        "for i in range(1,4):\n",
        "  plt.scatter(Data[:,0],Data[:,i])"
      ],
      "metadata": {
        "colab": {
          "base_uri": "https://localhost:8080/",
          "height": 430
        },
        "id": "0xuolHPBSehF",
        "outputId": "9231c4e1-3f2e-46b8-8811-ba45f69dcf4b"
      },
      "execution_count": 52,
      "outputs": [
        {
          "output_type": "display_data",
          "data": {
            "text/plain": [
              "<Figure size 640x480 with 1 Axes>"
            ],
            "image/png": "[encoded data removed]"
          },
          "metadata": {}
        }
      ]
    },
    {
      "cell_type": "code",
      "source": [
        "N = 100\n",
        "x = np.linspace(-1,1,N)\n",
        "y = np.linspace(-1,1,N)\n",
        "X, Y = np.meshgrid(x,y)"
      ],
      "metadata": {
        "id": "8H4a_ISRSjDt"
      },
      "execution_count": 80,
      "outputs": []
    },
    {
      "cell_type": "code",
      "source": [
        "def funcion2(x,y):\n",
        "  return x**2 - y**2"
      ],
      "metadata": {
        "id": "Yk0YV18RXrfz"
      },
      "execution_count": 81,
      "outputs": []
    },
    {
      "cell_type": "code",
      "source": [
        "Z = np.zeros_like(X)"
      ],
      "metadata": {
        "id": "FmViSlUaX74_"
      },
      "execution_count": 82,
      "outputs": []
    },
    {
      "cell_type": "code",
      "source": [
        "# llenado la matriz\n",
        "for i in range(N):\n",
        "  for j in range(N):\n",
        "    Z[i,j] = funcion2(X[i,j],Y[i,j])"
      ],
      "metadata": {
        "id": "17GBM2z6Ydfr"
      },
      "execution_count": 83,
      "outputs": []
    },
    {
      "cell_type": "code",
      "source": [
        "#plt.scatter(X,Y)\n",
        "#plt.contour(X,Y,Z)"
      ],
      "metadata": {
        "id": "u653ophsWyDs"
      },
      "execution_count": 86,
      "outputs": []
    },
    {
      "cell_type": "code",
      "source": [
        "fig = plt.figure()\n",
        "ax = fig.add_subplot(223, projection='3d')\n",
        "ax.plot_surface(X,Y,Z,cmap='viridis')"
      ],
      "metadata": {
        "colab": {
          "base_uri": "https://localhost:8080/",
          "height": 246
        },
        "id": "xwi3TDq7Wz8b",
        "outputId": "5cd4cc38-8383-411b-f3b3-94969933ecaf"
      },
      "execution_count": 85,
      "outputs": [
        {
          "output_type": "execute_result",
          "data": {
            "text/plain": [
              "<mpl_toolkits.mplot3d.art3d.Poly3DCollection at 0x793b12c1ea10>"
            ]
          },
          "metadata": {},
          "execution_count": 85
        },
        {
          "output_type": "display_data",
          "data": {
            "text/plain": [
              "<Figure size 640x480 with 1 Axes>"
            ],
            "image/png": "[encoded data removed]"
          },
          "metadata": {}
        }
      ]
    },
    {
      "cell_type": "code",
      "source": [],
      "metadata": {
        "id": "SG6u2b6pZIbS"
      },
      "execution_count": null,
      "outputs": []
    }
  ]
}