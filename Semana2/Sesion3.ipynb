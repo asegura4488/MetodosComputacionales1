{
  "nbformat": 4,
  "nbformat_minor": 0,
  "metadata": {
    "colab": {
      "provenance": [],
      "authorship_tag": "ABX9TyOZbwLdh8kyH3+E6fjFj3m3",
      "include_colab_link": true
    },
    "kernelspec": {
      "name": "python3",
      "display_name": "Python 3"
    },
    "language_info": {
      "name": "python"
    }
  },
  "cells": [
    {
      "cell_type": "markdown",
      "metadata": {
        "id": "view-in-github",
        "colab_type": "text"
      },
      "source": [
        "<a href=\"https://colab.research.google.com/github/asegura4488/MetodosComputacionales1/blob/main/Semana2/Sesion3.ipynb\" target=\"_parent\"><img src=\"https://colab.research.google.com/assets/colab-badge.svg\" alt=\"Open In Colab\"/></a>"
      ]
    },
    {
      "cell_type": "code",
      "execution_count": 12,
      "metadata": {
        "id": "j0ShMRxx9VCU"
      },
      "outputs": [],
      "source": [
        "import numpy as np\n",
        "a = lambda n: 1/n"
      ]
    },
    {
      "cell_type": "code",
      "source": [
        "a(4)"
      ],
      "metadata": {
        "colab": {
          "base_uri": "https://localhost:8080/"
        },
        "id": "DVtLkQAE-DNu",
        "outputId": "e3aa90a2-011e-486f-e377-f1056ed7a157"
      },
      "execution_count": 13,
      "outputs": [
        {
          "output_type": "execute_result",
          "data": {
            "text/plain": [
              "0.25"
            ]
          },
          "metadata": {},
          "execution_count": 13
        }
      ]
    },
    {
      "cell_type": "code",
      "source": [
        "epsilon = 1e-10"
      ],
      "metadata": {
        "id": "7DTAqkeK-Mcw"
      },
      "execution_count": 14,
      "outputs": []
    },
    {
      "cell_type": "code",
      "source": [
        "diff = 4\n",
        "n = 1\n",
        "while diff > epsilon:\n",
        "    an = a(n)\n",
        "    am = a(n+1)\n",
        "   # print(an,am)\n",
        "    diff = np.abs(am-an)\n",
        "    n += 1\n",
        "    if diff < epsilon:\n",
        "        print(n)\n",
        "        break"
      ],
      "metadata": {
        "colab": {
          "base_uri": "https://localhost:8080/"
        },
        "id": "LSl31x-J-The",
        "outputId": "56b2bd7b-323c-4562-eb6d-78e00a08bb9a"
      },
      "execution_count": 15,
      "outputs": [
        {
          "output_type": "stream",
          "name": "stdout",
          "text": [
            "100001\n"
          ]
        }
      ]
    },
    {
      "cell_type": "code",
      "source": [
        "# Factoriales\n",
        "f = [1]*10\n",
        "\n",
        "for i in range(len(f)):\n",
        "  #print(i,f[i])\n",
        "  prod = 1\n",
        "  for j in range(1,i+1):\n",
        "    #print(i,j)\n",
        "    prod *= j\n",
        "  print('Factorial',prod)\n",
        "  f[i] = prod"
      ],
      "metadata": {
        "colab": {
          "base_uri": "https://localhost:8080/"
        },
        "id": "L-k8PIR0AJmZ",
        "outputId": "1fb8fbfe-9da4-49a4-deb6-43776c38c991"
      },
      "execution_count": 26,
      "outputs": [
        {
          "output_type": "stream",
          "name": "stdout",
          "text": [
            "Factorial 1\n",
            "Factorial 1\n",
            "Factorial 2\n",
            "Factorial 6\n",
            "Factorial 24\n",
            "Factorial 120\n",
            "Factorial 720\n",
            "Factorial 5040\n",
            "Factorial 40320\n",
            "Factorial 362880\n"
          ]
        }
      ]
    },
    {
      "cell_type": "code",
      "source": [
        "np.math.factorial(4)"
      ],
      "metadata": {
        "colab": {
          "base_uri": "https://localhost:8080/"
        },
        "id": "Evf-Z8Gq_MNR",
        "outputId": "e580bb7f-c9f3-4e34-8ec8-302d54b6ed4d"
      },
      "execution_count": 19,
      "outputs": [
        {
          "output_type": "stream",
          "name": "stderr",
          "text": [
            "<ipython-input-19-483173804809>:1: DeprecationWarning: `np.math` is a deprecated alias for the standard library `math` module (Deprecated Numpy 1.25). Replace usages of `np.math` with `math`\n",
            "  np.math.factorial(4)\n"
          ]
        },
        {
          "output_type": "execute_result",
          "data": {
            "text/plain": [
              "24"
            ]
          },
          "metadata": {},
          "execution_count": 19
        }
      ]
    },
    {
      "cell_type": "code",
      "source": [],
      "metadata": {
        "id": "xlz8K1HNCdWN"
      },
      "execution_count": null,
      "outputs": []
    }
  ]
}