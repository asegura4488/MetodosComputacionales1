{
  "nbformat": 4,
  "nbformat_minor": 0,
  "metadata": {
    "colab": {
      "provenance": [],
      "authorship_tag": "ABX9TyMZIGcXkLMXFWzwKZPm6y/w",
      "include_colab_link": true
    },
    "kernelspec": {
      "name": "python3",
      "display_name": "Python 3"
    },
    "language_info": {
      "name": "python"
    }
  },
  "cells": [
    {
      "cell_type": "markdown",
      "metadata": {
        "id": "view-in-github",
        "colab_type": "text"
      },
      "source": [
        "<a href=\"https://colab.research.google.com/github/asegura4488/MetodosComputacionales1/blob/main/Semana2/Sesion3.ipynb\" target=\"_parent\"><img src=\"https://colab.research.google.com/assets/colab-badge.svg\" alt=\"Open In Colab\"/></a>"
      ]
    },
    {
      "cell_type": "code",
      "execution_count": 12,
      "metadata": {
        "id": "j0ShMRxx9VCU"
      },
      "outputs": [],
      "source": [
        "import numpy as np\n",
        "a = lambda n: 1/n"
      ]
    },
    {
      "cell_type": "code",
      "source": [
        "a(4)"
      ],
      "metadata": {
        "colab": {
          "base_uri": "https://localhost:8080/"
        },
        "id": "DVtLkQAE-DNu",
        "outputId": "e3aa90a2-011e-486f-e377-f1056ed7a157"
      },
      "execution_count": 13,
      "outputs": [
        {
          "output_type": "execute_result",
          "data": {
            "text/plain": [
              "0.25"
            ]
          },
          "metadata": {},
          "execution_count": 13
        }
      ]
    },
    {
      "cell_type": "code",
      "source": [
        "epsilon = 1e-10"
      ],
      "metadata": {
        "id": "7DTAqkeK-Mcw"
      },
      "execution_count": 14,
      "outputs": []
    },
    {
      "cell_type": "code",
      "source": [
        "diff = 4\n",
        "n = 1\n",
        "while diff > epsilon:\n",
        "    an = a(n)\n",
        "    am = a(n+1)\n",
        "   # print(an,am)\n",
        "    diff = np.abs(am-an)\n",
        "    n += 1\n",
        "    if diff < epsilon:\n",
        "        print(n)\n",
        "        break"
      ],
      "metadata": {
        "colab": {
          "base_uri": "https://localhost:8080/"
        },
        "id": "LSl31x-J-The",
        "outputId": "56b2bd7b-323c-4562-eb6d-78e00a08bb9a"
      },
      "execution_count": 15,
      "outputs": [
        {
          "output_type": "stream",
          "name": "stdout",
          "text": [
            "100001\n"
          ]
        }
      ]
    },
    {
      "cell_type": "code",
      "source": [
        "# Factoriales\n",
        "f = [1]*10\n",
        "\n",
        "for i in range(len(f)):\n",
        "  #print(i,f[i])\n",
        "  prod = 1\n",
        "  for j in range(1,i+1):\n",
        "    #print(i,j)\n",
        "    prod *= j\n",
        "  print('Factorial',prod)\n",
        "  f[i] = prod"
      ],
      "metadata": {
        "colab": {
          "base_uri": "https://localhost:8080/"
        },
        "id": "L-k8PIR0AJmZ",
        "outputId": "1fb8fbfe-9da4-49a4-deb6-43776c38c991"
      },
      "execution_count": 26,
      "outputs": [
        {
          "output_type": "stream",
          "name": "stdout",
          "text": [
            "Factorial 1\n",
            "Factorial 1\n",
            "Factorial 2\n",
            "Factorial 6\n",
            "Factorial 24\n",
            "Factorial 120\n",
            "Factorial 720\n",
            "Factorial 5040\n",
            "Factorial 40320\n",
            "Factorial 362880\n"
          ]
        }
      ]
    },
    {
      "cell_type": "code",
      "source": [
        "np.math.factorial(4)"
      ],
      "metadata": {
        "colab": {
          "base_uri": "https://localhost:8080/"
        },
        "id": "Evf-Z8Gq_MNR",
        "outputId": "e580bb7f-c9f3-4e34-8ec8-302d54b6ed4d"
      },
      "execution_count": 19,
      "outputs": [
        {
          "output_type": "stream",
          "name": "stderr",
          "text": [
            "<ipython-input-19-483173804809>:1: DeprecationWarning: `np.math` is a deprecated alias for the standard library `math` module (Deprecated Numpy 1.25). Replace usages of `np.math` with `math`\n",
            "  np.math.factorial(4)\n"
          ]
        },
        {
          "output_type": "execute_result",
          "data": {
            "text/plain": [
              "24"
            ]
          },
          "metadata": {},
          "execution_count": 19
        }
      ]
    },
    {
      "cell_type": "code",
      "source": [
        "# Numpy\n",
        "f = np.zeros(12, dtype=int)\n",
        "for i in range(len(f)):\n",
        "  #print(i,f[i])\n",
        "  prod = 1\n",
        "  for j in range(1,i+1):\n",
        "    #print(i,j)\n",
        "    prod *= j\n",
        "  #print('Factorial',prod)\n",
        "  f[i] = prod\n",
        "f"
      ],
      "metadata": {
        "colab": {
          "base_uri": "https://localhost:8080/"
        },
        "id": "xlz8K1HNCdWN",
        "outputId": "c5bdf10b-3366-4435-d49c-0da70df2cc45"
      },
      "execution_count": 32,
      "outputs": [
        {
          "output_type": "execute_result",
          "data": {
            "text/plain": [
              "array([       1,        1,        2,        6,       24,      120,\n",
              "            720,     5040,    40320,   362880,  3628800, 39916800])"
            ]
          },
          "metadata": {},
          "execution_count": 32
        }
      ]
    },
    {
      "cell_type": "code",
      "source": [
        "A = [[1,2],[3,4]]\n",
        "A"
      ],
      "metadata": {
        "colab": {
          "base_uri": "https://localhost:8080/"
        },
        "id": "DT6ABfz6FL3g",
        "outputId": "302d0608-c065-4a54-c408-d5df9fd34588"
      },
      "execution_count": 33,
      "outputs": [
        {
          "output_type": "execute_result",
          "data": {
            "text/plain": [
              "[[1, 2], [3, 4]]"
            ]
          },
          "metadata": {},
          "execution_count": 33
        }
      ]
    },
    {
      "cell_type": "code",
      "source": [
        "B = [[1,4],[1,6]]\n",
        "B"
      ],
      "metadata": {
        "colab": {
          "base_uri": "https://localhost:8080/"
        },
        "id": "8Im73fd6FZJL",
        "outputId": "fd50200d-0820-42f0-ba87-fe3ffec56c93"
      },
      "execution_count": 34,
      "outputs": [
        {
          "output_type": "execute_result",
          "data": {
            "text/plain": [
              "[[1, 4], [1, 6]]"
            ]
          },
          "metadata": {},
          "execution_count": 34
        }
      ]
    },
    {
      "cell_type": "code",
      "source": [
        "# Algoritmo de multiplicar SIn USAR NUMPY"
      ],
      "metadata": {
        "id": "StOVmvlBF81_"
      },
      "execution_count": 37,
      "outputs": []
    },
    {
      "cell_type": "code",
      "source": [
        "C = [[0,0],[0,0]]"
      ],
      "metadata": {
        "id": "KnIVmuGhHv5y"
      },
      "execution_count": 42,
      "outputs": []
    },
    {
      "cell_type": "code",
      "source": [
        "C[0][0] = A[0][0]*B[0][0] + A[0][1]*B[1][0]\n",
        "C[0][1] = A[0][0]*B[0][1] + A[0][1]*B[1][1]"
      ],
      "metadata": {
        "id": "8tIRfEP8GM2c"
      },
      "execution_count": 45,
      "outputs": []
    },
    {
      "cell_type": "code",
      "source": [
        "for i in range(len(A[0])):\n",
        "  for j in range(len(A[0])):\n",
        "    Cij = 0\n",
        "    for k in range(len(A[0])):\n",
        "      Cij += A[i][k]*B[k][j]\n",
        "    C[i][j] = Cij\n",
        "    print(i,j)"
      ],
      "metadata": {
        "colab": {
          "base_uri": "https://localhost:8080/"
        },
        "id": "ZP2GAETnIVg5",
        "outputId": "44797013-337c-4130-b722-823ce253539b"
      },
      "execution_count": 49,
      "outputs": [
        {
          "output_type": "stream",
          "name": "stdout",
          "text": [
            "0 0\n",
            "0 1\n",
            "1 0\n",
            "1 1\n"
          ]
        }
      ]
    },
    {
      "cell_type": "code",
      "source": [
        "C"
      ],
      "metadata": {
        "colab": {
          "base_uri": "https://localhost:8080/"
        },
        "id": "kpPuX7J0HVHx",
        "outputId": "ab9e66dd-7a5b-463a-a23c-8350c5900318"
      },
      "execution_count": 50,
      "outputs": [
        {
          "output_type": "execute_result",
          "data": {
            "text/plain": [
              "[[3, 16], [7, 36]]"
            ]
          },
          "metadata": {},
          "execution_count": 50
        }
      ]
    },
    {
      "cell_type": "code",
      "source": [
        "A = np.array(A)\n",
        "B = np.array(B)\n",
        "A"
      ],
      "metadata": {
        "colab": {
          "base_uri": "https://localhost:8080/"
        },
        "id": "R1VFizWWH1C1",
        "outputId": "5a3dfd2d-8a73-4660-99a8-4046bedf4c99"
      },
      "execution_count": 52,
      "outputs": [
        {
          "output_type": "execute_result",
          "data": {
            "text/plain": [
              "array([[1, 2],\n",
              "       [3, 4]])"
            ]
          },
          "metadata": {},
          "execution_count": 52
        }
      ]
    },
    {
      "cell_type": "code",
      "source": [
        "B"
      ],
      "metadata": {
        "colab": {
          "base_uri": "https://localhost:8080/"
        },
        "id": "1chIXf4OJtcL",
        "outputId": "4bb55388-87af-42fa-9076-c63bfe0f2d67"
      },
      "execution_count": 53,
      "outputs": [
        {
          "output_type": "execute_result",
          "data": {
            "text/plain": [
              "array([[1, 4],\n",
              "       [1, 6]])"
            ]
          },
          "metadata": {},
          "execution_count": 53
        }
      ]
    },
    {
      "cell_type": "code",
      "source": [
        "np.dot(A,B)"
      ],
      "metadata": {
        "colab": {
          "base_uri": "https://localhost:8080/"
        },
        "id": "JB9ap_DGJ2YE",
        "outputId": "951272b0-d7ed-4b60-b324-6d9304c8cefd"
      },
      "execution_count": 54,
      "outputs": [
        {
          "output_type": "execute_result",
          "data": {
            "text/plain": [
              "array([[ 3, 16],\n",
              "       [ 7, 36]])"
            ]
          },
          "metadata": {},
          "execution_count": 54
        }
      ]
    },
    {
      "cell_type": "code",
      "source": [
        "A @ B"
      ],
      "metadata": {
        "colab": {
          "base_uri": "https://localhost:8080/"
        },
        "id": "9DT3F0oxJ79p",
        "outputId": "6f8ff9eb-822d-4f48-e90a-65d85d846b97"
      },
      "execution_count": 55,
      "outputs": [
        {
          "output_type": "execute_result",
          "data": {
            "text/plain": [
              "array([[ 3, 16],\n",
              "       [ 7, 36]])"
            ]
          },
          "metadata": {},
          "execution_count": 55
        }
      ]
    },
    {
      "cell_type": "code",
      "source": [
        "A.T"
      ],
      "metadata": {
        "colab": {
          "base_uri": "https://localhost:8080/"
        },
        "id": "qPeJKQvFKFaJ",
        "outputId": "65f3b72f-553a-421e-afa3-c1d8fdb9e14b"
      },
      "execution_count": 56,
      "outputs": [
        {
          "output_type": "execute_result",
          "data": {
            "text/plain": [
              "array([[1, 3],\n",
              "       [2, 4]])"
            ]
          },
          "metadata": {},
          "execution_count": 56
        }
      ]
    },
    {
      "cell_type": "code",
      "source": [],
      "metadata": {
        "id": "E2cnCAG8KSNn"
      },
      "execution_count": null,
      "outputs": []
    }
  ]
}