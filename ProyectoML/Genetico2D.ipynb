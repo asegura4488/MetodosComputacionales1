{
  "nbformat": 4,
  "nbformat_minor": 0,
  "metadata": {
    "colab": {
      "provenance": [],
      "authorship_tag": "ABX9TyOX6buM0Ra2/IjC/l7HngJo",
      "include_colab_link": true
    },
    "kernelspec": {
      "name": "python3",
      "display_name": "Python 3"
    },
    "language_info": {
      "name": "python"
    }
  },
  "cells": [
    {
      "cell_type": "markdown",
      "metadata": {
        "id": "view-in-github",
        "colab_type": "text"
      },
      "source": [
        "<a href=\"https://colab.research.google.com/github/asegura4488/MetodosComputacionales1/blob/main/ProyectoML/Genetico2D.ipynb\" target=\"_parent\"><img src=\"https://colab.research.google.com/assets/colab-badge.svg\" alt=\"Open In Colab\"/></a>"
      ]
    },
    {
      "cell_type": "code",
      "execution_count": 139,
      "metadata": {
        "id": "spGeFveVclGZ"
      },
      "outputs": [],
      "source": [
        "import numpy as np\n",
        "import matplotlib.pyplot as plt\n",
        "from IPython.display import clear_output\n",
        "import time\n",
        "import copy"
      ]
    },
    {
      "cell_type": "code",
      "source": [
        "def Plotter(e):\n",
        "\n",
        "  fig = plt.figure(figsize=(8,3))\n",
        "  ax = fig.add_subplot(121)\n",
        "  ax1 = fig.add_subplot(122)\n",
        "  ax.set_title('{:.0f}'.format(e),fontsize=10)\n",
        "\n",
        "  #ax.set_xlim(-6,6)\n",
        "  #ax.set_ylim(-6,6)\n",
        "\n",
        "  return ax,ax1"
      ],
      "metadata": {
        "id": "iqj5KCfkQ2Ic"
      },
      "execution_count": 289,
      "outputs": []
    },
    {
      "cell_type": "code",
      "source": [
        "class Robot:\n",
        "\n",
        "  # Definir el contructor\n",
        "  def __init__(self, f, rate ,Id=0):\n",
        "\n",
        "    # Id del robot\n",
        "    self.Id = Id\n",
        "    # Posicion robot\n",
        "    self.r = np.random.uniform(-5,5,size=2)\n",
        "    # Funcion a minimizar\n",
        "    self.f = f\n",
        "    # Fitness\n",
        "    self.Fitness = self.f(self.r[0],self.r[1])\n",
        "    # Mutation rate\n",
        "    self.rate = rate\n",
        "\n",
        "  # Setters\n",
        "  def SetR(self,r):\n",
        "    self.r = r\n",
        "\n",
        "  def SetFitness(self):\n",
        "    self.Fitness = self.f(self.r[0],self.r[1])\n",
        "\n",
        "  # Getters\n",
        "  def GetR(self):\n",
        "    return self.r\n",
        "\n",
        "  def GetFitness(self):\n",
        "    return self.Fitness\n",
        "\n",
        "  # Mutations\n",
        "  def Mutate(self):\n",
        "    self.r += np.random.normal(loc=0.,scale=self.rate,size=2)"
      ],
      "metadata": {
        "id": "MNou4qGucoi5"
      },
      "execution_count": 290,
      "outputs": []
    },
    {
      "cell_type": "code",
      "source": [
        "# funcion a minimizar\n",
        "f = lambda x,y: x**4 + y**4 - 2*(x-y)**2\n",
        "#f = lambda x,y: 14*x**2 - 2*x**3 + 2*y**2 + 4*x*y\n",
        "rate = 0.05"
      ],
      "metadata": {
        "id": "WixBMkYjZWmq"
      },
      "execution_count": 308,
      "outputs": []
    },
    {
      "cell_type": "code",
      "source": [
        "r1 = Robot(f,rate)\n",
        "r1.f(0.7,0.2)"
      ],
      "metadata": {
        "colab": {
          "base_uri": "https://localhost:8080/"
        },
        "id": "ybPMxO2ndJDT",
        "outputId": "a356721b-fdf3-4a48-bad3-934315854983"
      },
      "execution_count": 309,
      "outputs": [
        {
          "output_type": "execute_result",
          "data": {
            "text/plain": [
              "-0.2583"
            ]
          },
          "metadata": {},
          "execution_count": 309
        }
      ]
    },
    {
      "cell_type": "code",
      "source": [
        "def GetRobots(N):\n",
        "\n",
        "  Robots = []\n",
        "  for i in range(N):\n",
        "    r = Robot(f,rate,i)\n",
        "    Robots.append(r)\n",
        "\n",
        "  return Robots"
      ],
      "metadata": {
        "id": "KfiamOkPdLXA"
      },
      "execution_count": 310,
      "outputs": []
    },
    {
      "cell_type": "code",
      "source": [
        "def Genetic(Robots, epochs = 100):\n",
        "\n",
        "  # Fitness en cada evolucion\n",
        "  Fitness = np.array([])\n",
        "  N = int(0.8*len(Robots))\n",
        "\n",
        "  for e in range(epochs):\n",
        "\n",
        "    clear_output(wait = True)\n",
        "    print('Epoch: ',e)\n",
        "\n",
        "    #ax,ax1 = Plotter(e)\n",
        "\n",
        "    for i, p in enumerate(Robots):\n",
        "      p.Mutate()\n",
        "      p.SetFitness()\n",
        "\n",
        "    score = [ (p.Fitness, p) for p in Robots ]\n",
        "    #print(score)\n",
        "    score = sorted(score, key=lambda x: x[0], reverse=False) # De menor a mayor\n",
        "\n",
        "    Temp = [r[1] for i, r in enumerate(score) if i < N]\n",
        "\n",
        "    for i, r in enumerate(Robots):\n",
        "      j = i%N\n",
        "      Robots[i] = copy.deepcopy(Temp[j])\n",
        "\n",
        "    x = np.linspace(-5,5,50)\n",
        "    y = np.linspace(-5,5,50)\n",
        "    X,Y = np.meshgrid(x,y)\n",
        "    Z = np.zeros_like(X)\n",
        "    for i in range(len(x)):\n",
        "      for j in range(len(y)):\n",
        "        Z[i,j] = f(x[i],y[j])\n",
        "    #ax.contourf(X,Y,Z,cmap='jet')\n",
        "\n",
        "    # Pintar los robots\n",
        "    #for i, p in enumerate(Robots):\n",
        "    #  pos = p.GetR()\n",
        "    #  ax.scatter(pos[0], pos[1], marker='.' ,color='r')\n",
        "\n",
        "    # Pintal el fitness promedio\n",
        "    Fitness_ = [ p.GetFitness() for i, p in enumerate(Robots) ]\n",
        "    #print(Fitness_)\n",
        "    Fitness = np.append(Fitness, np.mean(Fitness_))\n",
        "    #ax1.plot(Fitness,color='k')\n",
        "    print(Fitness[-1])\n",
        "\n",
        "    #plt.show()\n",
        "    plt.pause(0.001)"
      ],
      "metadata": {
        "id": "vPsVvzELdj1i"
      },
      "execution_count": 311,
      "outputs": []
    },
    {
      "cell_type": "code",
      "source": [
        "Robots = GetRobots(500)\n",
        "Genetic(Robots)"
      ],
      "metadata": {
        "colab": {
          "base_uri": "https://localhost:8080/"
        },
        "id": "gjMNnTbvdrBv",
        "outputId": "f3071021-3ec7-432f-b645-42f402752f5b"
      },
      "execution_count": 318,
      "outputs": [
        {
          "output_type": "stream",
          "name": "stdout",
          "text": [
            "Epoch:  99\n",
            "-7.948078531802598\n"
          ]
        }
      ]
    },
    {
      "cell_type": "code",
      "source": [
        "Robots[0].GetR()"
      ],
      "metadata": {
        "id": "7-qYWFSge_YT",
        "colab": {
          "base_uri": "https://localhost:8080/"
        },
        "outputId": "7d165ef3-e52f-4013-a584-bcf397573677"
      },
      "execution_count": 319,
      "outputs": [
        {
          "output_type": "execute_result",
          "data": {
            "text/plain": [
              "array([-1.41865689,  1.41714044])"
            ]
          },
          "metadata": {},
          "execution_count": 319
        }
      ]
    },
    {
      "cell_type": "code",
      "source": [
        "for i, p in enumerate(Robots):\n",
        "  plt.scatter(p.GetR()[0],p.GetR()[1])"
      ],
      "metadata": {
        "id": "Ju1WN2HWQSSn",
        "colab": {
          "base_uri": "https://localhost:8080/",
          "height": 430
        },
        "outputId": "186ec82b-6942-4139-c208-3f1f18881aa0"
      },
      "execution_count": 320,
      "outputs": [
        {
          "output_type": "display_data",
          "data": {
            "text/plain": [
              "<Figure size 640x480 with 1 Axes>"
            ],
            "image/png": "[encoded data removed]"
          },
          "metadata": {}
        }
      ]
    },
    {
      "cell_type": "code",
      "source": [],
      "metadata": {
        "id": "b7dVnj5xkFoi"
      },
      "execution_count": 314,
      "outputs": []
    }
  ]
}