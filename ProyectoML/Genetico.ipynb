{
  "nbformat": 4,
  "nbformat_minor": 0,
  "metadata": {
    "colab": {
      "provenance": [],
      "authorship_tag": "ABX9TyM9a7/53JYd4grD3iMIczys",
      "include_colab_link": true
    },
    "kernelspec": {
      "name": "python3",
      "display_name": "Python 3"
    },
    "language_info": {
      "name": "python"
    }
  },
  "cells": [
    {
      "cell_type": "markdown",
      "metadata": {
        "id": "view-in-github",
        "colab_type": "text"
      },
      "source": [
        "<a href=\"https://colab.research.google.com/github/asegura4488/MetodosComputacionales1/blob/main/ProyectoML/Genetico.ipynb\" target=\"_parent\"><img src=\"https://colab.research.google.com/assets/colab-badge.svg\" alt=\"Open In Colab\"/></a>"
      ]
    },
    {
      "cell_type": "code",
      "execution_count": 31,
      "metadata": {
        "id": "spGeFveVclGZ"
      },
      "outputs": [],
      "source": [
        "import numpy as np\n",
        "import matplotlib.pyplot as plt\n",
        "from IPython.display import clear_output\n",
        "import time\n",
        "import copy"
      ]
    },
    {
      "cell_type": "code",
      "source": [
        "def Plotter(e):\n",
        "\n",
        "  fig = plt.figure(figsize=(8,3))\n",
        "  ax = fig.add_subplot(121)\n",
        "  ax1 = fig.add_subplot(122)\n",
        "  ax.set_title('{:.0f}'.format(e),fontsize=10)\n",
        "\n",
        "  return ax,ax1"
      ],
      "metadata": {
        "id": "iqj5KCfkQ2Ic"
      },
      "execution_count": 32,
      "outputs": []
    },
    {
      "cell_type": "code",
      "source": [
        "class Robot:\n",
        "\n",
        "  # Definir el contructor\n",
        "  def __init__(self, f, Id=0):\n",
        "    self.Id = Id\n",
        "    self.f = f\n",
        "\n",
        "    # Posicion robot\n",
        "    self.r = np.random.uniform(-1,1)\n",
        "\n",
        "  def Mutate(self):\n",
        "    self.r += np.random.normal(0,1)"
      ],
      "metadata": {
        "id": "MNou4qGucoi5"
      },
      "execution_count": 33,
      "outputs": []
    },
    {
      "cell_type": "code",
      "source": [
        "f = lambda x: x**2 + 10*np.sin(x)"
      ],
      "metadata": {
        "id": "BL3_deeHehYy"
      },
      "execution_count": 34,
      "outputs": []
    },
    {
      "cell_type": "code",
      "source": [
        "r1 = Robot(f)\n",
        "r1.f(0.1)"
      ],
      "metadata": {
        "colab": {
          "base_uri": "https://localhost:8080/"
        },
        "id": "ybPMxO2ndJDT",
        "outputId": "2e0d90fd-e977-495f-ff16-1fed310efeeb"
      },
      "execution_count": 35,
      "outputs": [
        {
          "output_type": "execute_result",
          "data": {
            "text/plain": [
              "1.0083341664682814"
            ]
          },
          "metadata": {},
          "execution_count": 35
        }
      ]
    },
    {
      "cell_type": "code",
      "source": [
        "def GetRobots(N):\n",
        "\n",
        "  Robots = []\n",
        "  for i in range(N):\n",
        "    r = Robot(f,i)\n",
        "    Robots.append(r)\n",
        "\n",
        "  return Robots\n"
      ],
      "metadata": {
        "id": "KfiamOkPdLXA"
      },
      "execution_count": 36,
      "outputs": []
    },
    {
      "cell_type": "code",
      "source": [
        "Robots = GetRobots(100)"
      ],
      "metadata": {
        "id": "js9h7yJBda4b"
      },
      "execution_count": 54,
      "outputs": []
    },
    {
      "cell_type": "code",
      "source": [
        "def Genetic(Robots, epochs = 30):\n",
        "\n",
        "  for e in range(epochs):\n",
        "\n",
        "    clear_output(wait = True)\n",
        "\n",
        "    ax,_ = Plotter(e)\n",
        "\n",
        "    R = np.array([])\n",
        "    for i in range(len(Robots)):\n",
        "      position = Robots[i].r\n",
        "      R = np.append(R,position)\n",
        "\n",
        "    for i in range(len(Robots)):\n",
        "      Robots[i].Mutate()\n",
        "    #print(position)\n",
        "    ax.scatter(R, f(R))\n",
        "\n",
        "\n",
        "    plt.show()"
      ],
      "metadata": {
        "id": "vPsVvzELdj1i"
      },
      "execution_count": 55,
      "outputs": []
    },
    {
      "cell_type": "code",
      "source": [
        "Genetic(Robots)"
      ],
      "metadata": {
        "colab": {
          "base_uri": "https://localhost:8080/",
          "height": 311
        },
        "id": "gjMNnTbvdrBv",
        "outputId": "78fae3b4-36d7-4c64-8613-0149408edba0"
      },
      "execution_count": 56,
      "outputs": [
        {
          "output_type": "display_data",
          "data": {
            "text/plain": [
              "<Figure size 800x300 with 2 Axes>"
            ],
            "image/png": "[encoded data removed]"
          },
          "metadata": {}
        }
      ]
    },
    {
      "cell_type": "code",
      "source": [],
      "metadata": {
        "id": "7-qYWFSge_YT"
      },
      "execution_count": 37,
      "outputs": []
    },
    {
      "cell_type": "code",
      "source": [],
      "metadata": {
        "id": "Ju1WN2HWQSSn"
      },
      "execution_count": null,
      "outputs": []
    }
  ]
}