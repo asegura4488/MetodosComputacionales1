{
  "nbformat": 4,
  "nbformat_minor": 0,
  "metadata": {
    "colab": {
      "provenance": [],
      "authorship_tag": "ABX9TyM4UQyO6ke2lvvHVGqq/agB",
      "include_colab_link": true
    },
    "kernelspec": {
      "name": "python3",
      "display_name": "Python 3"
    },
    "language_info": {
      "name": "python"
    }
  },
  "cells": [
    {
      "cell_type": "markdown",
      "metadata": {
        "id": "view-in-github",
        "colab_type": "text"
      },
      "source": [
        "<a href=\"https://colab.research.google.com/github/asegura4488/MetodosComputacionales1/blob/main/ProyectoML/Genetico.ipynb\" target=\"_parent\"><img src=\"https://colab.research.google.com/assets/colab-badge.svg\" alt=\"Open In Colab\"/></a>"
      ]
    },
    {
      "cell_type": "code",
      "execution_count": 32,
      "metadata": {
        "id": "spGeFveVclGZ"
      },
      "outputs": [],
      "source": [
        "import numpy as np\n",
        "import matplotlib.pyplot as plt\n",
        "from IPython.display import clear_output\n",
        "import time\n",
        "import copy"
      ]
    },
    {
      "cell_type": "code",
      "source": [
        "def Plotter(e):\n",
        "\n",
        "  fig = plt.figure(figsize=(8,3))\n",
        "  ax = fig.add_subplot(121)\n",
        "  ax1 = fig.add_subplot(122)\n",
        "  ax.set_title('{:.0f}'.format(e),fontsize=10)\n",
        "\n",
        "  return ax,ax1"
      ],
      "metadata": {
        "id": "iqj5KCfkQ2Ic"
      },
      "execution_count": 33,
      "outputs": []
    },
    {
      "cell_type": "code",
      "source": [
        "class Robot:\n",
        "\n",
        "  # Definir el contructor\n",
        "  def __init__(self, f, Id=0):\n",
        "\n",
        "    # Id del robot\n",
        "    self.Id = Id\n",
        "    # Posicion robot\n",
        "    self.r = np.random.uniform(-1,1)\n",
        "    # Funcion a minimizar\n",
        "    self.f = f\n",
        "    # Fitness\n",
        "    self.Fitness = self.f(self.r)\n",
        "\n",
        "  # Setters\n",
        "  def SetR(self,r):\n",
        "    self.r = r\n",
        "\n",
        "  def SetFitness(self):\n",
        "    self.Fitness = self.f(self.r)\n",
        "\n",
        "  # Getters\n",
        "  def GetR(self):\n",
        "    return self.r\n",
        "\n",
        "  def GetFitness(self):\n",
        "    return self.Fitness\n",
        "\n",
        "  # Mutations\n",
        "  def Mutate(self):\n",
        "    self.r += np.random.normal(0,0.1)"
      ],
      "metadata": {
        "id": "MNou4qGucoi5"
      },
      "execution_count": 34,
      "outputs": []
    },
    {
      "cell_type": "code",
      "source": [
        "f = lambda x: x**2 + 10*np.sin(x)"
      ],
      "metadata": {
        "id": "BL3_deeHehYy"
      },
      "execution_count": 35,
      "outputs": []
    },
    {
      "cell_type": "code",
      "source": [
        "r1 = Robot(f)\n",
        "r1.f(0.6)"
      ],
      "metadata": {
        "colab": {
          "base_uri": "https://localhost:8080/"
        },
        "id": "ybPMxO2ndJDT",
        "outputId": "92b6551a-9cc3-4496-df04-bddcf9857925"
      },
      "execution_count": 36,
      "outputs": [
        {
          "output_type": "execute_result",
          "data": {
            "text/plain": [
              "6.006424733950354"
            ]
          },
          "metadata": {},
          "execution_count": 36
        }
      ]
    },
    {
      "cell_type": "code",
      "source": [
        "def GetRobots(N):\n",
        "\n",
        "  Robots = []\n",
        "  for i in range(N):\n",
        "    r = Robot(f,i)\n",
        "    Robots.append(r)\n",
        "\n",
        "  return Robots"
      ],
      "metadata": {
        "id": "KfiamOkPdLXA"
      },
      "execution_count": 37,
      "outputs": []
    },
    {
      "cell_type": "code",
      "source": [
        "Robots = GetRobots(10)"
      ],
      "metadata": {
        "id": "js9h7yJBda4b"
      },
      "execution_count": 38,
      "outputs": []
    },
    {
      "cell_type": "code",
      "source": [],
      "metadata": {
        "id": "66CnkkVrTXz-"
      },
      "execution_count": 38,
      "outputs": []
    },
    {
      "cell_type": "code",
      "source": [
        "def Genetic(Robots, epochs = 30):\n",
        "\n",
        "  t = np.linspace(-2,2,50)\n",
        "  # Fitness en cada evolucion\n",
        "  Fitness = np.array([])\n",
        "\n",
        "  for e in range(epochs):\n",
        "\n",
        "    clear_output(wait = True)\n",
        "\n",
        "    ax,ax1 = Plotter(e)\n",
        "\n",
        "    for i, p in enumerate(Robots):\n",
        "      p.Mutate()\n",
        "      p.SetFitness()\n",
        "\n",
        "\n",
        "    #score = [ (p.Fitness, p) for p in Robots ]\n",
        "    #print(score[0][0])\n",
        "\n",
        "    # Pintar los robots\n",
        "    ax.plot(t,f(t),color='k')\n",
        "    for i, p in enumerate(Robots):\n",
        "      ax.scatter(p.GetR(), p.GetFitness(), marker='o' ,color='r')\n",
        "\n",
        "    # Pintal el fitness promedio\n",
        "    Fitness_ = [ p.GetFitness() for i, p in enumerate(Robots) ]\n",
        "    #print(Fitness_)\n",
        "    Fitness = np.append(Fitness, np.mean(Fitness_))\n",
        "    ax1.plot(Fitness,color='k')\n",
        "\n",
        "    plt.show()\n",
        "    plt.pause(0.001)"
      ],
      "metadata": {
        "id": "vPsVvzELdj1i"
      },
      "execution_count": 39,
      "outputs": []
    },
    {
      "cell_type": "code",
      "source": [
        "Genetic(Robots)"
      ],
      "metadata": {
        "colab": {
          "base_uri": "https://localhost:8080/",
          "height": 311
        },
        "id": "gjMNnTbvdrBv",
        "outputId": "49a38b41-72d0-41b1-ea9a-6c696a77e4de"
      },
      "execution_count": 40,
      "outputs": [
        {
          "output_type": "display_data",
          "data": {
            "text/plain": [
              "<Figure size 800x300 with 2 Axes>"
            ],
            "image/png": "[encoded data removed]"
          },
          "metadata": {}
        }
      ]
    },
    {
      "cell_type": "code",
      "source": [],
      "metadata": {
        "id": "7-qYWFSge_YT"
      },
      "execution_count": null,
      "outputs": []
    },
    {
      "cell_type": "code",
      "source": [],
      "metadata": {
        "id": "Ju1WN2HWQSSn"
      },
      "execution_count": null,
      "outputs": []
    }
  ]
}