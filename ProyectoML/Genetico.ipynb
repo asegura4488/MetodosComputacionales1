{
  "nbformat": 4,
  "nbformat_minor": 0,
  "metadata": {
    "colab": {
      "provenance": [],
      "authorship_tag": "ABX9TyOJPXLQOdDyFLN4IVq2KAhr",
      "include_colab_link": true
    },
    "kernelspec": {
      "name": "python3",
      "display_name": "Python 3"
    },
    "language_info": {
      "name": "python"
    }
  },
  "cells": [
    {
      "cell_type": "markdown",
      "metadata": {
        "id": "view-in-github",
        "colab_type": "text"
      },
      "source": [
        "<a href=\"https://colab.research.google.com/github/asegura4488/MetodosComputacionales1/blob/main/ProyectoML/Genetico.ipynb\" target=\"_parent\"><img src=\"https://colab.research.google.com/assets/colab-badge.svg\" alt=\"Open In Colab\"/></a>"
      ]
    },
    {
      "cell_type": "code",
      "execution_count": 4,
      "metadata": {
        "id": "spGeFveVclGZ"
      },
      "outputs": [],
      "source": [
        "import numpy as np\n",
        "import matplotlib.pyplot as plt\n",
        "from IPython.display import clear_output\n",
        "import time\n",
        "import copy"
      ]
    },
    {
      "cell_type": "code",
      "source": [
        "def Plotter(e):\n",
        "\n",
        "  fig = plt.figure(figsize=(8,3))\n",
        "  ax = fig.add_subplot(121)\n",
        "  ax1 = fig.add_subplot(122)\n",
        "  ax.set_title('{:.0f}'.format(e),fontsize=10)\n",
        "\n",
        "  return ax,ax1"
      ],
      "metadata": {
        "id": "iqj5KCfkQ2Ic"
      },
      "execution_count": 5,
      "outputs": []
    },
    {
      "cell_type": "code",
      "source": [
        "class Robot:\n",
        "\n",
        "  # Definir el contructor\n",
        "  def __init__(self, f, Id=0):\n",
        "    self.Id = Id\n",
        "    self.f = f\n",
        "\n",
        "    # Posicion robot\n",
        "    self.r = np.random.uniform(-1,1)\n",
        "\n",
        "  def Fitness(self):\n",
        "    return self.f(self.r)\n",
        "\n",
        "  def Mutate(self):\n",
        "    self.r += np.random.normal(0,0.1)"
      ],
      "metadata": {
        "id": "MNou4qGucoi5"
      },
      "execution_count": 24,
      "outputs": []
    },
    {
      "cell_type": "code",
      "source": [
        "f = lambda x: x**2 + 10*np.sin(x)"
      ],
      "metadata": {
        "id": "BL3_deeHehYy"
      },
      "execution_count": 25,
      "outputs": []
    },
    {
      "cell_type": "code",
      "source": [
        "r1 = Robot(f)\n",
        "r1.f(0.6)"
      ],
      "metadata": {
        "colab": {
          "base_uri": "https://localhost:8080/"
        },
        "id": "ybPMxO2ndJDT",
        "outputId": "bb727f7b-fcb6-44ac-ad2a-f8f51bd9a9cf"
      },
      "execution_count": 26,
      "outputs": [
        {
          "output_type": "execute_result",
          "data": {
            "text/plain": [
              "6.006424733950354"
            ]
          },
          "metadata": {},
          "execution_count": 26
        }
      ]
    },
    {
      "cell_type": "code",
      "source": [
        "def GetRobots(N):\n",
        "\n",
        "  Robots = []\n",
        "  for i in range(N):\n",
        "    r = Robot(f,i)\n",
        "    Robots.append(r)\n",
        "\n",
        "  return Robots\n"
      ],
      "metadata": {
        "id": "KfiamOkPdLXA"
      },
      "execution_count": 27,
      "outputs": []
    },
    {
      "cell_type": "code",
      "source": [
        "Robots = GetRobots(10)"
      ],
      "metadata": {
        "id": "js9h7yJBda4b"
      },
      "execution_count": 28,
      "outputs": []
    },
    {
      "cell_type": "code",
      "source": [
        "x1 = np.linspace(-2,2,50)"
      ],
      "metadata": {
        "id": "66CnkkVrTXz-"
      },
      "execution_count": 29,
      "outputs": []
    },
    {
      "cell_type": "code",
      "source": [
        "def Genetic(Robots, epochs = 30):\n",
        "\n",
        "  for e in range(epochs):\n",
        "\n",
        "    clear_output(wait = True)\n",
        "\n",
        "    ax,_ = Plotter(e)\n",
        "\n",
        "    for i, p in enumerate(Robots):\n",
        "      Robots[i].Fitness()\n",
        "\n",
        "    R = np.array([])\n",
        "    for i, p in enumerate(Robots):\n",
        "      position = p.r\n",
        "      R = np.append(R,position)\n",
        "\n",
        "    for i in range(len(Robots)):\n",
        "      Robots[i].Mutate()\n",
        "    #print(position)\n",
        "\n",
        "    score = [ (p.Fitness, p) for p in Robots ]\n",
        "    print(score)\n",
        "\n",
        "    ax.scatter(R, f(R))\n",
        "    ax.plot(x1,f(x1))\n",
        "\n",
        "    plt.show()"
      ],
      "metadata": {
        "id": "vPsVvzELdj1i"
      },
      "execution_count": 33,
      "outputs": []
    },
    {
      "cell_type": "code",
      "source": [
        "Genetic(Robots)"
      ],
      "metadata": {
        "colab": {
          "base_uri": "https://localhost:8080/",
          "height": 348
        },
        "id": "gjMNnTbvdrBv",
        "outputId": "dc52f40d-b8ee-4d9e-c07f-4965ee964483"
      },
      "execution_count": 34,
      "outputs": [
        {
          "output_type": "stream",
          "name": "stdout",
          "text": [
            "[(<bound method Robot.Fitness of <__main__.Robot object at 0x7d95c5d29c90>>, <__main__.Robot object at 0x7d95c5d29c90>), (<bound method Robot.Fitness of <__main__.Robot object at 0x7d95c5d8d650>>, <__main__.Robot object at 0x7d95c5d8d650>), (<bound method Robot.Fitness of <__main__.Robot object at 0x7d95c5d2a4d0>>, <__main__.Robot object at 0x7d95c5d2a4d0>), (<bound method Robot.Fitness of <__main__.Robot object at 0x7d95c5d28550>>, <__main__.Robot object at 0x7d95c5d28550>), (<bound method Robot.Fitness of <__main__.Robot object at 0x7d95c5d28490>>, <__main__.Robot object at 0x7d95c5d28490>), (<bound method Robot.Fitness of <__main__.Robot object at 0x7d95c5d2bf10>>, <__main__.Robot object at 0x7d95c5d2bf10>), (<bound method Robot.Fitness of <__main__.Robot object at 0x7d95c5d28790>>, <__main__.Robot object at 0x7d95c5d28790>), (<bound method Robot.Fitness of <__main__.Robot object at 0x7d95c5d2ad90>>, <__main__.Robot object at 0x7d95c5d2ad90>), (<bound method Robot.Fitness of <__main__.Robot object at 0x7d95c5d2a950>>, <__main__.Robot object at 0x7d95c5d2a950>), (<bound method Robot.Fitness of <__main__.Robot object at 0x7d95c5d28f10>>, <__main__.Robot object at 0x7d95c5d28f10>)]\n"
          ]
        },
        {
          "output_type": "display_data",
          "data": {
            "text/plain": [
              "<Figure size 800x300 with 2 Axes>"
            ],
            "image/png": "[encoded data removed]"
          },
          "metadata": {}
        }
      ]
    },
    {
      "cell_type": "code",
      "source": [],
      "metadata": {
        "id": "7-qYWFSge_YT"
      },
      "execution_count": null,
      "outputs": []
    },
    {
      "cell_type": "code",
      "source": [],
      "metadata": {
        "id": "Ju1WN2HWQSSn"
      },
      "execution_count": null,
      "outputs": []
    }
  ]
}