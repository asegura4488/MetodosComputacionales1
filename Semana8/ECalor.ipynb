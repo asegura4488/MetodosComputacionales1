{
  "nbformat": 4,
  "nbformat_minor": 0,
  "metadata": {
    "colab": {
      "provenance": [],
      "authorship_tag": "ABX9TyN6EbcEPLu2mtYr5647uCDI",
      "include_colab_link": true
    },
    "kernelspec": {
      "name": "python3",
      "display_name": "Python 3"
    },
    "language_info": {
      "name": "python"
    }
  },
  "cells": [
    {
      "cell_type": "markdown",
      "metadata": {
        "id": "view-in-github",
        "colab_type": "text"
      },
      "source": [
        "<a href=\"https://colab.research.google.com/github/asegura4488/MetodosComputacionales1/blob/main/Semana8/ECalor.ipynb\" target=\"_parent\"><img src=\"https://colab.research.google.com/assets/colab-badge.svg\" alt=\"Open In Colab\"/></a>"
      ]
    },
    {
      "cell_type": "code",
      "execution_count": 1,
      "metadata": {
        "id": "9u6CR3fFoqfJ"
      },
      "outputs": [],
      "source": [
        "import numpy as np\n",
        "import matplotlib.pyplot as plt"
      ]
    },
    {
      "cell_type": "code",
      "source": [
        "x = np.linspace(0,1,10)\n",
        "x"
      ],
      "metadata": {
        "colab": {
          "base_uri": "https://localhost:8080/"
        },
        "id": "NX2wpTj4ovCA",
        "outputId": "1b00702b-9816-48de-e485-f3ebf90e802c"
      },
      "execution_count": 11,
      "outputs": [
        {
          "output_type": "execute_result",
          "data": {
            "text/plain": [
              "array([0.        , 0.11111111, 0.22222222, 0.33333333, 0.44444444,\n",
              "       0.55555556, 0.66666667, 0.77777778, 0.88888889, 1.        ])"
            ]
          },
          "metadata": {},
          "execution_count": 11
        }
      ]
    },
    {
      "cell_type": "code",
      "source": [
        "T = np.zeros_like(x)\n",
        "# Condiciones de frontera\n",
        "T[0] = 10\n",
        "T[-1] = 100\n",
        "T"
      ],
      "metadata": {
        "colab": {
          "base_uri": "https://localhost:8080/"
        },
        "id": "mT11QDkioyGO",
        "outputId": "1682b3db-9741-461f-903e-992487e37d68"
      },
      "execution_count": 12,
      "outputs": [
        {
          "output_type": "execute_result",
          "data": {
            "text/plain": [
              "array([ 10.,   0.,   0.,   0.,   0.,   0.,   0.,   0.,   0., 100.])"
            ]
          },
          "metadata": {},
          "execution_count": 12
        }
      ]
    },
    {
      "cell_type": "code",
      "source": [
        "A = np.zeros((x.shape[0]-2,x.shape[0]-2))\n",
        "A"
      ],
      "metadata": {
        "id": "Y_KOy_oNo5i2",
        "colab": {
          "base_uri": "https://localhost:8080/"
        },
        "outputId": "35defc87-ffe5-4957-cfdb-e2f1d8beea0e"
      },
      "execution_count": 13,
      "outputs": [
        {
          "output_type": "execute_result",
          "data": {
            "text/plain": [
              "array([[0., 0., 0., 0., 0., 0., 0., 0.],\n",
              "       [0., 0., 0., 0., 0., 0., 0., 0.],\n",
              "       [0., 0., 0., 0., 0., 0., 0., 0.],\n",
              "       [0., 0., 0., 0., 0., 0., 0., 0.],\n",
              "       [0., 0., 0., 0., 0., 0., 0., 0.],\n",
              "       [0., 0., 0., 0., 0., 0., 0., 0.],\n",
              "       [0., 0., 0., 0., 0., 0., 0., 0.],\n",
              "       [0., 0., 0., 0., 0., 0., 0., 0.]])"
            ]
          },
          "metadata": {},
          "execution_count": 13
        }
      ]
    },
    {
      "cell_type": "code",
      "source": [
        "b = np.zeros(x.shape[0]-2)\n",
        "b[0] = -T[0]\n",
        "b[-1] = -T[-1]\n",
        "b"
      ],
      "metadata": {
        "id": "KzpTZ1xro5m_",
        "colab": {
          "base_uri": "https://localhost:8080/"
        },
        "outputId": "47f9e07a-a3fe-4aa2-b6b9-1dc5eaa5dad1"
      },
      "execution_count": 14,
      "outputs": [
        {
          "output_type": "execute_result",
          "data": {
            "text/plain": [
              "array([ -10.,    0.,    0.,    0.,    0.,    0.,    0., -100.])"
            ]
          },
          "metadata": {},
          "execution_count": 14
        }
      ]
    },
    {
      "cell_type": "code",
      "source": [
        "A[0,0] = -2\n",
        "A[0,1] = 1\n",
        "A[-1,-1] = -2\n",
        "A[-1,-2] = 1\n",
        "A"
      ],
      "metadata": {
        "colab": {
          "base_uri": "https://localhost:8080/"
        },
        "id": "uTKBI7UQWBiQ",
        "outputId": "2034542c-bae1-4964-9196-2d71bffb9a1e"
      },
      "execution_count": 15,
      "outputs": [
        {
          "output_type": "execute_result",
          "data": {
            "text/plain": [
              "array([[-2.,  1.,  0.,  0.,  0.,  0.,  0.,  0.],\n",
              "       [ 0.,  0.,  0.,  0.,  0.,  0.,  0.,  0.],\n",
              "       [ 0.,  0.,  0.,  0.,  0.,  0.,  0.,  0.],\n",
              "       [ 0.,  0.,  0.,  0.,  0.,  0.,  0.,  0.],\n",
              "       [ 0.,  0.,  0.,  0.,  0.,  0.,  0.,  0.],\n",
              "       [ 0.,  0.,  0.,  0.,  0.,  0.,  0.,  0.],\n",
              "       [ 0.,  0.,  0.,  0.,  0.,  0.,  0.,  0.],\n",
              "       [ 0.,  0.,  0.,  0.,  0.,  0.,  1., -2.]])"
            ]
          },
          "metadata": {},
          "execution_count": 15
        }
      ]
    },
    {
      "cell_type": "code",
      "source": [
        "for i in range(1,A.shape[0]-1):\n",
        "  for j in range(1,A.shape[1]-1):\n",
        "    if i == j:\n",
        "      A[i,j] = -2\n",
        "      A[i,i-1] = 1\n",
        "      A[i,i+1] = 1"
      ],
      "metadata": {
        "id": "cC_shKEQWBlO"
      },
      "execution_count": 16,
      "outputs": []
    },
    {
      "cell_type": "code",
      "source": [
        "A"
      ],
      "metadata": {
        "colab": {
          "base_uri": "https://localhost:8080/"
        },
        "id": "ibdG74ptWdEY",
        "outputId": "8b010f7a-a400-47c2-ba17-3dba7f5045d8"
      },
      "execution_count": 17,
      "outputs": [
        {
          "output_type": "execute_result",
          "data": {
            "text/plain": [
              "array([[-2.,  1.,  0.,  0.,  0.,  0.,  0.,  0.],\n",
              "       [ 1., -2.,  1.,  0.,  0.,  0.,  0.,  0.],\n",
              "       [ 0.,  1., -2.,  1.,  0.,  0.,  0.,  0.],\n",
              "       [ 0.,  0.,  1., -2.,  1.,  0.,  0.,  0.],\n",
              "       [ 0.,  0.,  0.,  1., -2.,  1.,  0.,  0.],\n",
              "       [ 0.,  0.,  0.,  0.,  1., -2.,  1.,  0.],\n",
              "       [ 0.,  0.,  0.,  0.,  0.,  1., -2.,  1.],\n",
              "       [ 0.,  0.,  0.,  0.,  0.,  0.,  1., -2.]])"
            ]
          },
          "metadata": {},
          "execution_count": 17
        }
      ]
    },
    {
      "cell_type": "code",
      "source": [
        "def GaussSeidel(A,b,x0, itmax = 10000, tolerancia = 1e-10):\n",
        "\n",
        "  x = x0.copy()\n",
        "\n",
        "  for it in range(itmax):\n",
        "\n",
        "    # Hacemos una copia del vector x\n",
        "    x_new = np.copy(x)\n",
        "\n",
        "    for i in range(A.shape[0]):\n",
        "\n",
        "      # Contabilizamos la suma del iterador\n",
        "      Suma = 0.\n",
        "      for j in range(A.shape[1]):\n",
        "        if i != j:\n",
        "          Suma += A[i,j]*x_new[j]\n",
        "          # La diferencia radica en que ahora la suma es\n",
        "          # calcula usando x_new recien actualizado\n",
        "        x_new[i] = (b[i] - Suma)/A[i,i]\n",
        "\n",
        "    #print(x_new)\n",
        "\n",
        "    # Criterio de convergencia\n",
        "    if np.linalg.norm( np.dot(A,x_new)-b) < tolerancia:\n",
        "      break\n",
        "\n",
        "    x = np.copy(x_new)\n",
        "\n",
        "  print(it)\n",
        "\n",
        "  return x, it"
      ],
      "metadata": {
        "id": "2UGaXLYfoz0M"
      },
      "execution_count": null,
      "outputs": []
    },
    {
      "cell_type": "code",
      "source": [
        "plt.plot(x,T)\n",
        "plt.scatter(x,T,color='r')"
      ],
      "metadata": {
        "id": "sRCVXGzVo6X0",
        "outputId": "9d998f86-d002-411d-87ae-2efdc6dc3f17",
        "colab": {
          "base_uri": "https://localhost:8080/",
          "height": 447
        }
      },
      "execution_count": 4,
      "outputs": [
        {
          "output_type": "execute_result",
          "data": {
            "text/plain": [
              "<matplotlib.collections.PathCollection at 0x784de4c57f50>"
            ]
          },
          "metadata": {},
          "execution_count": 4
        },
        {
          "output_type": "display_data",
          "data": {
            "text/plain": [
              "<Figure size 640x480 with 1 Axes>"
            ],
            "image/png": "[encoded data removed]"
          },
          "metadata": {}
        }
      ]
    },
    {
      "cell_type": "code",
      "source": [],
      "metadata": {
        "id": "eB1yAuW6o8wP"
      },
      "execution_count": null,
      "outputs": []
    }
  ]
}