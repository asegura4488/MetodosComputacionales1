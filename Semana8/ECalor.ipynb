{
  "nbformat": 4,
  "nbformat_minor": 0,
  "metadata": {
    "colab": {
      "provenance": [],
      "authorship_tag": "ABX9TyNoJGRmaDXGjltEAULn5ren",
      "include_colab_link": true
    },
    "kernelspec": {
      "name": "python3",
      "display_name": "Python 3"
    },
    "language_info": {
      "name": "python"
    }
  },
  "cells": [
    {
      "cell_type": "markdown",
      "metadata": {
        "id": "view-in-github",
        "colab_type": "text"
      },
      "source": [
        "<a href=\"https://colab.research.google.com/github/asegura4488/MetodosComputacionales1/blob/main/Semana8/ECalor.ipynb\" target=\"_parent\"><img src=\"https://colab.research.google.com/assets/colab-badge.svg\" alt=\"Open In Colab\"/></a>"
      ]
    },
    {
      "cell_type": "code",
      "execution_count": 1,
      "metadata": {
        "id": "9u6CR3fFoqfJ"
      },
      "outputs": [],
      "source": [
        "import numpy as np\n",
        "import matplotlib.pyplot as plt"
      ]
    },
    {
      "cell_type": "code",
      "source": [
        "x = np.linspace(0,1,100)\n",
        "#x"
      ],
      "metadata": {
        "id": "NX2wpTj4ovCA"
      },
      "execution_count": 26,
      "outputs": []
    },
    {
      "cell_type": "code",
      "source": [
        "T = np.zeros_like(x)\n",
        "# Condiciones de frontera\n",
        "T[0] = 10\n",
        "T[-1] = 100\n",
        "T"
      ],
      "metadata": {
        "colab": {
          "base_uri": "https://localhost:8080/"
        },
        "id": "mT11QDkioyGO",
        "outputId": "db238515-d9c7-4ec6-bc7c-e4c08122b754"
      },
      "execution_count": 27,
      "outputs": [
        {
          "output_type": "execute_result",
          "data": {
            "text/plain": [
              "array([ 10.,   0.,   0.,   0.,   0.,   0.,   0.,   0.,   0.,   0.,   0.,\n",
              "         0.,   0.,   0.,   0.,   0.,   0.,   0.,   0.,   0.,   0.,   0.,\n",
              "         0.,   0.,   0.,   0.,   0.,   0.,   0.,   0.,   0.,   0.,   0.,\n",
              "         0.,   0.,   0.,   0.,   0.,   0.,   0.,   0.,   0.,   0.,   0.,\n",
              "         0.,   0.,   0.,   0.,   0.,   0.,   0.,   0.,   0.,   0.,   0.,\n",
              "         0.,   0.,   0.,   0.,   0.,   0.,   0.,   0.,   0.,   0.,   0.,\n",
              "         0.,   0.,   0.,   0.,   0.,   0.,   0.,   0.,   0.,   0.,   0.,\n",
              "         0.,   0.,   0.,   0.,   0.,   0.,   0.,   0.,   0.,   0.,   0.,\n",
              "         0.,   0.,   0.,   0.,   0.,   0.,   0.,   0.,   0.,   0.,   0.,\n",
              "       100.])"
            ]
          },
          "metadata": {},
          "execution_count": 27
        }
      ]
    },
    {
      "cell_type": "code",
      "source": [
        "A = np.zeros((x.shape[0]-2,x.shape[0]-2))\n",
        "A"
      ],
      "metadata": {
        "id": "Y_KOy_oNo5i2",
        "colab": {
          "base_uri": "https://localhost:8080/"
        },
        "outputId": "36cb7655-1fd6-4b6b-b5f9-f21bf4415f89"
      },
      "execution_count": 28,
      "outputs": [
        {
          "output_type": "execute_result",
          "data": {
            "text/plain": [
              "array([[0., 0., 0., ..., 0., 0., 0.],\n",
              "       [0., 0., 0., ..., 0., 0., 0.],\n",
              "       [0., 0., 0., ..., 0., 0., 0.],\n",
              "       ...,\n",
              "       [0., 0., 0., ..., 0., 0., 0.],\n",
              "       [0., 0., 0., ..., 0., 0., 0.],\n",
              "       [0., 0., 0., ..., 0., 0., 0.]])"
            ]
          },
          "metadata": {},
          "execution_count": 28
        }
      ]
    },
    {
      "cell_type": "code",
      "source": [
        "b = np.zeros(x.shape[0]-2)\n",
        "b[0] = -T[0]\n",
        "b[-1] = -T[-1]\n",
        "b"
      ],
      "metadata": {
        "id": "KzpTZ1xro5m_",
        "colab": {
          "base_uri": "https://localhost:8080/"
        },
        "outputId": "59e00ab9-52fa-46f6-9b1a-eaba5bd3bdfa"
      },
      "execution_count": 29,
      "outputs": [
        {
          "output_type": "execute_result",
          "data": {
            "text/plain": [
              "array([ -10.,    0.,    0.,    0.,    0.,    0.,    0.,    0.,    0.,\n",
              "          0.,    0.,    0.,    0.,    0.,    0.,    0.,    0.,    0.,\n",
              "          0.,    0.,    0.,    0.,    0.,    0.,    0.,    0.,    0.,\n",
              "          0.,    0.,    0.,    0.,    0.,    0.,    0.,    0.,    0.,\n",
              "          0.,    0.,    0.,    0.,    0.,    0.,    0.,    0.,    0.,\n",
              "          0.,    0.,    0.,    0.,    0.,    0.,    0.,    0.,    0.,\n",
              "          0.,    0.,    0.,    0.,    0.,    0.,    0.,    0.,    0.,\n",
              "          0.,    0.,    0.,    0.,    0.,    0.,    0.,    0.,    0.,\n",
              "          0.,    0.,    0.,    0.,    0.,    0.,    0.,    0.,    0.,\n",
              "          0.,    0.,    0.,    0.,    0.,    0.,    0.,    0.,    0.,\n",
              "          0.,    0.,    0.,    0.,    0.,    0.,    0., -100.])"
            ]
          },
          "metadata": {},
          "execution_count": 29
        }
      ]
    },
    {
      "cell_type": "code",
      "source": [
        "A[0,0] = -2\n",
        "A[0,1] = 1\n",
        "A[-1,-1] = -2\n",
        "A[-1,-2] = 1\n",
        "A"
      ],
      "metadata": {
        "colab": {
          "base_uri": "https://localhost:8080/"
        },
        "id": "uTKBI7UQWBiQ",
        "outputId": "3b468ddb-f636-432a-f862-7e659d2c66d1"
      },
      "execution_count": 30,
      "outputs": [
        {
          "output_type": "execute_result",
          "data": {
            "text/plain": [
              "array([[-2.,  1.,  0., ...,  0.,  0.,  0.],\n",
              "       [ 0.,  0.,  0., ...,  0.,  0.,  0.],\n",
              "       [ 0.,  0.,  0., ...,  0.,  0.,  0.],\n",
              "       ...,\n",
              "       [ 0.,  0.,  0., ...,  0.,  0.,  0.],\n",
              "       [ 0.,  0.,  0., ...,  0.,  0.,  0.],\n",
              "       [ 0.,  0.,  0., ...,  0.,  1., -2.]])"
            ]
          },
          "metadata": {},
          "execution_count": 30
        }
      ]
    },
    {
      "cell_type": "code",
      "source": [
        "for i in range(1,A.shape[0]-1):\n",
        "  for j in range(1,A.shape[1]-1):\n",
        "    if i == j:\n",
        "      A[i,j] = -2\n",
        "      A[i,i-1] = 1\n",
        "      A[i,i+1] = 1"
      ],
      "metadata": {
        "id": "cC_shKEQWBlO"
      },
      "execution_count": 31,
      "outputs": []
    },
    {
      "cell_type": "code",
      "source": [
        "A"
      ],
      "metadata": {
        "colab": {
          "base_uri": "https://localhost:8080/"
        },
        "id": "ibdG74ptWdEY",
        "outputId": "8953cbfe-086d-4137-e79e-cb43fdac5698"
      },
      "execution_count": 32,
      "outputs": [
        {
          "output_type": "execute_result",
          "data": {
            "text/plain": [
              "array([[-2.,  1.,  0., ...,  0.,  0.,  0.],\n",
              "       [ 1., -2.,  1., ...,  0.,  0.,  0.],\n",
              "       [ 0.,  1., -2., ...,  0.,  0.,  0.],\n",
              "       ...,\n",
              "       [ 0.,  0.,  0., ..., -2.,  1.,  0.],\n",
              "       [ 0.,  0.,  0., ...,  1., -2.,  1.],\n",
              "       [ 0.,  0.,  0., ...,  0.,  1., -2.]])"
            ]
          },
          "metadata": {},
          "execution_count": 32
        }
      ]
    },
    {
      "cell_type": "code",
      "source": [
        "# trampa\n",
        "#np.linalg.solve(A,b)\n"
      ],
      "metadata": {
        "id": "aouG5Qk0W5Ui"
      },
      "execution_count": 34,
      "outputs": []
    },
    {
      "cell_type": "code",
      "source": [
        "def GaussSeidel(A,b,x0, itmax = 10000, tolerancia = 1e-3):\n",
        "\n",
        "  x = x0.copy()\n",
        "\n",
        "  for it in range(itmax):\n",
        "\n",
        "    # Hacemos una copia del vector x\n",
        "    x_new = np.copy(x)\n",
        "\n",
        "    for i in range(A.shape[0]):\n",
        "\n",
        "      # Contabilizamos la suma del iterador\n",
        "      Suma = 0.\n",
        "      for j in range(A.shape[1]):\n",
        "        if i != j:\n",
        "          Suma += A[i,j]*x_new[j]\n",
        "          # La diferencia radica en que ahora la suma es\n",
        "          # calcula usando x_new recien actualizado\n",
        "        x_new[i] = (b[i] - Suma)/A[i,i]\n",
        "\n",
        "    #print(x_new)\n",
        "\n",
        "    if it%100 ==0:\n",
        "      print(it, np.linalg.norm( np.dot(A,x_new)-b))\n",
        "    # Criterio de convergencia\n",
        "    if np.linalg.norm( np.dot(A,x_new)-b) < tolerancia:\n",
        "      break\n",
        "\n",
        "    x = np.copy(x_new)\n",
        "\n",
        "  print(it)\n",
        "\n",
        "  return x, it"
      ],
      "metadata": {
        "id": "2UGaXLYfoz0M"
      },
      "execution_count": 37,
      "outputs": []
    },
    {
      "cell_type": "code",
      "source": [
        "T0 = np.zeros(T.shape[0]-2)\n",
        "Tf,_ = GaussSeidel(A,b,T0)\n",
        "Tf"
      ],
      "metadata": {
        "colab": {
          "base_uri": "https://localhost:8080/"
        },
        "id": "sBzBnWEeXL_v",
        "outputId": "55e5f3eb-ded9-48f4-d5c9-ac9d759738cd"
      },
      "execution_count": 38,
      "outputs": [
        {
          "output_type": "stream",
          "name": "stdout",
          "text": [
            "0 50.083264004389065\n",
            "100 1.0367559170329819\n",
            "200 0.6143910220151042\n",
            "300 0.4595604254412014\n",
            "400 0.37737276318132573\n",
            "500 0.3239302725918075\n",
            "600 0.28468103258291083\n",
            "700 0.2535042441480868\n",
            "800 0.22740737469958386\n",
            "900 0.20481566769974827\n",
            "1000 0.18485905148779122\n",
            "1100 0.1670269885666932\n",
            "1200 0.15099416473737998\n",
            "1300 0.13653250606130282\n",
            "1400 0.12346714190442884\n",
            "1500 0.11165444390182322\n",
            "1600 0.10097099406244087\n",
            "1700 0.09130790171493079\n",
            "1800 0.0825677186379457\n",
            "1900 0.07466261389784419\n",
            "2000 0.06751316462909669\n",
            "2100 0.061047456659095736\n",
            "2200 0.055200351086515304\n",
            "2300 0.04991284981012642\n",
            "2400 0.045131528846188686\n",
            "2500 0.04080802460953613\n",
            "2600 0.036898565559134226\n",
            "2700 0.03336354467614599\n",
            "2800 0.030167129479662647\n",
            "2900 0.027276906762485256\n",
            "3000 0.024663559421062804\n",
            "3100 0.02230057286299371\n",
            "3200 0.020163968574424925\n",
            "3300 0.01823206254580765\n",
            "3400 0.016485246385609977\n",
            "3500 0.014905789094821055\n",
            "3600 0.013477657623281614\n",
            "3700 0.012186354476925577\n",
            "3800 0.011018770788588672\n",
            "3900 0.00996305340226378\n",
            "4000 0.009008484649041098\n",
            "4100 0.00814537361325096\n",
            "4200 0.007364957797050728\n",
            "4300 0.00665931419393273\n",
            "4400 0.0060212788734245945\n",
            "4500 0.0054443742651196355\n",
            "4600 0.00492274340538026\n",
            "4700 0.004451090481735344\n",
            "4800 0.004024627071884371\n",
            "4900 0.0036390235323235215\n",
            "5000 0.003290365044013523\n",
            "5100 0.0029751118685327335\n",
            "5200 0.0026900634120118846\n",
            "5300 0.0024323257317455556\n",
            "5400 0.0021992821559514396\n",
            "5500 0.0019885667184549997\n",
            "5600 0.0017980401383494065\n",
            "5700 0.001625768101247877\n",
            "5800 0.0014700016212099963\n",
            "5900 0.001329159284348347\n",
            "6000 0.001201811193570518\n",
            "6100 0.001086664451616927\n",
            "6183\n"
          ]
        },
        {
          "output_type": "execute_result",
          "data": {
            "text/plain": [
              "array([10.90450292, 11.80901507, 12.71354106, 13.61808547, 14.52265285,\n",
              "       15.42724775, 16.33187465, 17.23653801, 18.14124226, 19.04599178,\n",
              "       19.95079088, 20.85564384, 21.76055487, 22.66552812, 23.57056766,\n",
              "       24.47567752, 25.38086163, 26.28612385, 27.19146795, 28.09689763,\n",
              "       29.00241647, 29.90802799, 30.8137356 , 31.71954261, 32.62545222,\n",
              "       33.53146753, 34.43759153, 35.3438271 , 36.250177  , 37.15664387,\n",
              "       38.06323025, 38.96993852, 39.87677096, 40.78372973, 41.69081685,\n",
              "       42.59803419, 43.50538352, 44.41286645, 45.32048448, 46.22823894,\n",
              "       47.13613104, 48.04416186, 48.95233232, 49.86064321, 50.76909517,\n",
              "       51.67768869, 52.58642415, 53.49530175, 54.40432157, 55.31348354,\n",
              "       56.22278743, 57.1322329 , 58.04181944, 58.95154641, 59.86141303,\n",
              "       60.77141838, 61.68156141, 62.5918409 , 63.50225553, 64.41280383,\n",
              "       65.3234842 , 66.2342949 , 67.14523407, 68.05629972, 68.96748975,\n",
              "       69.8788019 , 70.79023382, 71.70178303, 72.61344694, 73.52522284,\n",
              "       74.43710793, 75.34909927, 76.26119384, 77.17338851, 78.08568005,\n",
              "       78.99806515, 79.9105404 , 80.8231023 , 81.73574726, 82.64847163,\n",
              "       83.56127167, 84.47414357, 85.38708345, 86.30008736, 87.21315131,\n",
              "       88.12627123, 89.03944301, 89.95266249, 90.86592547, 91.7792277 ,\n",
              "       92.69256491, 93.60593278, 94.51932698, 95.43274315, 96.34617691,\n",
              "       97.25962388, 98.17307965, 99.08653983])"
            ]
          },
          "metadata": {},
          "execution_count": 38
        }
      ]
    },
    {
      "cell_type": "code",
      "source": [
        "T[1:-1] = Tf"
      ],
      "metadata": {
        "id": "_vkVXmTAXccx"
      },
      "execution_count": 39,
      "outputs": []
    },
    {
      "cell_type": "code",
      "source": [
        "plt.plot(x,T)\n",
        "plt.scatter(x,T,color='r')"
      ],
      "metadata": {
        "id": "sRCVXGzVo6X0",
        "outputId": "2665660e-16c7-43a3-b421-b2c27a1c240b",
        "colab": {
          "base_uri": "https://localhost:8080/",
          "height": 447
        }
      },
      "execution_count": 40,
      "outputs": [
        {
          "output_type": "execute_result",
          "data": {
            "text/plain": [
              "<matplotlib.collections.PathCollection at 0x784da8914710>"
            ]
          },
          "metadata": {},
          "execution_count": 40
        },
        {
          "output_type": "display_data",
          "data": {
            "text/plain": [
              "<Figure size 640x480 with 1 Axes>"
            ],
            "image/png": "[encoded data removed]"
          },
          "metadata": {}
        }
      ]
    },
    {
      "cell_type": "code",
      "source": [],
      "metadata": {
        "id": "eB1yAuW6o8wP"
      },
      "execution_count": null,
      "outputs": []
    }
  ]
}