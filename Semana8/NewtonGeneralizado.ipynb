{
  "nbformat": 4,
  "nbformat_minor": 0,
  "metadata": {
    "colab": {
      "provenance": [],
      "authorship_tag": "ABX9TyPVJb7avwZm1WwBWaV4pce5",
      "include_colab_link": true
    },
    "kernelspec": {
      "name": "python3",
      "display_name": "Python 3"
    },
    "language_info": {
      "name": "python"
    }
  },
  "cells": [
    {
      "cell_type": "markdown",
      "metadata": {
        "id": "view-in-github",
        "colab_type": "text"
      },
      "source": [
        "<a href=\"https://colab.research.google.com/github/asegura4488/MetodosComputacionales1/blob/main/Semana8/NewtonGeneralizado.ipynb\" target=\"_parent\"><img src=\"https://colab.research.google.com/assets/colab-badge.svg\" alt=\"Open In Colab\"/></a>"
      ]
    },
    {
      "cell_type": "code",
      "execution_count": 1,
      "metadata": {
        "id": "LNSD6_5OMznT"
      },
      "outputs": [],
      "source": [
        "import numpy as np\n",
        "import matplotlib.pyplot as plt"
      ]
    },
    {
      "cell_type": "code",
      "source": [
        "# Definamos el sistema usando una lista\n",
        "G = (lambda x,y,z: 3*x - np.cos(y*z) - 1.5, \\\n",
        "     lambda x,y,z: 4*x**2 - 625*y**2 + 2*y -1, \\\n",
        "     lambda x,y,z: np.exp(-x*y) + 20*z + 9.471975)"
      ],
      "metadata": {
        "id": "forBipdDM5qF"
      },
      "execution_count": 2,
      "outputs": []
    },
    {
      "cell_type": "code",
      "source": [
        "G = (lambda x,y,z: 3*x - y - z - 1, \\\n",
        "     lambda x,y,z: -x + 3*y + z - 3, \\\n",
        "     lambda x,y,z: 2*x + y + 4*z - 7 )"
      ],
      "metadata": {
        "id": "mWbVmYehM8of"
      },
      "execution_count": 3,
      "outputs": []
    },
    {
      "cell_type": "code",
      "source": [
        "G[1](4,3,1)"
      ],
      "metadata": {
        "colab": {
          "base_uri": "https://localhost:8080/"
        },
        "id": "LXNbRHDFM-K1",
        "outputId": "da75f740-3666-48fd-c619-d43c7bee0a2a"
      },
      "execution_count": 4,
      "outputs": [
        {
          "output_type": "execute_result",
          "data": {
            "text/plain": [
              "3"
            ]
          },
          "metadata": {},
          "execution_count": 4
        }
      ]
    },
    {
      "cell_type": "code",
      "source": [
        "def GetVectorF(G,r):\n",
        "\n",
        "    v = np.zeros(len(G))\n",
        "    for i in range(v.shape[0]):\n",
        "        v[i] * G[i](r[0],r[1],r[2])\n",
        "\n",
        "    return v"
      ],
      "metadata": {
        "id": "VXtWhGmTNAlf"
      },
      "execution_count": 5,
      "outputs": []
    },
    {
      "cell_type": "code",
      "source": [
        "def GetJacobian(G,r,h=1e-4):\n",
        "\n",
        "    J = np.zeros((r.shape[0],r.shape[0]))\n",
        "\n",
        "    for i in range(r.shape[0]):\n",
        "        J[i,0] = (G[i](r[0]+h,r[1],r[2]) - G[i](r[0]-h,r[1],r[2]))/(2*h)\n",
        "        J[i,1] = (G[i](r[0],r[1]+h,r[2]) - G[i](r[0],r[1]-h,r[2]))/(2*h)\n",
        "        J[i,2] = (G[i](r[0],r[1],r[2]+h) - G[i](r[0],r[1],r[2]-h))/(2*h)\n",
        "\n",
        "\n",
        "    return J.T # alejandro cuenta luego porque!!"
      ],
      "metadata": {
        "id": "119-DDuFnhex"
      },
      "execution_count": 6,
      "outputs": []
    },
    {
      "cell_type": "code",
      "source": [],
      "metadata": {
        "id": "ihOATx9gnjv7"
      },
      "execution_count": null,
      "outputs": []
    }
  ]
}