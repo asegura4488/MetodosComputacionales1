{
  "nbformat": 4,
  "nbformat_minor": 0,
  "metadata": {
    "colab": {
      "provenance": [],
      "authorship_tag": "ABX9TyNLLkf1I7Q/DFMVl41xcgi1",
      "include_colab_link": true
    },
    "kernelspec": {
      "name": "python3",
      "display_name": "Python 3"
    },
    "language_info": {
      "name": "python"
    }
  },
  "cells": [
    {
      "cell_type": "markdown",
      "metadata": {
        "id": "view-in-github",
        "colab_type": "text"
      },
      "source": [
        "<a href=\"https://colab.research.google.com/github/asegura4488/MetodosComputacionales1/blob/main/Semana8/NewtonGeneralizado.ipynb\" target=\"_parent\"><img src=\"https://colab.research.google.com/assets/colab-badge.svg\" alt=\"Open In Colab\"/></a>"
      ]
    },
    {
      "cell_type": "code",
      "execution_count": 1,
      "metadata": {
        "id": "LNSD6_5OMznT"
      },
      "outputs": [],
      "source": [
        "import numpy as np\n",
        "import matplotlib.pyplot as plt"
      ]
    },
    {
      "cell_type": "code",
      "source": [
        "# Definamos el sistema usando una lista\n",
        "G = (lambda x,y,z: 3*x - np.cos(y*z) - 1.5, \\\n",
        "     lambda x,y,z: 4*x**2 - 625*y**2 + 2*y -1, \\\n",
        "     lambda x,y,z: np.exp(-x*y) + 20*z + 9.471975)"
      ],
      "metadata": {
        "id": "forBipdDM5qF"
      },
      "execution_count": 2,
      "outputs": []
    },
    {
      "cell_type": "code",
      "source": [
        "G = (lambda x,y,z: 3*x - y - z - 1, \\\n",
        "     lambda x,y,z: -x + 3*y + z - 3, \\\n",
        "     lambda x,y,z: 2*x + y + 4*z - 7 )"
      ],
      "metadata": {
        "id": "mWbVmYehM8of"
      },
      "execution_count": 21,
      "outputs": []
    },
    {
      "cell_type": "code",
      "source": [
        "G[1](4,3,1)"
      ],
      "metadata": {
        "colab": {
          "base_uri": "https://localhost:8080/"
        },
        "id": "LXNbRHDFM-K1",
        "outputId": "a5c0c596-c849-4f70-a2b7-cee120948d69"
      },
      "execution_count": 22,
      "outputs": [
        {
          "output_type": "execute_result",
          "data": {
            "text/plain": [
              "3"
            ]
          },
          "metadata": {},
          "execution_count": 22
        }
      ]
    },
    {
      "cell_type": "code",
      "source": [
        "def GetVectorF(G,r):\n",
        "\n",
        "    v = np.zeros(len(G))\n",
        "    for i in range(v.shape[0]):\n",
        "        v[i] = G[i](r[0],r[1],r[2])\n",
        "\n",
        "    return v"
      ],
      "metadata": {
        "id": "VXtWhGmTNAlf"
      },
      "execution_count": 23,
      "outputs": []
    },
    {
      "cell_type": "code",
      "source": [
        "#GetVectorF(G,np.array([0.,0.,0.]))"
      ],
      "metadata": {
        "id": "QZQtk0CcrTd7"
      },
      "execution_count": 25,
      "outputs": []
    },
    {
      "cell_type": "code",
      "source": [
        "def GetJacobian(G,r,h=1e-4):\n",
        "\n",
        "    J = np.zeros((r.shape[0],r.shape[0]))\n",
        "\n",
        "    for i in range(r.shape[0]):\n",
        "        J[i,0] = (G[i](r[0]+h,r[1],r[2]) - G[i](r[0]-h,r[1],r[2]))/(2*h)\n",
        "        J[i,1] = (G[i](r[0],r[1]+h,r[2]) - G[i](r[0],r[1]-h,r[2]))/(2*h)\n",
        "        J[i,2] = (G[i](r[0],r[1],r[2]+h) - G[i](r[0],r[1],r[2]-h))/(2*h)\n",
        "\n",
        "\n",
        "    return J.T # alejandro cuenta luego porque!!"
      ],
      "metadata": {
        "id": "119-DDuFnhex"
      },
      "execution_count": 26,
      "outputs": []
    },
    {
      "cell_type": "code",
      "source": [
        "def NewtonRaphson(G,r, tolerancia = 1e-10):\n",
        "\n",
        "  it = 0\n",
        "  d = 1.\n",
        "  Distance = np.array([])\n",
        "\n",
        "  while d  > tolerancia:\n",
        "\n",
        "    F = GetVectorF(G,r)\n",
        "    J = GetJacobian(G,r)\n",
        "    InvJ = np.linalg.inv(J)\n",
        "\n",
        "    r_new = r - np.dot(InvJ,F)\n",
        "\n",
        "    diff = r_new - r\n",
        "    #print(diff)\n",
        "    d = np.linalg.norm(diff)\n",
        "    #print(d)\n",
        "    Distance = np.append(Distance,d)\n",
        "\n",
        "    if it%50 == 0:\n",
        "      print(it,d)\n",
        "\n",
        "    r = r_new\n",
        "    it += 1\n",
        "\n",
        "  return r,Distance\n"
      ],
      "metadata": {
        "id": "ihOATx9gnjv7"
      },
      "execution_count": 34,
      "outputs": []
    },
    {
      "cell_type": "code",
      "source": [
        "r0 = np.array([0.,0.,0.])\n",
        "r,Distance = NewtonRaphson(G,r0)\n",
        "r"
      ],
      "metadata": {
        "colab": {
          "base_uri": "https://localhost:8080/"
        },
        "id": "8YLrJa2bqs2O",
        "outputId": "d376a10d-7b04-46fd-add3-e677ad53c40c"
      },
      "execution_count": 35,
      "outputs": [
        {
          "output_type": "stream",
          "name": "stdout",
          "text": [
            "0 1.664820199774861\n",
            "50 0.00641581760374431\n",
            "100 1.4004314363128114e-05\n",
            "150 5.848767319123529e-08\n",
            "200 1.9235769880607797e-10\n"
          ]
        },
        {
          "output_type": "execute_result",
          "data": {
            "text/plain": [
              "array([1., 1., 1.])"
            ]
          },
          "metadata": {},
          "execution_count": 35
        }
      ]
    },
    {
      "cell_type": "code",
      "source": [
        "plt.plot(Distance)"
      ],
      "metadata": {
        "colab": {
          "base_uri": "https://localhost:8080/",
          "height": 447
        },
        "id": "JT15w24TqzjP",
        "outputId": "2063c45a-b369-471f-85d4-055ea9f768ab"
      },
      "execution_count": 36,
      "outputs": [
        {
          "output_type": "execute_result",
          "data": {
            "text/plain": [
              "[<matplotlib.lines.Line2D at 0x7db6fc3959d0>]"
            ]
          },
          "metadata": {},
          "execution_count": 36
        },
        {
          "output_type": "display_data",
          "data": {
            "text/plain": [
              "<Figure size 640x480 with 1 Axes>"
            ],
            "image/png": "[encoded data removed]"
          },
          "metadata": {}
        }
      ]
    },
    {
      "cell_type": "code",
      "source": [],
      "metadata": {
        "id": "qiFrAKAPq_9_"
      },
      "execution_count": null,
      "outputs": []
    }
  ]
}