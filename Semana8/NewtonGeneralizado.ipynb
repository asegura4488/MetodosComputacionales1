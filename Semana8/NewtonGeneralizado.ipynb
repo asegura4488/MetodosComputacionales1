{
  "nbformat": 4,
  "nbformat_minor": 0,
  "metadata": {
    "colab": {
      "provenance": [],
      "authorship_tag": "ABX9TyMTg9ixljaZ+EACnENkTec4",
      "include_colab_link": true
    },
    "kernelspec": {
      "name": "python3",
      "display_name": "Python 3"
    },
    "language_info": {
      "name": "python"
    }
  },
  "cells": [
    {
      "cell_type": "markdown",
      "metadata": {
        "id": "view-in-github",
        "colab_type": "text"
      },
      "source": [
        "<a href=\"https://colab.research.google.com/github/asegura4488/MetodosComputacionales1/blob/main/Semana8/NewtonGeneralizado.ipynb\" target=\"_parent\"><img src=\"https://colab.research.google.com/assets/colab-badge.svg\" alt=\"Open In Colab\"/></a>"
      ]
    },
    {
      "cell_type": "code",
      "execution_count": null,
      "metadata": {
        "id": "LNSD6_5OMznT"
      },
      "outputs": [],
      "source": [
        "import numpy as np\n",
        "import matplotlib.pyplot as plt"
      ]
    },
    {
      "cell_type": "code",
      "source": [
        "# Definamos el sistema usando una lista\n",
        "G = (lambda x,y,z: 3*x - np.cos(y*z) - 1.5, \\\n",
        "     lambda x,y,z: 4*x**2 - 625*y**2 + 2*y -1, \\\n",
        "     lambda x,y,z: np.exp(-x*y) + 20*z + 9.471975)"
      ],
      "metadata": {
        "id": "forBipdDM5qF"
      },
      "execution_count": null,
      "outputs": []
    },
    {
      "cell_type": "code",
      "source": [
        "G = (lambda x,y,z: 3*x - y - z - 1, \\\n",
        "     lambda x,y,z: -x + 3*y + z - 3, \\\n",
        "     lambda x,y,z: 2*x + y + 4*z - 7 )"
      ],
      "metadata": {
        "id": "mWbVmYehM8of"
      },
      "execution_count": null,
      "outputs": []
    },
    {
      "cell_type": "code",
      "source": [
        "G[0](4,3,1)"
      ],
      "metadata": {
        "colab": {
          "base_uri": "https://localhost:8080/"
        },
        "id": "LXNbRHDFM-K1",
        "outputId": "720d3bdc-fe17-44d6-810b-c9d7e6d82632"
      },
      "execution_count": null,
      "outputs": [
        {
          "output_type": "execute_result",
          "data": {
            "text/plain": [
              "7"
            ]
          },
          "metadata": {},
          "execution_count": 4
        }
      ]
    },
    {
      "cell_type": "code",
      "source": [],
      "metadata": {
        "id": "VXtWhGmTNAlf"
      },
      "execution_count": null,
      "outputs": []
    }
  ]
}