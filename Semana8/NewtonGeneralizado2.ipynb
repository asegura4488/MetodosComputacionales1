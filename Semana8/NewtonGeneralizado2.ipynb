{
  "nbformat": 4,
  "nbformat_minor": 0,
  "metadata": {
    "colab": {
      "provenance": [],
      "authorship_tag": "ABX9TyM03OpbiQhuSRx3LADm70fG",
      "include_colab_link": true
    },
    "kernelspec": {
      "name": "python3",
      "display_name": "Python 3"
    },
    "language_info": {
      "name": "python"
    }
  },
  "cells": [
    {
      "cell_type": "markdown",
      "metadata": {
        "id": "view-in-github",
        "colab_type": "text"
      },
      "source": [
        "<a href=\"https://colab.research.google.com/github/asegura4488/MetodosComputacionales1/blob/main/Semana8/NewtonGeneralizado2.ipynb\" target=\"_parent\"><img src=\"https://colab.research.google.com/assets/colab-badge.svg\" alt=\"Open In Colab\"/></a>"
      ]
    },
    {
      "cell_type": "code",
      "execution_count": 2,
      "metadata": {
        "id": "LNSD6_5OMznT"
      },
      "outputs": [],
      "source": [
        "import numpy as np\n",
        "import matplotlib.pyplot as plt"
      ]
    },
    {
      "cell_type": "code",
      "source": [
        "G = (lambda x,y: x**2 - y**2 + 1, \\\n",
        "     lambda x,y: 2*x*y)"
      ],
      "metadata": {
        "id": "mWbVmYehM8of"
      },
      "execution_count": 3,
      "outputs": []
    },
    {
      "cell_type": "code",
      "source": [],
      "metadata": {
        "id": "xsT7-_keuKrR"
      },
      "execution_count": 5,
      "outputs": []
    },
    {
      "cell_type": "code",
      "source": [],
      "metadata": {
        "id": "LXNbRHDFM-K1"
      },
      "execution_count": 5,
      "outputs": []
    },
    {
      "cell_type": "code",
      "source": [
        "def GetVectorF(G,r):\n",
        "\n",
        "    v = np.zeros(len(G))\n",
        "    for i in range(v.shape[0]):\n",
        "        v[i] = G[i](r[0],r[1])\n",
        "\n",
        "    return v"
      ],
      "metadata": {
        "id": "VXtWhGmTNAlf"
      },
      "execution_count": 6,
      "outputs": []
    },
    {
      "cell_type": "code",
      "source": [
        "GetVectorF(G,np.array([0.,0.]))"
      ],
      "metadata": {
        "id": "QZQtk0CcrTd7",
        "colab": {
          "base_uri": "https://localhost:8080/"
        },
        "outputId": "b6c4c52d-3f72-4033-b0c2-37ed30a7bb12"
      },
      "execution_count": 7,
      "outputs": [
        {
          "output_type": "execute_result",
          "data": {
            "text/plain": [
              "array([1., 0.])"
            ]
          },
          "metadata": {},
          "execution_count": 7
        }
      ]
    },
    {
      "cell_type": "code",
      "source": [
        "def GetJacobian(G,r,h=1e-4):\n",
        "\n",
        "    J = np.zeros((r.shape[0],r.shape[0]))\n",
        "\n",
        "    for i in range(r.shape[0]):\n",
        "        J[i,0] = (G[i](r[0]+h,r[1]) - G[i](r[0]-h,r[1]))/(2*h)\n",
        "        J[i,1] = (G[i](r[0],r[1]+h) - G[i](r[0],r[1]-h))/(2*h)\n",
        "\n",
        "\n",
        "    return J # alejandro cuenta luego porque!!"
      ],
      "metadata": {
        "id": "119-DDuFnhex"
      },
      "execution_count": 21,
      "outputs": []
    },
    {
      "cell_type": "code",
      "source": [
        "GetJacobian(G,np.array([1.,0.]))"
      ],
      "metadata": {
        "colab": {
          "base_uri": "https://localhost:8080/"
        },
        "id": "Yvn_AStcu9n_",
        "outputId": "757deb0e-d761-4693-8161-8badfeee542c"
      },
      "execution_count": 22,
      "outputs": [
        {
          "output_type": "execute_result",
          "data": {
            "text/plain": [
              "array([[2., 0.],\n",
              "       [0., 2.]])"
            ]
          },
          "metadata": {},
          "execution_count": 22
        }
      ]
    },
    {
      "cell_type": "code",
      "source": [
        "def NewtonRaphson(G,r, itmax = 100, tolerancia = 1e-10):\n",
        "\n",
        "  it = 0\n",
        "  d = 1.\n",
        "  Distance = np.array([])\n",
        "\n",
        "  while  it < itmax and d  > tolerancia:\n",
        "\n",
        "    F = GetVectorF(G,r)\n",
        "    J = GetJacobian(G,r)\n",
        "    #print(J)\n",
        "    InvJ = np.linalg.inv(J)\n",
        "    #print(InvJ)\n",
        "\n",
        "    r_new = r - np.dot(InvJ,F)\n",
        "\n",
        "    diff = r_new - r\n",
        "    #print(diff)\n",
        "    d = np.linalg.norm(diff)\n",
        "    #print(d)\n",
        "    Distance = np.append(Distance,d)\n",
        "\n",
        "    if it%50 == 0:\n",
        "      print(it,d)\n",
        "\n",
        "    r = r_new\n",
        "    it += 1\n",
        "\n",
        "  return r,Distance\n"
      ],
      "metadata": {
        "id": "ihOATx9gnjv7"
      },
      "execution_count": 28,
      "outputs": []
    },
    {
      "cell_type": "code",
      "source": [
        "r0 = np.array([0.5,1.7])\n",
        "r,Distance = NewtonRaphson(G,r0)\n",
        "r"
      ],
      "metadata": {
        "colab": {
          "base_uri": "https://localhost:8080/"
        },
        "id": "8YLrJa2bqs2O",
        "outputId": "a1af952e-bacc-4ee1-8cb0-9d521edf9ed8"
      },
      "execution_count": 29,
      "outputs": [
        {
          "output_type": "stream",
          "name": "stdout",
          "text": [
            "0 0.6665100665332339\n"
          ]
        },
        {
          "output_type": "execute_result",
          "data": {
            "text/plain": [
              "array([0., 1.])"
            ]
          },
          "metadata": {},
          "execution_count": 29
        }
      ]
    },
    {
      "cell_type": "code",
      "source": [
        "plt.plot(Distance)"
      ],
      "metadata": {
        "colab": {
          "base_uri": "https://localhost:8080/",
          "height": 447
        },
        "id": "JT15w24TqzjP",
        "outputId": "9050230a-b4eb-4168-fbd6-e977bda043ca"
      },
      "execution_count": 25,
      "outputs": [
        {
          "output_type": "execute_result",
          "data": {
            "text/plain": [
              "[<matplotlib.lines.Line2D at 0x7ea4f09d6cd0>]"
            ]
          },
          "metadata": {},
          "execution_count": 25
        },
        {
          "output_type": "display_data",
          "data": {
            "text/plain": [
              "<Figure size 640x480 with 1 Axes>"
            ],
            "image/png": "[encoded data removed]"
          },
          "metadata": {}
        }
      ]
    },
    {
      "cell_type": "code",
      "source": [],
      "metadata": {
        "id": "qiFrAKAPq_9_"
      },
      "execution_count": null,
      "outputs": []
    }
  ]
}