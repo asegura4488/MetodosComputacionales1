{
  "nbformat": 4,
  "nbformat_minor": 0,
  "metadata": {
    "colab": {
      "provenance": [],
      "authorship_tag": "ABX9TyMhoqrv2XV1FMAnKjvikaig",
      "include_colab_link": true
    },
    "kernelspec": {
      "name": "python3",
      "display_name": "Python 3"
    },
    "language_info": {
      "name": "python"
    }
  },
  "cells": [
    {
      "cell_type": "markdown",
      "metadata": {
        "id": "view-in-github",
        "colab_type": "text"
      },
      "source": [
        "<a href=\"https://colab.research.google.com/github/asegura4488/MetodosComputacionales1/blob/main/Semana8/GausJordan.ipynb\" target=\"_parent\"><img src=\"https://colab.research.google.com/assets/colab-badge.svg\" alt=\"Open In Colab\"/></a>"
      ]
    },
    {
      "cell_type": "code",
      "execution_count": null,
      "metadata": {
        "id": "Iu__MgyUiMJa"
      },
      "outputs": [],
      "source": [
        "import numpy as np\n",
        "import matplotlib.pyplot as plt"
      ]
    },
    {
      "cell_type": "code",
      "source": [
        "A = np.array([[3,-1,-1],[-1.,3.,1.],[2,1,4]])\n",
        "b = np.array([1.,3.,7.])"
      ],
      "metadata": {
        "id": "uufe0Q75iS6Y"
      },
      "execution_count": null,
      "outputs": []
    },
    {
      "cell_type": "code",
      "source": [
        "A"
      ],
      "metadata": {
        "id": "gVFrNA8giUUS",
        "outputId": "fabeac80-8c82-43a4-f78a-29d280c9ce01",
        "colab": {
          "base_uri": "https://localhost:8080/"
        }
      },
      "execution_count": null,
      "outputs": [
        {
          "output_type": "execute_result",
          "data": {
            "text/plain": [
              "array([[ 3., -1., -1.],\n",
              "       [-1.,  3.,  1.],\n",
              "       [ 2.,  1.,  4.]])"
            ]
          },
          "metadata": {},
          "execution_count": 3
        }
      ]
    },
    {
      "cell_type": "code",
      "source": [
        "def Diagonalizar(A_):\n",
        "\n",
        "  A = A_.copy()\n",
        "  n = A.shape[0]\n",
        "\n",
        "  for i in range(n):\n",
        "\n",
        "    for j in range(i+1,n):\n",
        "\n",
        "      a = A[j,i]/A[i,i]\n",
        "      A[j,:] -= a*A[i,:]\n",
        "\n",
        "  return A"
      ],
      "metadata": {
        "id": "GgHmXcsTiUy6"
      },
      "execution_count": null,
      "outputs": []
    },
    {
      "cell_type": "code",
      "source": [
        "Diagonalizar(A)"
      ],
      "metadata": {
        "colab": {
          "base_uri": "https://localhost:8080/"
        },
        "id": "pHl-ziugZ_TU",
        "outputId": "a36ecf55-032b-4876-a700-cf513e7c1869"
      },
      "execution_count": null,
      "outputs": [
        {
          "output_type": "execute_result",
          "data": {
            "text/plain": [
              "array([[ 3.        , -1.        , -1.        ],\n",
              "       [ 0.        ,  2.66666667,  0.66666667],\n",
              "       [ 0.        ,  0.        ,  4.25      ]])"
            ]
          },
          "metadata": {},
          "execution_count": 5
        }
      ]
    },
    {
      "cell_type": "code",
      "source": [
        "def GaussJordan(A_,b_):\n",
        "\n",
        "  A = A_.copy()\n",
        "  b = b_.copy()\n",
        "  n = A.shape[0]\n",
        "\n",
        "  for i in range(n):\n",
        "    for j in range(i+1,n):\n",
        "\n",
        "      a = A[j,i]/A[i,i]\n",
        "      A[j,:] -= a*A[i,:]\n",
        "      b[j] -= a*b[i]\n",
        "\n",
        "  x = np.zeros_like(b)\n",
        "\n",
        "  for i in reversed(range(n)):\n",
        "\n",
        "    x[i] = b[i]\n",
        "\n",
        "    for j in range(i+1,n):\n",
        "      x[i] -= A[i,j]*x[j]\n",
        "\n",
        "    x[i] /= A[i,i]\n",
        "\n",
        "\n",
        "  return x"
      ],
      "metadata": {
        "id": "7VFmDLJkaA0E"
      },
      "execution_count": null,
      "outputs": []
    },
    {
      "cell_type": "code",
      "source": [
        "x = GaussJordan(A,b)"
      ],
      "metadata": {
        "id": "nE7-tipFeqBr"
      },
      "execution_count": null,
      "outputs": []
    },
    {
      "cell_type": "code",
      "source": [
        "x"
      ],
      "metadata": {
        "colab": {
          "base_uri": "https://localhost:8080/"
        },
        "id": "vn4XJIXserY-",
        "outputId": "94580117-6bcc-4b02-99c8-445e3b0d4f10"
      },
      "execution_count": null,
      "outputs": [
        {
          "output_type": "execute_result",
          "data": {
            "text/plain": [
              "array([1., 1., 1.])"
            ]
          },
          "metadata": {},
          "execution_count": 8
        }
      ]
    },
    {
      "cell_type": "code",
      "source": [],
      "metadata": {
        "id": "dVXDYOoJfKlC"
      },
      "execution_count": null,
      "outputs": []
    }
  ]
}