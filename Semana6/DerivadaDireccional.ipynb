{
  "nbformat": 4,
  "nbformat_minor": 0,
  "metadata": {
    "colab": {
      "provenance": [],
      "authorship_tag": "ABX9TyPCpnoux8taGM5MSW01MhQv",
      "include_colab_link": true
    },
    "kernelspec": {
      "name": "python3",
      "display_name": "Python 3"
    },
    "language_info": {
      "name": "python"
    }
  },
  "cells": [
    {
      "cell_type": "markdown",
      "metadata": {
        "id": "view-in-github",
        "colab_type": "text"
      },
      "source": [
        "<a href=\"https://colab.research.google.com/github/asegura4488/MetodosComputacionales1/blob/main/Semana6/DerivadaDireccional.ipynb\" target=\"_parent\"><img src=\"https://colab.research.google.com/assets/colab-badge.svg\" alt=\"Open In Colab\"/></a>"
      ]
    },
    {
      "cell_type": "code",
      "execution_count": 22,
      "metadata": {
        "id": "KKiuQAxaUqHl"
      },
      "outputs": [],
      "source": [
        "import numpy as np\n",
        "import matplotlib.pyplot as plt"
      ]
    },
    {
      "cell_type": "code",
      "source": [
        "def f2(x,y):\n",
        "  return x**4 + y**4 - 2*(x-y)**2"
      ],
      "metadata": {
        "id": "kHc54g_AWiDT"
      },
      "execution_count": 23,
      "outputs": []
    },
    {
      "cell_type": "code",
      "source": [
        "Dx = lambda x,y,h=1e-5: (f2(x+h,y)-f2(x-h,y))/(2*h)\n",
        "Dy = lambda x,y,h=1e-5: (f2(x,y+h)-f2(x,y-h))/(2*h)"
      ],
      "metadata": {
        "id": "fpf048SKWq5n"
      },
      "execution_count": 24,
      "outputs": []
    },
    {
      "cell_type": "code",
      "source": [
        "x0, y0 = 0.5,0.2"
      ],
      "metadata": {
        "id": "gyZNFcYzXXo3"
      },
      "execution_count": 25,
      "outputs": []
    },
    {
      "cell_type": "code",
      "source": [
        "D = lambda x,y: np.array([Dx(x,y),Dy(x,y)])"
      ],
      "metadata": {
        "id": "ObSH5waxXdlj"
      },
      "execution_count": 26,
      "outputs": []
    },
    {
      "cell_type": "code",
      "source": [
        "D(x0,y0)"
      ],
      "metadata": {
        "colab": {
          "base_uri": "https://localhost:8080/"
        },
        "id": "u0Gl0MbXYWs4",
        "outputId": "0225e89b-f93b-4478-9363-c4d1366d036c"
      },
      "execution_count": 27,
      "outputs": [
        {
          "output_type": "execute_result",
          "data": {
            "text/plain": [
              "array([-0.7  ,  1.232])"
            ]
          },
          "metadata": {},
          "execution_count": 27
        }
      ]
    },
    {
      "cell_type": "code",
      "source": [
        "u = lambda theta: np.array([np.cos(theta),np.sin(theta)])\n",
        "u(np.pi/2)"
      ],
      "metadata": {
        "id": "6VTcoIa7YpWw",
        "colab": {
          "base_uri": "https://localhost:8080/"
        },
        "outputId": "d5d79981-0ca6-479e-a0e5-0a8613a5fdfb"
      },
      "execution_count": 28,
      "outputs": [
        {
          "output_type": "execute_result",
          "data": {
            "text/plain": [
              "array([6.123234e-17, 1.000000e+00])"
            ]
          },
          "metadata": {},
          "execution_count": 28
        }
      ]
    },
    {
      "cell_type": "code",
      "source": [
        "def GetDerivative(x,y,theta):\n",
        "  return np.dot(D(x,y),u(theta))"
      ],
      "metadata": {
        "id": "tvBtIvcife8Y"
      },
      "execution_count": 29,
      "outputs": []
    },
    {
      "cell_type": "code",
      "source": [
        "GetDerivative(x0,y0,0.5*np.pi)"
      ],
      "metadata": {
        "colab": {
          "base_uri": "https://localhost:8080/"
        },
        "id": "QpxrFKJqffAY",
        "outputId": "cf23e218-64cb-4ca3-fe26-8479d3ffa53b"
      },
      "execution_count": 30,
      "outputs": [
        {
          "output_type": "execute_result",
          "data": {
            "text/plain": [
              "1.2320000000815012"
            ]
          },
          "metadata": {},
          "execution_count": 30
        }
      ]
    },
    {
      "cell_type": "code",
      "source": [
        "theta_ = 0\n",
        "maximo  = 0\n",
        "while theta_ < 2*np.pi:\n",
        "  #print(GetDerivative(x0,y0,theta_))\n",
        "  if GetDerivative(x0,y0,theta_) > maximo:\n",
        "    maximo = GetDerivative(x0,y0,theta_)\n",
        "    thetamax = theta_\n",
        "  theta_ += 0.1\n",
        "print(maximo)\n",
        "print(thetamax)"
      ],
      "metadata": {
        "colab": {
          "base_uri": "https://localhost:8080/"
        },
        "id": "02tuWHXKghE6",
        "outputId": "6d0a8c14-a316-4322-d6ab-07b15b3da9d7"
      },
      "execution_count": 36,
      "outputs": [
        {
          "output_type": "stream",
          "name": "stdout",
          "text": [
            "1.4168662129004295\n",
            "2.1000000000000005\n"
          ]
        }
      ]
    },
    {
      "cell_type": "code",
      "source": [
        "thetamax"
      ],
      "metadata": {
        "colab": {
          "base_uri": "https://localhost:8080/"
        },
        "id": "jw8qI5_Jh23J",
        "outputId": "78d4b4b2-9502-4f38-b08d-7c19d1677351"
      },
      "execution_count": 37,
      "outputs": [
        {
          "output_type": "execute_result",
          "data": {
            "text/plain": [
              "2.1000000000000005"
            ]
          },
          "metadata": {},
          "execution_count": 37
        }
      ]
    },
    {
      "cell_type": "code",
      "source": [
        "np.arctan(D(x0,y0)[1]/D(x0,y0)[0])"
      ],
      "metadata": {
        "colab": {
          "base_uri": "https://localhost:8080/"
        },
        "id": "TGvxttNEhI8O",
        "outputId": "bf1e0007-195d-4469-dc57-9347758ed421"
      },
      "execution_count": 38,
      "outputs": [
        {
          "output_type": "execute_result",
          "data": {
            "text/plain": [
              "-1.0541011881840776"
            ]
          },
          "metadata": {},
          "execution_count": 38
        }
      ]
    },
    {
      "cell_type": "code",
      "source": [
        "plt.arrow(x0,y0,D(x0,y0)[0],D(x0,y0)[1],color='r',head_width=0.1)\n",
        "plt.arrow(x0,y0,u(thetamax)[0],u(thetamax)[1],color='k',head_width=0.1)"
      ],
      "metadata": {
        "colab": {
          "base_uri": "https://localhost:8080/",
          "height": 447
        },
        "id": "p6dFtgFLYYfw",
        "outputId": "e7533c55-2483-4906-eee3-b98cb709f4b4"
      },
      "execution_count": 39,
      "outputs": [
        {
          "output_type": "execute_result",
          "data": {
            "text/plain": [
              "<matplotlib.patches.FancyArrow at 0x7df5b0499b10>"
            ]
          },
          "metadata": {},
          "execution_count": 39
        },
        {
          "output_type": "display_data",
          "data": {
            "text/plain": [
              "<Figure size 640x480 with 1 Axes>"
            ],
            "image/png": "[encoded data removed]"
          },
          "metadata": {}
        }
      ]
    },
    {
      "cell_type": "code",
      "source": [],
      "metadata": {
        "id": "7jbgWCeUYnSM"
      },
      "execution_count": null,
      "outputs": []
    }
  ]
}