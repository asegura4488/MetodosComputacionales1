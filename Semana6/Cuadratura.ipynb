{
  "nbformat": 4,
  "nbformat_minor": 0,
  "metadata": {
    "colab": {
      "provenance": [],
      "authorship_tag": "ABX9TyM9JzPTK7VJ3V8d4piiyBqS",
      "include_colab_link": true
    },
    "kernelspec": {
      "name": "python3",
      "display_name": "Python 3"
    },
    "language_info": {
      "name": "python"
    }
  },
  "cells": [
    {
      "cell_type": "markdown",
      "metadata": {
        "id": "view-in-github",
        "colab_type": "text"
      },
      "source": [
        "<a href=\"https://colab.research.google.com/github/asegura4488/MetodosComputacionales1/blob/main/Semana6/Cuadratura.ipynb\" target=\"_parent\"><img src=\"https://colab.research.google.com/assets/colab-badge.svg\" alt=\"Open In Colab\"/></a>"
      ]
    },
    {
      "cell_type": "code",
      "execution_count": 1,
      "metadata": {
        "id": "SUTi25IqiTJ0"
      },
      "outputs": [],
      "source": [
        "import numpy as np\n",
        "import matplotlib.pyplot as plt\n",
        "import sympy as sym\n",
        "import math\n",
        "sym.init_printing(use_unicode=True)"
      ]
    },
    {
      "cell_type": "code",
      "source": [
        "x = sym.Symbol('x', real=True)\n",
        "f = sym.sin(x)"
      ],
      "metadata": {
        "id": "gUzyLuztjGSY"
      },
      "execution_count": 2,
      "outputs": []
    },
    {
      "cell_type": "code",
      "source": [
        "sym.integrate(f,(x,-1,1))"
      ],
      "metadata": {
        "id": "dgLwcKuNjL8X",
        "colab": {
          "base_uri": "https://localhost:8080/",
          "height": 37
        },
        "outputId": "16e9879a-91ac-4db8-eb20-3ba4113a06c6"
      },
      "execution_count": 3,
      "outputs": [
        {
          "output_type": "execute_result",
          "data": {
            "text/plain": [
              "0"
            ],
            "text/latex": "$\\displaystyle 0$"
          },
          "metadata": {},
          "execution_count": 3
        }
      ]
    },
    {
      "cell_type": "code",
      "source": [
        "# Integral por cuadratura\n",
        "w0 = np.array([1.,1.])\n",
        "r0 = np.array([-1/np.sqrt(3),1/np.sqrt(3)])\n",
        "r0"
      ],
      "metadata": {
        "id": "dHFxYdsLjMAi",
        "colab": {
          "base_uri": "https://localhost:8080/"
        },
        "outputId": "45e3abe0-971b-456b-eb46-2a3306322226"
      },
      "execution_count": 4,
      "outputs": [
        {
          "output_type": "execute_result",
          "data": {
            "text/plain": [
              "array([-0.57735027,  0.57735027])"
            ]
          },
          "metadata": {},
          "execution_count": 4
        }
      ]
    },
    {
      "cell_type": "code",
      "source": [
        "I = np.sum( w0*np.sin(r0) )\n",
        "I"
      ],
      "metadata": {
        "id": "WYxPY_FOjMGT",
        "colab": {
          "base_uri": "https://localhost:8080/",
          "height": 37
        },
        "outputId": "f70324ea-001c-4311-de86-b17b85b3b241"
      },
      "execution_count": 5,
      "outputs": [
        {
          "output_type": "execute_result",
          "data": {
            "text/plain": [
              "0.0"
            ],
            "text/latex": "$\\displaystyle 0.0$"
          },
          "metadata": {},
          "execution_count": 5
        }
      ]
    },
    {
      "cell_type": "code",
      "source": [
        "f = sym.exp(-x**2)\n",
        "f"
      ],
      "metadata": {
        "colab": {
          "base_uri": "https://localhost:8080/",
          "height": 41
        },
        "id": "mFW40PbrQCT-",
        "outputId": "2e703eeb-cda3-4c4b-f0de-66371c91bb08"
      },
      "execution_count": 6,
      "outputs": [
        {
          "output_type": "execute_result",
          "data": {
            "text/plain": [
              "   2\n",
              " -x \n",
              "ℯ   "
            ],
            "text/latex": "$\\displaystyle e^{- x^{2}}$"
          },
          "metadata": {},
          "execution_count": 6
        }
      ]
    },
    {
      "cell_type": "code",
      "source": [
        "sym.integrate(f,(x,-1,1))"
      ],
      "metadata": {
        "colab": {
          "base_uri": "https://localhost:8080/",
          "height": 37
        },
        "id": "VYrc60jWQCbS",
        "outputId": "8e58c6ee-9b7b-477e-c072-27fd7cf3868f"
      },
      "execution_count": 7,
      "outputs": [
        {
          "output_type": "execute_result",
          "data": {
            "text/plain": [
              "√π⋅erf(1)"
            ],
            "text/latex": "$\\displaystyle \\sqrt{\\pi} \\operatorname{erf}{\\left(1 \\right)}$"
          },
          "metadata": {},
          "execution_count": 7
        }
      ]
    },
    {
      "cell_type": "code",
      "source": [
        "f = lambda x: np.exp(-x**2)\n",
        "I = np.sum( w0*f(r0) )\n",
        "I"
      ],
      "metadata": {
        "colab": {
          "base_uri": "https://localhost:8080/",
          "height": 37
        },
        "id": "XOiTVhTUQO3E",
        "outputId": "b41c1993-cd1f-486c-903d-4f5256f26772"
      },
      "execution_count": 8,
      "outputs": [
        {
          "output_type": "execute_result",
          "data": {
            "text/plain": [
              "1.4330626211475783"
            ],
            "text/latex": "$\\displaystyle 1.43306262114758$"
          },
          "metadata": {},
          "execution_count": 8
        }
      ]
    },
    {
      "cell_type": "code",
      "source": [
        "Roots, Weights = np.polynomial.legendre.leggauss(10)\n",
        "Roots"
      ],
      "metadata": {
        "colab": {
          "base_uri": "https://localhost:8080/"
        },
        "id": "BuSUYv0OQO62",
        "outputId": "fc1a91bb-2232-4fc8-d51e-2331cd6c3dc3"
      },
      "execution_count": 9,
      "outputs": [
        {
          "output_type": "execute_result",
          "data": {
            "text/plain": [
              "array([-0.97390653, -0.86506337, -0.67940957, -0.43339539, -0.14887434,\n",
              "        0.14887434,  0.43339539,  0.67940957,  0.86506337,  0.97390653])"
            ]
          },
          "metadata": {},
          "execution_count": 9
        }
      ]
    },
    {
      "cell_type": "code",
      "source": [
        "Weights"
      ],
      "metadata": {
        "colab": {
          "base_uri": "https://localhost:8080/"
        },
        "id": "BvEOTFvHRMPf",
        "outputId": "1303393a-dce8-44a3-96b9-481bd0760eef"
      },
      "execution_count": 10,
      "outputs": [
        {
          "output_type": "execute_result",
          "data": {
            "text/plain": [
              "array([0.06667134, 0.14945135, 0.21908636, 0.26926672, 0.29552422,\n",
              "       0.29552422, 0.26926672, 0.21908636, 0.14945135, 0.06667134])"
            ]
          },
          "metadata": {},
          "execution_count": 10
        }
      ]
    },
    {
      "cell_type": "code",
      "source": [
        "I = np.sum( Weights*f(Roots) )\n",
        "I"
      ],
      "metadata": {
        "colab": {
          "base_uri": "https://localhost:8080/",
          "height": 37
        },
        "id": "evJf4DvZRMSN",
        "outputId": "abfc2b18-b1ef-45af-cd7e-f81b7914e080"
      },
      "execution_count": 11,
      "outputs": [
        {
          "output_type": "execute_result",
          "data": {
            "text/plain": [
              "1.4936482656243506"
            ],
            "text/latex": "$\\displaystyle 1.49364826562435$"
          },
          "metadata": {},
          "execution_count": 11
        }
      ]
    },
    {
      "cell_type": "code",
      "source": [
        "a = 0\n",
        "b = 10\n",
        "t = 0.5*( Roots*(b-a) + a + b )\n",
        "I = 0.5*(b-a)*np.sum( Weights*f(t) )\n",
        "I"
      ],
      "metadata": {
        "colab": {
          "base_uri": "https://localhost:8080/",
          "height": 37
        },
        "id": "a6qKQK-1SuBf",
        "outputId": "7e4d03f1-33f8-4344-a2b0-c2e0c12502bc"
      },
      "execution_count": 13,
      "outputs": [
        {
          "output_type": "execute_result",
          "data": {
            "text/plain": [
              "0.8860575805791066"
            ],
            "text/latex": "$\\displaystyle 0.886057580579107$"
          },
          "metadata": {},
          "execution_count": 13
        }
      ]
    },
    {
      "cell_type": "code",
      "source": [
        "x = sym.Symbol('x',real=True)\n",
        "y = sym.Symbol('y',real=True)"
      ],
      "metadata": {
        "id": "h3v10VTaSuEW"
      },
      "execution_count": 14,
      "outputs": []
    },
    {
      "cell_type": "code",
      "source": [
        "def GetLegendre(n,x,y):\n",
        "\n",
        "  y = (x**2 - 1)**n\n",
        "\n",
        "  poly = sym.diff(y,x,n)/(2**n * math.factorial(n))\n",
        "\n",
        "  return poly"
      ],
      "metadata": {
        "id": "lUxbwMWfKYjh"
      },
      "execution_count": 17,
      "outputs": []
    },
    {
      "cell_type": "code",
      "source": [
        "n = 4\n",
        "Legendre = []\n",
        "DLegendre = []\n",
        "\n",
        "for i in range(n):\n",
        "  Poly = GetLegendre(i,x,y)\n",
        "  Legendre.append(Poly)\n",
        "  DLegendre.append(sym.diff(Poly,x))"
      ],
      "metadata": {
        "id": "or4xL57lKYsW"
      },
      "execution_count": 21,
      "outputs": []
    },
    {
      "cell_type": "code",
      "source": [
        "Legendre"
      ],
      "metadata": {
        "id": "rEOvAg8BSuJK",
        "colab": {
          "base_uri": "https://localhost:8080/",
          "height": 68
        },
        "outputId": "47307132-83c9-4fd5-f0e1-d8e777b792fe"
      },
      "execution_count": 22,
      "outputs": [
        {
          "output_type": "execute_result",
          "data": {
            "text/plain": [
              "⎡         2        ⎛   2    ⎞⎤\n",
              "⎢      3⋅x  - 1  x⋅⎝5⋅x  - 3⎠⎥\n",
              "⎢1, x, ────────, ────────────⎥\n",
              "⎣         2           2      ⎦"
            ],
            "text/latex": "$\\displaystyle \\left[ 1, \\  x, \\  \\frac{3 x^{2} - 1}{2}, \\  \\frac{x \\left(5 x^{2} - 3\\right)}{2}\\right]$"
          },
          "metadata": {},
          "execution_count": 22
        }
      ]
    },
    {
      "cell_type": "code",
      "source": [
        "DLegendre"
      ],
      "metadata": {
        "colab": {
          "base_uri": "https://localhost:8080/",
          "height": 58
        },
        "id": "8ppBuF1kNm2E",
        "outputId": "65e9f5eb-a4f4-45b7-ac89-70011db5cd22"
      },
      "execution_count": 23,
      "outputs": [
        {
          "output_type": "execute_result",
          "data": {
            "text/plain": [
              "⎡               2    ⎤\n",
              "⎢           15⋅x    3⎥\n",
              "⎢0, 1, 3⋅x, ───── - ─⎥\n",
              "⎣             2     2⎦"
            ],
            "text/latex": "$\\displaystyle \\left[ 0, \\  1, \\  3 x, \\  \\frac{15 x^{2}}{2} - \\frac{3}{2}\\right]$"
          },
          "metadata": {},
          "execution_count": 23
        }
      ]
    },
    {
      "cell_type": "code",
      "source": [],
      "metadata": {
        "id": "E_k26azoN2M5"
      },
      "execution_count": null,
      "outputs": []
    },
    {
      "cell_type": "code",
      "source": [],
      "metadata": {
        "id": "nmJb1-p7N2Pi"
      },
      "execution_count": null,
      "outputs": []
    },
    {
      "cell_type": "code",
      "source": [
        "def GetNewtonMethod(f,df,xn,itmax=100,precision=1e-14):\n",
        "\n",
        "  error = 1\n",
        "  it = 0\n",
        "\n",
        "  while error > precision and it < itmax:\n",
        "\n",
        "    try:\n",
        "      dfxn = df(xn)\n",
        "      if np.abs(dfxn) < 1e-16:\n",
        "        return False\n",
        "\n",
        "      xn1 = xn - f(xn)/dfxn\n",
        "      error = np.abs(xn1-xn)\n",
        "    except ZeroDivisionError:\n",
        "      print('Division por error')\n",
        "      return False\n",
        "\n",
        "    xn = xn1\n",
        "    it += 1\n",
        "\n",
        "  if it == itmax:\n",
        "    return False\n",
        "  else:\n",
        "    return xn"
      ],
      "metadata": {
        "id": "-Evn2g_ZjMI1"
      },
      "execution_count": null,
      "outputs": []
    },
    {
      "cell_type": "code",
      "source": [
        "def GetAllRoots(f, df, x, atol=1e-9, max_iter = 100, precision = 1e-14):\n",
        "\n",
        "  Roots = np.array([])\n",
        "\n",
        "  for x0 in x:\n",
        "    #print(x)\n",
        "    root = GetNewtonMethod(f,df,x0,max_iter,precision)\n",
        "    #print(x0)\n",
        "    if root is not False:\n",
        "\n",
        "      if not any(np.isclose(root, r, atol=atol) for r in Roots):\n",
        "        print('New root found', root)\n",
        "        Roots = np.append(Roots,root)\n",
        "\n",
        "  Roots.sort()\n",
        "\n",
        "  return Roots"
      ],
      "metadata": {
        "id": "FigIRtbAjOLp"
      },
      "execution_count": null,
      "outputs": []
    },
    {
      "cell_type": "code",
      "source": [],
      "metadata": {
        "id": "gm7NYHk7jPxu"
      },
      "execution_count": null,
      "outputs": []
    }
  ]
}