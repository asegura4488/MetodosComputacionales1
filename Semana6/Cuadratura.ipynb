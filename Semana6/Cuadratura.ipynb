{
  "nbformat": 4,
  "nbformat_minor": 0,
  "metadata": {
    "colab": {
      "provenance": [],
      "authorship_tag": "ABX9TyOEIHSQQzFyH5lDDnlVKvyW",
      "include_colab_link": true
    },
    "kernelspec": {
      "name": "python3",
      "display_name": "Python 3"
    },
    "language_info": {
      "name": "python"
    }
  },
  "cells": [
    {
      "cell_type": "markdown",
      "metadata": {
        "id": "view-in-github",
        "colab_type": "text"
      },
      "source": [
        "<a href=\"https://colab.research.google.com/github/asegura4488/MetodosComputacionales1/blob/main/Semana6/Cuadratura.ipynb\" target=\"_parent\"><img src=\"https://colab.research.google.com/assets/colab-badge.svg\" alt=\"Open In Colab\"/></a>"
      ]
    },
    {
      "cell_type": "code",
      "execution_count": 1,
      "metadata": {
        "id": "SUTi25IqiTJ0"
      },
      "outputs": [],
      "source": [
        "import numpy as np\n",
        "import matplotlib.pyplot as plt\n",
        "import sympy as sym\n",
        "import math\n",
        "sym.init_printing(use_unicode=True)"
      ]
    },
    {
      "cell_type": "code",
      "source": [
        "x = sym.Symbol('x', real=True)\n",
        "f = sym.sin(x)"
      ],
      "metadata": {
        "id": "gUzyLuztjGSY"
      },
      "execution_count": 2,
      "outputs": []
    },
    {
      "cell_type": "code",
      "source": [
        "sym.integrate(f,(x,-1,1))"
      ],
      "metadata": {
        "id": "dgLwcKuNjL8X",
        "colab": {
          "base_uri": "https://localhost:8080/",
          "height": 37
        },
        "outputId": "16e9879a-91ac-4db8-eb20-3ba4113a06c6"
      },
      "execution_count": 3,
      "outputs": [
        {
          "output_type": "execute_result",
          "data": {
            "text/plain": [
              "0"
            ],
            "text/latex": "$\\displaystyle 0$"
          },
          "metadata": {},
          "execution_count": 3
        }
      ]
    },
    {
      "cell_type": "code",
      "source": [
        "# Integral por cuadratura\n",
        "w0 = np.array([1.,1.])\n",
        "r0 = np.array([-1/np.sqrt(3),1/np.sqrt(3)])\n",
        "r0"
      ],
      "metadata": {
        "id": "dHFxYdsLjMAi",
        "colab": {
          "base_uri": "https://localhost:8080/"
        },
        "outputId": "45e3abe0-971b-456b-eb46-2a3306322226"
      },
      "execution_count": 4,
      "outputs": [
        {
          "output_type": "execute_result",
          "data": {
            "text/plain": [
              "array([-0.57735027,  0.57735027])"
            ]
          },
          "metadata": {},
          "execution_count": 4
        }
      ]
    },
    {
      "cell_type": "code",
      "source": [
        "I = np.sum( w0*np.sin(r0) )\n",
        "I"
      ],
      "metadata": {
        "id": "WYxPY_FOjMGT",
        "colab": {
          "base_uri": "https://localhost:8080/",
          "height": 37
        },
        "outputId": "f70324ea-001c-4311-de86-b17b85b3b241"
      },
      "execution_count": 5,
      "outputs": [
        {
          "output_type": "execute_result",
          "data": {
            "text/plain": [
              "0.0"
            ],
            "text/latex": "$\\displaystyle 0.0$"
          },
          "metadata": {},
          "execution_count": 5
        }
      ]
    },
    {
      "cell_type": "code",
      "source": [
        "f = sym.exp(-x**2)\n",
        "f"
      ],
      "metadata": {
        "colab": {
          "base_uri": "https://localhost:8080/",
          "height": 41
        },
        "id": "mFW40PbrQCT-",
        "outputId": "2e703eeb-cda3-4c4b-f0de-66371c91bb08"
      },
      "execution_count": 6,
      "outputs": [
        {
          "output_type": "execute_result",
          "data": {
            "text/plain": [
              "   2\n",
              " -x \n",
              "ℯ   "
            ],
            "text/latex": "$\\displaystyle e^{- x^{2}}$"
          },
          "metadata": {},
          "execution_count": 6
        }
      ]
    },
    {
      "cell_type": "code",
      "source": [
        "sym.integrate(f,(x,-1,1))"
      ],
      "metadata": {
        "colab": {
          "base_uri": "https://localhost:8080/",
          "height": 37
        },
        "id": "VYrc60jWQCbS",
        "outputId": "8e58c6ee-9b7b-477e-c072-27fd7cf3868f"
      },
      "execution_count": 7,
      "outputs": [
        {
          "output_type": "execute_result",
          "data": {
            "text/plain": [
              "√π⋅erf(1)"
            ],
            "text/latex": "$\\displaystyle \\sqrt{\\pi} \\operatorname{erf}{\\left(1 \\right)}$"
          },
          "metadata": {},
          "execution_count": 7
        }
      ]
    },
    {
      "cell_type": "code",
      "source": [
        "f = lambda x: np.exp(-x**2)\n",
        "I = np.sum( w0*f(r0) )\n",
        "I"
      ],
      "metadata": {
        "colab": {
          "base_uri": "https://localhost:8080/",
          "height": 37
        },
        "id": "XOiTVhTUQO3E",
        "outputId": "b41c1993-cd1f-486c-903d-4f5256f26772"
      },
      "execution_count": 8,
      "outputs": [
        {
          "output_type": "execute_result",
          "data": {
            "text/plain": [
              "1.4330626211475783"
            ],
            "text/latex": "$\\displaystyle 1.43306262114758$"
          },
          "metadata": {},
          "execution_count": 8
        }
      ]
    },
    {
      "cell_type": "code",
      "source": [
        "Roots, Weights = np.polynomial.legendre.leggauss(10)\n",
        "Roots"
      ],
      "metadata": {
        "colab": {
          "base_uri": "https://localhost:8080/"
        },
        "id": "BuSUYv0OQO62",
        "outputId": "fc1a91bb-2232-4fc8-d51e-2331cd6c3dc3"
      },
      "execution_count": 9,
      "outputs": [
        {
          "output_type": "execute_result",
          "data": {
            "text/plain": [
              "array([-0.97390653, -0.86506337, -0.67940957, -0.43339539, -0.14887434,\n",
              "        0.14887434,  0.43339539,  0.67940957,  0.86506337,  0.97390653])"
            ]
          },
          "metadata": {},
          "execution_count": 9
        }
      ]
    },
    {
      "cell_type": "code",
      "source": [
        "Weights"
      ],
      "metadata": {
        "colab": {
          "base_uri": "https://localhost:8080/"
        },
        "id": "BvEOTFvHRMPf",
        "outputId": "1303393a-dce8-44a3-96b9-481bd0760eef"
      },
      "execution_count": 10,
      "outputs": [
        {
          "output_type": "execute_result",
          "data": {
            "text/plain": [
              "array([0.06667134, 0.14945135, 0.21908636, 0.26926672, 0.29552422,\n",
              "       0.29552422, 0.26926672, 0.21908636, 0.14945135, 0.06667134])"
            ]
          },
          "metadata": {},
          "execution_count": 10
        }
      ]
    },
    {
      "cell_type": "code",
      "source": [
        "I = np.sum( Weights*f(Roots) )\n",
        "I"
      ],
      "metadata": {
        "colab": {
          "base_uri": "https://localhost:8080/",
          "height": 37
        },
        "id": "evJf4DvZRMSN",
        "outputId": "abfc2b18-b1ef-45af-cd7e-f81b7914e080"
      },
      "execution_count": 11,
      "outputs": [
        {
          "output_type": "execute_result",
          "data": {
            "text/plain": [
              "1.4936482656243506"
            ],
            "text/latex": "$\\displaystyle 1.49364826562435$"
          },
          "metadata": {},
          "execution_count": 11
        }
      ]
    },
    {
      "cell_type": "code",
      "source": [
        "a = 0\n",
        "b = 10\n",
        "t = 0.5*( Roots*(b-a) + a + b )\n",
        "I = 0.5*(b-a)*np.sum( Weights*f(t) )\n",
        "I"
      ],
      "metadata": {
        "colab": {
          "base_uri": "https://localhost:8080/",
          "height": 37
        },
        "id": "a6qKQK-1SuBf",
        "outputId": "7e4d03f1-33f8-4344-a2b0-c2e0c12502bc"
      },
      "execution_count": 13,
      "outputs": [
        {
          "output_type": "execute_result",
          "data": {
            "text/plain": [
              "0.8860575805791066"
            ],
            "text/latex": "$\\displaystyle 0.886057580579107$"
          },
          "metadata": {},
          "execution_count": 13
        }
      ]
    },
    {
      "cell_type": "code",
      "source": [
        "x = sym.Symbol('x',real=True)\n",
        "y = sym.Symbol('y',real=True)"
      ],
      "metadata": {
        "id": "h3v10VTaSuEW"
      },
      "execution_count": 14,
      "outputs": []
    },
    {
      "cell_type": "code",
      "source": [
        "def GetLegendre(n,x,y):\n",
        "\n",
        "  y = (x**2 - 1)**n\n",
        "\n",
        "  poly = sym.diff(y,x,n)/(2**n * math.factorial(n))\n",
        "\n",
        "  return poly"
      ],
      "metadata": {
        "id": "lUxbwMWfKYjh"
      },
      "execution_count": 17,
      "outputs": []
    },
    {
      "cell_type": "code",
      "source": [
        "n = 12\n",
        "Legendre = []\n",
        "DLegendre = []\n",
        "\n",
        "for i in range(n-1):\n",
        "  Poly = GetLegendre(i,x,y)\n",
        "  Legendre.append(Poly)\n",
        "  DLegendre.append(sym.diff(Poly,x))"
      ],
      "metadata": {
        "id": "or4xL57lKYsW"
      },
      "execution_count": 55,
      "outputs": []
    },
    {
      "cell_type": "code",
      "source": [
        "Legendre"
      ],
      "metadata": {
        "id": "rEOvAg8BSuJK",
        "colab": {
          "base_uri": "https://localhost:8080/",
          "height": 100
        },
        "outputId": "e27d09a5-5661-4430-d4e3-7f6481c22609"
      },
      "execution_count": 56,
      "outputs": [
        {
          "output_type": "execute_result",
          "data": {
            "text/plain": [
              "⎡                                                                2    ⎛                            ↪\n",
              "⎢         2        ⎛   2    ⎞     4       2 ⎛ 2    ⎞     ⎛ 2    ⎞     ⎜   4       2 ⎛ 2    ⎞       ↪\n",
              "⎢      3⋅x  - 1  x⋅⎝5⋅x  - 3⎠  8⋅x  + 24⋅x ⋅⎝x  - 1⎠ + 3⋅⎝x  - 1⎠   x⋅⎝8⋅x  + 40⋅x ⋅⎝x  - 1⎠ + 15⋅ ↪\n",
              "⎢1, x, ────────, ────────────, ───────────────────────────────────, ────────────────────────────── ↪\n",
              "⎣         2           2                         8                                      8           ↪\n",
              "\n",
              "↪         2⎞                                          2             3    ⎛                         ↪\n",
              "↪ ⎛ 2    ⎞ ⎟      6        4 ⎛ 2    ⎞       2 ⎛ 2    ⎞      ⎛ 2    ⎞     ⎜    6        4 ⎛ 2    ⎞  ↪\n",
              "↪ ⎝x  - 1⎠ ⎠  16⋅x  + 120⋅x ⋅⎝x  - 1⎠ + 90⋅x ⋅⎝x  - 1⎠  + 5⋅⎝x  - 1⎠   x⋅⎝16⋅x  + 168⋅x ⋅⎝x  - 1⎠  ↪\n",
              "↪ ──────────, ───────────────────────────────────────────────────────, ─────────────────────────── ↪\n",
              "↪                                       16                                                         ↪\n",
              "\n",
              "↪                  2              3⎞                                              2                ↪\n",
              "↪        2 ⎛ 2    ⎞       ⎛ 2    ⎞ ⎟       8         6 ⎛ 2    ⎞         4 ⎛ 2    ⎞          2 ⎛ 2  ↪\n",
              "↪ + 210⋅x ⋅⎝x  - 1⎠  + 35⋅⎝x  - 1⎠ ⎠  128⋅x  + 1792⋅x ⋅⎝x  - 1⎠ + 3360⋅x ⋅⎝x  - 1⎠  + 1120⋅x ⋅⎝x   ↪\n",
              "↪ ──────────────────────────────────, ──────────────────────────────────────────────────────────── ↪\n",
              "↪   16                                                                      128                    ↪\n",
              "\n",
              "↪     3              4    ⎛                                            2                   3       ↪\n",
              "↪    ⎞       ⎛ 2    ⎞     ⎜     8         6 ⎛ 2    ⎞         4 ⎛ 2    ⎞          2 ⎛ 2    ⎞        ↪\n",
              "↪ - 1⎠  + 35⋅⎝x  - 1⎠   x⋅⎝128⋅x  + 2304⋅x ⋅⎝x  - 1⎠ + 6048⋅x ⋅⎝x  - 1⎠  + 3360⋅x ⋅⎝x  - 1⎠  + 315 ↪\n",
              "↪ ────────────────────, ────────────────────────────────────────────────────────────────────────── ↪\n",
              "↪                                                                128                               ↪\n",
              "\n",
              "↪          4⎞                                                2                    3                ↪\n",
              "↪  ⎛ 2    ⎞ ⎟       10         8 ⎛ 2    ⎞          6 ⎛ 2    ⎞           4 ⎛ 2    ⎞          2 ⎛ 2  ↪\n",
              "↪ ⋅⎝x  - 1⎠ ⎠  256⋅x   + 5760⋅x ⋅⎝x  - 1⎠ + 20160⋅x ⋅⎝x  - 1⎠  + 16800⋅x ⋅⎝x  - 1⎠  + 3150⋅x ⋅⎝x   ↪\n",
              "↪ ───────────, ─────────────────────────────────────────────────────────────────────────────────── ↪\n",
              "↪                                                                256                               ↪\n",
              "\n",
              "↪     4              5⎤\n",
              "↪    ⎞       ⎛ 2    ⎞ ⎥\n",
              "↪ - 1⎠  + 63⋅⎝x  - 1⎠ ⎥\n",
              "↪ ────────────────────⎥\n",
              "↪                     ⎦"
            ],
            "text/latex": "$\\displaystyle \\left[ 1, \\  x, \\  \\frac{3 x^{2} - 1}{2}, \\  \\frac{x \\left(5 x^{2} - 3\\right)}{2}, \\  \\frac{8 x^{4} + 24 x^{2} \\left(x^{2} - 1\\right) + 3 \\left(x^{2} - 1\\right)^{2}}{8}, \\  \\frac{x \\left(8 x^{4} + 40 x^{2} \\left(x^{2} - 1\\right) + 15 \\left(x^{2} - 1\\right)^{2}\\right)}{8}, \\  \\frac{16 x^{6} + 120 x^{4} \\left(x^{2} - 1\\right) + 90 x^{2} \\left(x^{2} - 1\\right)^{2} + 5 \\left(x^{2} - 1\\right)^{3}}{16}, \\  \\frac{x \\left(16 x^{6} + 168 x^{4} \\left(x^{2} - 1\\right) + 210 x^{2} \\left(x^{2} - 1\\right)^{2} + 35 \\left(x^{2} - 1\\right)^{3}\\right)}{16}, \\  \\frac{128 x^{8} + 1792 x^{6} \\left(x^{2} - 1\\right) + 3360 x^{4} \\left(x^{2} - 1\\right)^{2} + 1120 x^{2} \\left(x^{2} - 1\\right)^{3} + 35 \\left(x^{2} - 1\\right)^{4}}{128}, \\  \\frac{x \\left(128 x^{8} + 2304 x^{6} \\left(x^{2} - 1\\right) + 6048 x^{4} \\left(x^{2} - 1\\right)^{2} + 3360 x^{2} \\left(x^{2} - 1\\right)^{3} + 315 \\left(x^{2} - 1\\right)^{4}\\right)}{128}, \\  \\frac{256 x^{10} + 5760 x^{8} \\left(x^{2} - 1\\right) + 20160 x^{6} \\left(x^{2} - 1\\right)^{2} + 16800 x^{4} \\left(x^{2} - 1\\right)^{3} + 3150 x^{2} \\left(x^{2} - 1\\right)^{4} + 63 \\left(x^{2} - 1\\right)^{5}}{256}\\right]$"
          },
          "metadata": {},
          "execution_count": 56
        }
      ]
    },
    {
      "cell_type": "code",
      "source": [
        "DLegendre"
      ],
      "metadata": {
        "colab": {
          "base_uri": "https://localhost:8080/",
          "height": 100
        },
        "id": "8ppBuF1kNm2E",
        "outputId": "174e09da-802d-4bf4-aa26-e0347beb10c8"
      },
      "execution_count": 57,
      "outputs": [
        {
          "output_type": "execute_result",
          "data": {
            "text/plain": [
              "⎡                                                                                                  ↪\n",
              "⎢               2                   ⎛ 2    ⎞                         ⎛     3         ⎛ 2    ⎞⎞     ↪\n",
              "⎢           15⋅x    3      3   15⋅x⋅⎝x  - 1⎠   4      2 ⎛ 2    ⎞   x⋅⎝112⋅x  + 140⋅x⋅⎝x  - 1⎠⎠   1 ↪\n",
              "⎢0, 1, 3⋅x, ───── - ─, 10⋅x  + ─────────────, x  + 5⋅x ⋅⎝x  - 1⎠ + ─────────────────────────── + ─ ↪\n",
              "⎣             2     2                2                                          8                  ↪\n",
              "\n",
              "↪           2                                          2                                       2   ↪\n",
              "↪   ⎛ 2    ⎞                3 ⎛ 2    ⎞         ⎛ 2    ⎞            4 ⎛ 2    ⎞        2 ⎛ 2    ⎞    ↪\n",
              "↪ 5⋅⎝x  - 1⎠       5   105⋅x ⋅⎝x  - 1⎠   105⋅x⋅⎝x  - 1⎠    6   21⋅x ⋅⎝x  - 1⎠   105⋅x ⋅⎝x  - 1⎠    ↪\n",
              "↪ ───────────, 21⋅x  + ─────────────── + ───────────────, x  + ────────────── + ──────────────── + ↪\n",
              "↪     8                       2                 8                    2                 8           ↪\n",
              "\n",
              "↪    ⎛                                          2⎞              3                                  ↪\n",
              "↪    ⎜     5         3 ⎛ 2    ⎞         ⎛ 2    ⎞ ⎟      ⎛ 2    ⎞                                   ↪\n",
              "↪  x⋅⎝432⋅x  + 1512⋅x ⋅⎝x  - 1⎠ + 630⋅x⋅⎝x  - 1⎠ ⎠   35⋅⎝x  - 1⎠       7        5 ⎛ 2    ⎞   315⋅x ↪\n",
              "↪  ─────────────────────────────────────────────── + ────────────, 36⋅x  + 189⋅x ⋅⎝x  - 1⎠ + ───── ↪\n",
              "↪                        16                               16                                       ↪\n",
              "\n",
              "↪           2                 3                                       2                  3     ⎛   ↪\n",
              "↪ 3 ⎛ 2    ⎞          ⎛ 2    ⎞                              4 ⎛ 2    ⎞         2 ⎛ 2    ⎞      ⎜   ↪\n",
              "↪  ⋅⎝x  - 1⎠    315⋅x⋅⎝x  - 1⎠    8       6 ⎛ 2    ⎞   189⋅x ⋅⎝x  - 1⎠    105⋅x ⋅⎝x  - 1⎠    x⋅⎝56 ↪\n",
              "↪ ─────────── + ───────────────, x  + 18⋅x ⋅⎝x  - 1⎠ + ──────────────── + ──────────────── + ───── ↪\n",
              "↪   2                 16                                      4                  4                 ↪\n",
              "\n",
              "↪                                              2                  3⎞               4               ↪\n",
              "↪     7          5 ⎛ 2    ⎞          3 ⎛ 2    ⎞           ⎛ 2    ⎞ ⎟       ⎛ 2    ⎞                ↪\n",
              "↪ 32⋅x  + 38016⋅x ⋅⎝x  - 1⎠ + 44352⋅x ⋅⎝x  - 1⎠  + 9240⋅x⋅⎝x  - 1⎠ ⎠   315⋅⎝x  - 1⎠       9        ↪\n",
              "↪ ────────────────────────────────────────────────────────────────── + ─────────────, 55⋅x  + 495⋅ ↪\n",
              "↪                              128                                          128                    ↪\n",
              "\n",
              "↪                               2                   3                  4⎤\n",
              "↪                     5 ⎛ 2    ⎞          3 ⎛ 2    ⎞           ⎛ 2    ⎞ ⎥\n",
              "↪  7 ⎛ 2    ⎞   3465⋅x ⋅⎝x  - 1⎠    5775⋅x ⋅⎝x  - 1⎠    3465⋅x⋅⎝x  - 1⎠ ⎥\n",
              "↪ x ⋅⎝x  - 1⎠ + ───────────────── + ───────────────── + ────────────────⎥\n",
              "↪                       4                  16                 128       ⎦"
            ],
            "text/latex": "$\\displaystyle \\left[ 0, \\  1, \\  3 x, \\  \\frac{15 x^{2}}{2} - \\frac{3}{2}, \\  10 x^{3} + \\frac{15 x \\left(x^{2} - 1\\right)}{2}, \\  x^{4} + 5 x^{2} \\left(x^{2} - 1\\right) + \\frac{x \\left(112 x^{3} + 140 x \\left(x^{2} - 1\\right)\\right)}{8} + \\frac{15 \\left(x^{2} - 1\\right)^{2}}{8}, \\  21 x^{5} + \\frac{105 x^{3} \\left(x^{2} - 1\\right)}{2} + \\frac{105 x \\left(x^{2} - 1\\right)^{2}}{8}, \\  x^{6} + \\frac{21 x^{4} \\left(x^{2} - 1\\right)}{2} + \\frac{105 x^{2} \\left(x^{2} - 1\\right)^{2}}{8} + \\frac{x \\left(432 x^{5} + 1512 x^{3} \\left(x^{2} - 1\\right) + 630 x \\left(x^{2} - 1\\right)^{2}\\right)}{16} + \\frac{35 \\left(x^{2} - 1\\right)^{3}}{16}, \\  36 x^{7} + 189 x^{5} \\left(x^{2} - 1\\right) + \\frac{315 x^{3} \\left(x^{2} - 1\\right)^{2}}{2} + \\frac{315 x \\left(x^{2} - 1\\right)^{3}}{16}, \\  x^{8} + 18 x^{6} \\left(x^{2} - 1\\right) + \\frac{189 x^{4} \\left(x^{2} - 1\\right)^{2}}{4} + \\frac{105 x^{2} \\left(x^{2} - 1\\right)^{3}}{4} + \\frac{x \\left(5632 x^{7} + 38016 x^{5} \\left(x^{2} - 1\\right) + 44352 x^{3} \\left(x^{2} - 1\\right)^{2} + 9240 x \\left(x^{2} - 1\\right)^{3}\\right)}{128} + \\frac{315 \\left(x^{2} - 1\\right)^{4}}{128}, \\  55 x^{9} + 495 x^{7} \\left(x^{2} - 1\\right) + \\frac{3465 x^{5} \\left(x^{2} - 1\\right)^{2}}{4} + \\frac{5775 x^{3} \\left(x^{2} - 1\\right)^{3}}{16} + \\frac{3465 x \\left(x^{2} - 1\\right)^{4}}{128}\\right]$"
          },
          "metadata": {},
          "execution_count": 57
        }
      ]
    },
    {
      "cell_type": "code",
      "source": [],
      "metadata": {
        "id": "E_k26azoN2M5"
      },
      "execution_count": 57,
      "outputs": []
    },
    {
      "cell_type": "code",
      "source": [],
      "metadata": {
        "id": "nmJb1-p7N2Pi"
      },
      "execution_count": 57,
      "outputs": []
    },
    {
      "cell_type": "code",
      "source": [
        "def GetNewtonMethod(f,df,xn,itmax=100,precision=1e-14):\n",
        "\n",
        "  error = 1\n",
        "  it = 0\n",
        "\n",
        "  while error > precision and it < itmax:\n",
        "\n",
        "    try:\n",
        "      dfxn = df(xn)\n",
        "      if np.abs(dfxn) < 1e-16:\n",
        "        return False\n",
        "\n",
        "      xn1 = xn - f(xn)/dfxn\n",
        "      error = np.abs(xn1-xn)\n",
        "    except ZeroDivisionError:\n",
        "      print('Division por error')\n",
        "      return False\n",
        "\n",
        "    xn = xn1\n",
        "    it += 1\n",
        "\n",
        "  if it == itmax:\n",
        "    return False\n",
        "  else:\n",
        "    return xn"
      ],
      "metadata": {
        "id": "-Evn2g_ZjMI1"
      },
      "execution_count": 58,
      "outputs": []
    },
    {
      "cell_type": "code",
      "source": [
        "def GetRoots(f, df, x, atol=1e-9, max_iter = 100, precision = 1e-14):\n",
        "\n",
        "  Roots = np.array([])\n",
        "\n",
        "  for x0 in x:\n",
        "    #print(x)\n",
        "    root = GetNewtonMethod(f,df,x0,max_iter,precision)\n",
        "    #print(x0)\n",
        "    if root is not False:\n",
        "\n",
        "      if not any(np.isclose(root, r, atol=atol) for r in Roots):\n",
        "        print('New root found', root)\n",
        "        Roots = np.append(Roots,root)\n",
        "\n",
        "  Roots.sort()\n",
        "\n",
        "  return Roots"
      ],
      "metadata": {
        "id": "FigIRtbAjOLp"
      },
      "execution_count": 59,
      "outputs": []
    },
    {
      "cell_type": "code",
      "source": [
        "def GetAllRoots(n,xn,Legendre,DLegendre):\n",
        "\n",
        "  poly = sym.lambdify([x],Legendre[n],'numpy')\n",
        "  Dpoly = sym.lambdify([x],DLegendre[n],'numpy')\n",
        "  Roots = GetRoots(poly,Dpoly,xn)\n",
        "\n",
        "  return Roots\n"
      ],
      "metadata": {
        "id": "gm7NYHk7jPxu"
      },
      "execution_count": 60,
      "outputs": []
    },
    {
      "cell_type": "code",
      "source": [
        "xn = np.linspace(-1,1,100,dtype=np.float32)\n",
        "Roots = GetAllRoots(10,xn,Legendre,DLegendre)"
      ],
      "metadata": {
        "colab": {
          "base_uri": "https://localhost:8080/"
        },
        "id": "vWNiZCr3QchF",
        "outputId": "b5158b3a-0b20-4fe3-85bf-5805398068e2"
      },
      "execution_count": 61,
      "outputs": [
        {
          "output_type": "stream",
          "name": "stdout",
          "text": [
            "New root found -0.9739065285171717\n",
            "New root found -0.8650633666889845\n",
            "New root found -0.14887433898163122\n",
            "New root found -0.6794095682990243\n",
            "New root found 0.14887433898163122\n",
            "New root found -0.4333953941292471\n",
            "New root found 0.9739065285171717\n",
            "New root found 0.8650633666889845\n",
            "New root found 0.6794095682990243\n",
            "New root found 0.43339539412924727\n"
          ]
        }
      ]
    },
    {
      "cell_type": "code",
      "source": [
        "Roots, Weights = np.polynomial.legendre.leggauss(10)\n",
        "Roots"
      ],
      "metadata": {
        "colab": {
          "base_uri": "https://localhost:8080/"
        },
        "id": "_VzWeDUWQwtR",
        "outputId": "804e3ad3-6ccf-4d21-c7f0-a998311d67ba"
      },
      "execution_count": 62,
      "outputs": [
        {
          "output_type": "execute_result",
          "data": {
            "text/plain": [
              "array([-0.97390653, -0.86506337, -0.67940957, -0.43339539, -0.14887434,\n",
              "        0.14887434,  0.43339539,  0.67940957,  0.86506337,  0.97390653])"
            ]
          },
          "metadata": {},
          "execution_count": 62
        }
      ]
    },
    {
      "cell_type": "code",
      "source": [
        "Weights"
      ],
      "metadata": {
        "colab": {
          "base_uri": "https://localhost:8080/"
        },
        "id": "_2uIS7gfTa3z",
        "outputId": "ed41eea1-4d59-478b-de63-717fb1538b4f"
      },
      "execution_count": 63,
      "outputs": [
        {
          "output_type": "execute_result",
          "data": {
            "text/plain": [
              "array([0.06667134, 0.14945135, 0.21908636, 0.26926672, 0.29552422,\n",
              "       0.29552422, 0.26926672, 0.21908636, 0.14945135, 0.06667134])"
            ]
          },
          "metadata": {},
          "execution_count": 63
        }
      ]
    },
    {
      "cell_type": "code",
      "source": [
        "def GetWeights(Roots,DLegendre):\n",
        "\n",
        "  Dpoly = sym.lambdify([x],DLegendre[10],'numpy')\n",
        "  Weights = 2/((1-Roots**2)*Dpoly(Roots)**2)\n",
        "  return Weights\n"
      ],
      "metadata": {
        "id": "tYk5eqwFRxPx"
      },
      "execution_count": 66,
      "outputs": []
    },
    {
      "cell_type": "code",
      "source": [
        "Weights1 = GetWeights(Roots,DLegendre)"
      ],
      "metadata": {
        "id": "G4sSTFRzUS3B"
      },
      "execution_count": 67,
      "outputs": []
    },
    {
      "cell_type": "code",
      "source": [
        "Weights"
      ],
      "metadata": {
        "colab": {
          "base_uri": "https://localhost:8080/"
        },
        "id": "dPFAJqTrUYMW",
        "outputId": "b02f46ee-139a-4850-a1bb-3eb8578ecaaa"
      },
      "execution_count": 68,
      "outputs": [
        {
          "output_type": "execute_result",
          "data": {
            "text/plain": [
              "array([0.06667134, 0.14945135, 0.21908636, 0.26926672, 0.29552422,\n",
              "       0.29552422, 0.26926672, 0.21908636, 0.14945135, 0.06667134])"
            ]
          },
          "metadata": {},
          "execution_count": 68
        }
      ]
    },
    {
      "cell_type": "code",
      "source": [
        "Weights1"
      ],
      "metadata": {
        "colab": {
          "base_uri": "https://localhost:8080/"
        },
        "id": "lk9k4AvzUsJ3",
        "outputId": "ae08dc21-19df-4345-e4ec-e5fad4304faa"
      },
      "execution_count": 69,
      "outputs": [
        {
          "output_type": "execute_result",
          "data": {
            "text/plain": [
              "array([0.06667134, 0.14945135, 0.21908636, 0.26926672, 0.29552422,\n",
              "       0.29552422, 0.26926672, 0.21908636, 0.14945135, 0.06667134])"
            ]
          },
          "metadata": {},
          "execution_count": 69
        }
      ]
    },
    {
      "cell_type": "code",
      "source": [
        "x = sym.Symbol('x',real=True)\n",
        "y = sym.Symbol('y',real=True)"
      ],
      "metadata": {
        "id": "u0hJjKXAUuE2"
      },
      "execution_count": 70,
      "outputs": []
    },
    {
      "cell_type": "code",
      "source": [
        "F = x*y*sym.sin(x)\n",
        "F"
      ],
      "metadata": {
        "colab": {
          "base_uri": "https://localhost:8080/",
          "height": 39
        },
        "id": "lMgcCj12W3kr",
        "outputId": "46670caa-1f23-473d-cdf0-7143e82edf40"
      },
      "execution_count": 71,
      "outputs": [
        {
          "output_type": "execute_result",
          "data": {
            "text/plain": [
              "x⋅y⋅sin(x)"
            ],
            "text/latex": "$\\displaystyle x y \\sin{\\left(x \\right)}$"
          },
          "metadata": {},
          "execution_count": 71
        }
      ]
    },
    {
      "cell_type": "code",
      "source": [
        "sym.integrate(F,(x,-1,1),(y,(-1,1)))"
      ],
      "metadata": {
        "colab": {
          "base_uri": "https://localhost:8080/",
          "height": 37
        },
        "id": "kjiL73dNW6yc",
        "outputId": "13a01eb6-8e9c-47eb-99bb-50cec9f865e4"
      },
      "execution_count": 72,
      "outputs": [
        {
          "output_type": "execute_result",
          "data": {
            "text/plain": [
              "0"
            ],
            "text/latex": "$\\displaystyle 0$"
          },
          "metadata": {},
          "execution_count": 72
        }
      ]
    },
    {
      "cell_type": "code",
      "source": [],
      "metadata": {
        "id": "sZZoF5ajXAE1"
      },
      "execution_count": null,
      "outputs": []
    }
  ]
}