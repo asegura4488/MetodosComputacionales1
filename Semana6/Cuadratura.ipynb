{
  "nbformat": 4,
  "nbformat_minor": 0,
  "metadata": {
    "colab": {
      "provenance": [],
      "authorship_tag": "ABX9TyPekC3kmDg7blR4Gb6LF9EH",
      "include_colab_link": true
    },
    "kernelspec": {
      "name": "python3",
      "display_name": "Python 3"
    },
    "language_info": {
      "name": "python"
    }
  },
  "cells": [
    {
      "cell_type": "markdown",
      "metadata": {
        "id": "view-in-github",
        "colab_type": "text"
      },
      "source": [
        "<a href=\"https://colab.research.google.com/github/asegura4488/MetodosComputacionales1/blob/main/Semana6/Cuadratura.ipynb\" target=\"_parent\"><img src=\"https://colab.research.google.com/assets/colab-badge.svg\" alt=\"Open In Colab\"/></a>"
      ]
    },
    {
      "cell_type": "code",
      "execution_count": 1,
      "metadata": {
        "id": "SUTi25IqiTJ0"
      },
      "outputs": [],
      "source": [
        "import numpy as np\n",
        "import matplotlib.pyplot as plt\n",
        "import sympy as sym\n",
        "import math\n",
        "sym.init_printing(use_unicode=True)"
      ]
    },
    {
      "cell_type": "code",
      "source": [
        "x = sym.Symbol('x', real=True)\n",
        "f = sym.sin(x)"
      ],
      "metadata": {
        "id": "gUzyLuztjGSY"
      },
      "execution_count": 2,
      "outputs": []
    },
    {
      "cell_type": "code",
      "source": [
        "sym.integrate(f,(x,-1,1))"
      ],
      "metadata": {
        "id": "dgLwcKuNjL8X",
        "colab": {
          "base_uri": "https://localhost:8080/",
          "height": 37
        },
        "outputId": "61485ebc-bfc9-41f5-d7e2-74ac04bd15b3"
      },
      "execution_count": 4,
      "outputs": [
        {
          "output_type": "execute_result",
          "data": {
            "text/plain": [
              "0"
            ],
            "text/latex": "$\\displaystyle 0$"
          },
          "metadata": {},
          "execution_count": 4
        }
      ]
    },
    {
      "cell_type": "code",
      "source": [
        "# Integral por cuadratura\n",
        "w0 = np.array([1.,1.])\n",
        "r0 = np.array([-1/np.sqrt(3),1/np.sqrt(3)])\n",
        "r0"
      ],
      "metadata": {
        "id": "dHFxYdsLjMAi",
        "colab": {
          "base_uri": "https://localhost:8080/"
        },
        "outputId": "741a38a2-515e-461d-efb6-1d5107c312ab"
      },
      "execution_count": 9,
      "outputs": [
        {
          "output_type": "execute_result",
          "data": {
            "text/plain": [
              "array([-0.57735027,  0.57735027])"
            ]
          },
          "metadata": {},
          "execution_count": 9
        }
      ]
    },
    {
      "cell_type": "code",
      "source": [
        "I = np.sum( w0*np.sin(r0) )\n",
        "I"
      ],
      "metadata": {
        "id": "WYxPY_FOjMGT",
        "colab": {
          "base_uri": "https://localhost:8080/",
          "height": 37
        },
        "outputId": "d0539f3c-24c3-4dd5-844e-e9cac13f53cf"
      },
      "execution_count": 10,
      "outputs": [
        {
          "output_type": "execute_result",
          "data": {
            "text/plain": [
              "0.0"
            ],
            "text/latex": "$\\displaystyle 0.0$"
          },
          "metadata": {},
          "execution_count": 10
        }
      ]
    },
    {
      "cell_type": "code",
      "source": [
        "f = sym.exp(-x**2)\n",
        "f"
      ],
      "metadata": {
        "colab": {
          "base_uri": "https://localhost:8080/",
          "height": 41
        },
        "id": "mFW40PbrQCT-",
        "outputId": "2b9e3939-2b63-43e9-c33d-6783b650b643"
      },
      "execution_count": 12,
      "outputs": [
        {
          "output_type": "execute_result",
          "data": {
            "text/plain": [
              "   2\n",
              " -x \n",
              "ℯ   "
            ],
            "text/latex": "$\\displaystyle e^{- x^{2}}$"
          },
          "metadata": {},
          "execution_count": 12
        }
      ]
    },
    {
      "cell_type": "code",
      "source": [
        "sym.integrate(f,(x,-1,1))"
      ],
      "metadata": {
        "colab": {
          "base_uri": "https://localhost:8080/",
          "height": 37
        },
        "id": "VYrc60jWQCbS",
        "outputId": "1f436575-4736-424c-c49c-2e24fcd01bda"
      },
      "execution_count": 13,
      "outputs": [
        {
          "output_type": "execute_result",
          "data": {
            "text/plain": [
              "√π⋅erf(1)"
            ],
            "text/latex": "$\\displaystyle \\sqrt{\\pi} \\operatorname{erf}{\\left(1 \\right)}$"
          },
          "metadata": {},
          "execution_count": 13
        }
      ]
    },
    {
      "cell_type": "code",
      "source": [],
      "metadata": {
        "id": "XOiTVhTUQO3E"
      },
      "execution_count": null,
      "outputs": []
    },
    {
      "cell_type": "code",
      "source": [],
      "metadata": {
        "id": "BuSUYv0OQO62"
      },
      "execution_count": null,
      "outputs": []
    },
    {
      "cell_type": "code",
      "source": [
        "def GetNewtonMethod(f,df,xn,itmax=100,precision=1e-14):\n",
        "\n",
        "  error = 1\n",
        "  it = 0\n",
        "\n",
        "  while error > precision and it < itmax:\n",
        "\n",
        "    try:\n",
        "      dfxn = df(xn)\n",
        "      if np.abs(dfxn) < 1e-16:\n",
        "        return False\n",
        "\n",
        "      xn1 = xn - f(xn)/dfxn\n",
        "      error = np.abs(xn1-xn)\n",
        "    except ZeroDivisionError:\n",
        "      print('Division por error')\n",
        "      return False\n",
        "\n",
        "    xn = xn1\n",
        "    it += 1\n",
        "\n",
        "  if it == itmax:\n",
        "    return False\n",
        "  else:\n",
        "    return xn"
      ],
      "metadata": {
        "id": "-Evn2g_ZjMI1"
      },
      "execution_count": null,
      "outputs": []
    },
    {
      "cell_type": "code",
      "source": [
        "def GetAllRoots(f, df, x, atol=1e-9, max_iter = 100, precision = 1e-14):\n",
        "\n",
        "  Roots = np.array([])\n",
        "\n",
        "  for x0 in x:\n",
        "    #print(x)\n",
        "    root = GetNewtonMethod(f,df,x0,max_iter,precision)\n",
        "    #print(x0)\n",
        "    if root is not False:\n",
        "\n",
        "      if not any(np.isclose(root, r, atol=atol) for r in Roots):\n",
        "        print('New root found', root)\n",
        "        Roots = np.append(Roots,root)\n",
        "\n",
        "  Roots.sort()\n",
        "\n",
        "  return Roots"
      ],
      "metadata": {
        "id": "FigIRtbAjOLp"
      },
      "execution_count": null,
      "outputs": []
    },
    {
      "cell_type": "code",
      "source": [],
      "metadata": {
        "id": "gm7NYHk7jPxu"
      },
      "execution_count": null,
      "outputs": []
    }
  ]
}