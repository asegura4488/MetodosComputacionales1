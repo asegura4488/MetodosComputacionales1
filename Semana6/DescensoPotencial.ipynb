{
  "nbformat": 4,
  "nbformat_minor": 0,
  "metadata": {
    "colab": {
      "provenance": [],
      "include_colab_link": true
    },
    "kernelspec": {
      "name": "python3",
      "display_name": "Python 3"
    },
    "language_info": {
      "name": "python"
    }
  },
  "cells": [
    {
      "cell_type": "markdown",
      "metadata": {
        "id": "view-in-github",
        "colab_type": "text"
      },
      "source": [
        "<a href=\"https://colab.research.google.com/github/asegura4488/MetodosComputacionales1/blob/main/Semana6/DescensoPotencial.ipynb\" target=\"_parent\"><img src=\"https://colab.research.google.com/assets/colab-badge.svg\" alt=\"Open In Colab\"/></a>"
      ]
    },
    {
      "cell_type": "code",
      "source": [
        "import numpy as np\n",
        "import matplotlib.pyplot as plt"
      ],
      "metadata": {
        "id": "w8-mY1uyqBWG"
      },
      "execution_count": null,
      "outputs": []
    },
    {
      "cell_type": "code",
      "source": [
        "def norm(x, y, z, xi, yi, zi):\n",
        "  return np.sqrt((x - xi)**2 + (y - yi)**2 + (z - zi)**2)"
      ],
      "metadata": {
        "id": "S8O3gqzmqJhC"
      },
      "execution_count": null,
      "outputs": []
    },
    {
      "cell_type": "code",
      "source": [
        "def fn(x, y, z):\n",
        "  return (1 / norm(x, y, z, 1, 0, 0)) + (1 / norm(x, y, z, 0, 2, 0)) + (1 / norm(x, y, z, 0, 0, -1)) + (1 / norm(x, y, z, 0, 0, 4))"
      ],
      "metadata": {
        "id": "2AeNJk1NpicZ"
      },
      "execution_count": null,
      "outputs": []
    },
    {
      "cell_type": "code",
      "execution_count": null,
      "metadata": {
        "id": "aTJghnZhpRM0"
      },
      "outputs": [],
      "source": [
        "Dx = lambda x, y, z, h=1e-5: (fn(x + h, y, z) - fn(x - h, y, z)) / (2 * h)\n",
        "Dy = lambda x, y, z, h=1e-5: (fn(x, y + h, z) - fn(x, y - h, z)) / (2 * h)\n",
        "Dz = lambda x, y, z, h=1e-5: (fn(x, y, z + h) - fn(x, y, z - h)) / (2 * h)"
      ]
    },
    {
      "cell_type": "code",
      "source": [
        "  x = np.linspace(-2,2,50)\n",
        "  y = np.linspace(-2,2,50)\n",
        "  z = np.linspace(-2,2,50)"
      ],
      "metadata": {
        "id": "DvDenZD7pgcN"
      },
      "execution_count": null,
      "outputs": []
    },
    {
      "cell_type": "code",
      "source": [
        "gradient = lambda x, y, z: np.array([Dx(x, y, z), Dy(x, y, z), Dz(x, y, z)])"
      ],
      "metadata": {
        "id": "iU3XwpB1p_v0"
      },
      "execution_count": null,
      "outputs": []
    },
    {
      "cell_type": "code",
      "source": [
        "def gradient_descent(f, epochs=50, gamma=0.1):\n",
        "  r = [np.random.uniform(-10, 10), np.random.uniform(-10, 10), np.random.uniform(-10, 10)]\n",
        "  for e in range(epochs):\n",
        "    fp = gradient(r[0],r[1], r[2])\n",
        "    r = r - gamma* fp\n",
        "    print(r)"
      ],
      "metadata": {
        "id": "Pt6B9yEBqyJV"
      },
      "execution_count": null,
      "outputs": []
    },
    {
      "cell_type": "code",
      "source": [
        "gradient_descent(fn)"
      ],
      "metadata": {
        "colab": {
          "base_uri": "https://localhost:8080/"
        },
        "id": "A-mqDXEArOZo",
        "outputId": "83f0a7bd-0c49-4097-ff7b-a272ad80849a"
      },
      "execution_count": null,
      "outputs": [
        {
          "output_type": "stream",
          "name": "stdout",
          "text": [
            "[-7.07385011 -9.4000497  -0.23133726]\n",
            "[-7.0753607  -9.40207002 -0.23152861]\n",
            "[-7.07687069 -9.40408954 -0.23171988]\n",
            "[-7.07838009 -9.40610826 -0.23191109]\n",
            "[-7.07988888 -9.40812619 -0.23210223]\n",
            "[-7.08139708 -9.41014332 -0.2322933 ]\n",
            "[-7.08290468 -9.41215966 -0.2324843 ]\n",
            "[-7.08441169 -9.41417521 -0.23267523]\n",
            "[-7.0859181  -9.41618996 -0.23286609]\n",
            "[-7.08742392 -9.41820392 -0.23305688]\n",
            "[-7.08892914 -9.42021709 -0.2332476 ]\n",
            "[-7.09043377 -9.42222947 -0.23343825]\n",
            "[-7.0919378  -9.42424106 -0.23362883]\n",
            "[-7.09344125 -9.42625187 -0.23381935]\n",
            "[-7.0949441  -9.42826188 -0.23400979]\n",
            "[-7.09644636 -9.43027111 -0.23420016]\n",
            "[-7.09794803 -9.43227955 -0.23439047]\n",
            "[-7.09944911 -9.43428721 -0.2345807 ]\n",
            "[-7.1009496  -9.43629408 -0.23477087]\n",
            "[-7.1024495  -9.43830017 -0.23496096]\n",
            "[-7.10394881 -9.44030547 -0.23515099]\n",
            "[-7.10544754 -9.44231    -0.23534095]\n",
            "[-7.10694567 -9.44431374 -0.23553084]\n",
            "[-7.10844322 -9.4463167  -0.23572066]\n",
            "[-7.10994019 -9.44831887 -0.23591041]\n",
            "[-7.11143657 -9.45032027 -0.23610009]\n",
            "[-7.11293236 -9.4523209  -0.23628971]\n",
            "[-7.11442757 -9.45432074 -0.23647925]\n",
            "[-7.1159222  -9.45631981 -0.23666873]\n",
            "[-7.11741624 -9.45831809 -0.23685814]\n",
            "[-7.1189097  -9.46031561 -0.23704748]\n",
            "[-7.12040258 -9.46231235 -0.23723675]\n",
            "[-7.12189488 -9.46430831 -0.23742596]\n",
            "[-7.12338659 -9.4663035  -0.23761509]\n",
            "[-7.12487773 -9.46829792 -0.23780416]\n",
            "[-7.12636828 -9.47029157 -0.23799316]\n",
            "[-7.12785826 -9.47228445 -0.23818209]\n",
            "[-7.12934765 -9.47427655 -0.23837095]\n",
            "[-7.13083647 -9.47626789 -0.23855975]\n",
            "[-7.13232471 -9.47825845 -0.23874848]\n",
            "[-7.13381238 -9.48024825 -0.23893714]\n",
            "[-7.13529946 -9.48223728 -0.23912573]\n",
            "[-7.13678598 -9.48422555 -0.23931425]\n",
            "[-7.13827191 -9.48621304 -0.23950271]\n",
            "[-7.13975727 -9.48819978 -0.2396911 ]\n",
            "[-7.14124206 -9.49018574 -0.23987942]\n",
            "[-7.14272627 -9.49217095 -0.24006767]\n",
            "[-7.14420991 -9.49415539 -0.24025586]\n",
            "[-7.14569298 -9.49613907 -0.24044398]\n",
            "[-7.14717547 -9.49812199 -0.24063203]\n"
          ]
        }
      ]
    },
    {
      "cell_type": "code",
      "source": [],
      "metadata": {
        "id": "LEGqXutLrZZw"
      },
      "execution_count": null,
      "outputs": []
    }
  ]
}