{
  "nbformat": 4,
  "nbformat_minor": 0,
  "metadata": {
    "colab": {
      "provenance": [],
      "authorship_tag": "ABX9TyMqtW264YOTZ4a8ooyjECx2",
      "include_colab_link": true
    },
    "kernelspec": {
      "name": "python3",
      "display_name": "Python 3"
    },
    "language_info": {
      "name": "python"
    }
  },
  "cells": [
    {
      "cell_type": "markdown",
      "metadata": {
        "id": "view-in-github",
        "colab_type": "text"
      },
      "source": [
        "<a href=\"https://colab.research.google.com/github/asegura4488/MetodosComputacionales1/blob/main/Semana3/NewtonRaphson.ipynb\" target=\"_parent\"><img src=\"https://colab.research.google.com/assets/colab-badge.svg\" alt=\"Open In Colab\"/></a>"
      ]
    },
    {
      "cell_type": "code",
      "execution_count": 79,
      "metadata": {
        "id": "dbuREAdbhzg-"
      },
      "outputs": [],
      "source": [
        "import numpy as np\n",
        "import matplotlib.pyplot as plt\n",
        "from matplotlib import rc"
      ]
    },
    {
      "cell_type": "code",
      "source": [
        "def Function(x):\n",
        "    #return 5*(1-np.exp(-x)) - x\n",
        "    #return x**2 + 1\n",
        "    #return x**x - 100\n",
        "    #return 0.5*(5*x**3 - 3*x)\n",
        "    #return (35*x**4 - 30*x**2 + 3)/8\n",
        "    return (429*x**7 - 693*x**5 + 315*x**3 - 35*x) / 16"
      ],
      "metadata": {
        "id": "z3txQVbDh0ow"
      },
      "execution_count": 114,
      "outputs": []
    },
    {
      "cell_type": "code",
      "source": [
        "x = np.linspace(-1,1,100)\n",
        "y = Function(x)"
      ],
      "metadata": {
        "id": "cTK6BYxxTBKV"
      },
      "execution_count": 115,
      "outputs": []
    },
    {
      "cell_type": "code",
      "source": [
        "plt.plot(x,y,'.')\n",
        "plt.axhline(y=0,color='r',linestyle='--')"
      ],
      "metadata": {
        "id": "-w7no16Ph230",
        "colab": {
          "base_uri": "https://localhost:8080/",
          "height": 447
        },
        "outputId": "0e1eaef3-6c1a-4669-b940-a79002d2686d"
      },
      "execution_count": 116,
      "outputs": [
        {
          "output_type": "execute_result",
          "data": {
            "text/plain": [
              "<matplotlib.lines.Line2D at 0x7e2ea46bbd50>"
            ]
          },
          "metadata": {},
          "execution_count": 116
        },
        {
          "output_type": "display_data",
          "data": {
            "text/plain": [
              "<Figure size 640x480 with 1 Axes>"
            ],
            "image/png": "[encoded data removed]"
          },
          "metadata": {}
        }
      ]
    },
    {
      "cell_type": "code",
      "source": [
        "for i in range(len(x)-1):\n",
        "  fi = Function(x[i])\n",
        "  fj = Function(x[i+1])\n",
        "  if fi*fj < 0:\n",
        "    print(x[i])"
      ],
      "metadata": {
        "colab": {
          "base_uri": "https://localhost:8080/"
        },
        "id": "xLfRSUJLTKXm",
        "outputId": "6e8799db-79b3-42b1-d306-f25025a1c05e"
      },
      "execution_count": 83,
      "outputs": [
        {
          "output_type": "stream",
          "name": "stdout",
          "text": [
            "-0.8787878787878788\n",
            "-0.3535353535353535\n",
            "0.3333333333333335\n",
            "0.8585858585858588\n"
          ]
        }
      ]
    },
    {
      "cell_type": "code",
      "source": [
        "np.sqrt(3/5)"
      ],
      "metadata": {
        "colab": {
          "base_uri": "https://localhost:8080/"
        },
        "id": "AKE3R8LIUL2m",
        "outputId": "11174051-4116-468e-c462-33ccba20383d"
      },
      "execution_count": 117,
      "outputs": [
        {
          "output_type": "execute_result",
          "data": {
            "text/plain": [
              "0.7745966692414834"
            ]
          },
          "metadata": {},
          "execution_count": 117
        }
      ]
    },
    {
      "cell_type": "code",
      "source": [
        "def Derivative(f,x,h=1e-6):\n",
        "  return (f(x+h)-f(x-h))/(2*h)"
      ],
      "metadata": {
        "id": "le0-pXsEUzUC"
      },
      "execution_count": 118,
      "outputs": []
    },
    {
      "cell_type": "code",
      "source": [
        "def GetNewtonMethod(f,df,xn,itmax=100,precision=1e-14):\n",
        "\n",
        "  error = 1\n",
        "  it = 0\n",
        "\n",
        "  while error > precision and it < itmax:\n",
        "\n",
        "    try:\n",
        "      dfxn = df(f,xn)\n",
        "      if np.abs(dfxn) < 1e-16:\n",
        "        return False\n",
        "\n",
        "      xn1 = xn - f(xn)/dfxn\n",
        "      error = np.abs(xn1-xn)\n",
        "    except ZeroDivisionError:\n",
        "      print('Division por error')\n",
        "      return False\n",
        "\n",
        "    xn = xn1\n",
        "    it += 1\n",
        "\n",
        "  if it == itmax:\n",
        "    return False\n",
        "  else:\n",
        "    return xn"
      ],
      "metadata": {
        "id": "O2kZqp4PWTyx"
      },
      "execution_count": 119,
      "outputs": []
    },
    {
      "cell_type": "code",
      "source": [
        "root = GetNewtonMethod(Function,Derivative,0.9)\n",
        "root"
      ],
      "metadata": {
        "colab": {
          "base_uri": "https://localhost:8080/"
        },
        "id": "o4OQpEdfYF0d",
        "outputId": "1b6e9520-c724-44af-dd77-1e4eb23cf0d3"
      },
      "execution_count": 120,
      "outputs": [
        {
          "output_type": "execute_result",
          "data": {
            "text/plain": [
              "0.9491079123427585"
            ]
          },
          "metadata": {},
          "execution_count": 120
        }
      ]
    },
    {
      "cell_type": "code",
      "source": [
        "def GetAllRoots(x, atol=1e-9, max_iter = 100, precision = 1e-14):\n",
        "\n",
        "  Roots = np.array([])\n",
        "\n",
        "  for x0 in x:\n",
        "    #print(x)\n",
        "    root = GetNewtonMethod(Function,Derivative,x0,max_iter,precision)\n",
        "    #print(x0)\n",
        "    if root is not False:\n",
        "\n",
        "      if not any(np.isclose(root, r, atol=atol) for r in Roots):\n",
        "        print('New root found', root)\n",
        "        Roots = np.append(Roots,root)\n",
        "\n",
        "  Roots.sort()\n",
        "\n",
        "  return Roots"
      ],
      "metadata": {
        "id": "oQnGZNUQYi7-"
      },
      "execution_count": 121,
      "outputs": []
    },
    {
      "cell_type": "code",
      "source": [
        "xtrial = np.linspace(-1,1,10)\n",
        "Roots = GetAllRoots(xtrial)"
      ],
      "metadata": {
        "colab": {
          "base_uri": "https://localhost:8080/"
        },
        "id": "2XG_waqvYp78",
        "outputId": "84e6d8a8-06b0-400b-a6c7-db2bc7da404b"
      },
      "execution_count": 122,
      "outputs": [
        {
          "output_type": "stream",
          "name": "stdout",
          "text": [
            "New root found -0.949107912342759\n",
            "New root found -0.741531185599394\n",
            "New root found -0.40584515137739724\n",
            "New root found 6.027799614067476e-31\n",
            "New root found 0.40584515137739724\n",
            "New root found 0.9491079123427583\n",
            "New root found 0.7415311855993946\n"
          ]
        }
      ]
    },
    {
      "cell_type": "code",
      "source": [
        "r,_ = np.polynomial.legendre.leggauss(7)\n",
        "r"
      ],
      "metadata": {
        "colab": {
          "base_uri": "https://localhost:8080/"
        },
        "id": "e60D1RF_cgzP",
        "outputId": "a20afe6d-d04b-4280-866c-20b18992ddc9"
      },
      "execution_count": 123,
      "outputs": [
        {
          "output_type": "execute_result",
          "data": {
            "text/plain": [
              "array([-0.94910791, -0.74153119, -0.40584515,  0.        ,  0.40584515,\n",
              "        0.74153119,  0.94910791])"
            ]
          },
          "metadata": {},
          "execution_count": 123
        }
      ]
    },
    {
      "cell_type": "code",
      "source": [
        "# Distancia de un punto a una recta"
      ],
      "metadata": {
        "id": "lUg47cgjfIEu"
      },
      "execution_count": 124,
      "outputs": []
    },
    {
      "cell_type": "code",
      "source": [
        "model = lambda x: 5*x + 3\n",
        "p = np.array([5,10])"
      ],
      "metadata": {
        "id": "A22GnjcPhHpV"
      },
      "execution_count": 139,
      "outputs": []
    },
    {
      "cell_type": "code",
      "source": [
        "def Distance(x,p):\n",
        "  return np.sqrt(  (p[1]-model(x))**2 + (p[0]-x)**2  )"
      ],
      "metadata": {
        "id": "gJAzfMlThYMP"
      },
      "execution_count": 140,
      "outputs": []
    },
    {
      "cell_type": "code",
      "source": [
        "x = np.linspace(0,5,100)\n",
        "d = Distance(x,p)"
      ],
      "metadata": {
        "id": "YfIac-AlhZ55"
      },
      "execution_count": 144,
      "outputs": []
    },
    {
      "cell_type": "code",
      "source": [
        "plt.plot(x,d)"
      ],
      "metadata": {
        "colab": {
          "base_uri": "https://localhost:8080/",
          "height": 447
        },
        "id": "1B2_Memhh7L-",
        "outputId": "fc86a149-d01c-47fb-f527-946ea2d267f7"
      },
      "execution_count": 145,
      "outputs": [
        {
          "output_type": "execute_result",
          "data": {
            "text/plain": [
              "[<matplotlib.lines.Line2D at 0x7e2ea44e7850>]"
            ]
          },
          "metadata": {},
          "execution_count": 145
        },
        {
          "output_type": "display_data",
          "data": {
            "text/plain": [
              "<Figure size 640x480 with 1 Axes>"
            ],
            "image/png": "[encoded data removed]"
          },
          "metadata": {}
        }
      ]
    },
    {
      "cell_type": "code",
      "source": [
        "for i in range(len(x)-1):\n",
        "  fi = Derivative(Distance(p),x)\n",
        "  fj = Derivative(Distance(p),x)\n",
        "  print(fi,fj)\n",
        "  if fi*fj < 0:\n",
        "    print(x[i])"
      ],
      "metadata": {
        "colab": {
          "base_uri": "https://localhost:8080/",
          "height": 211
        },
        "id": "0KnnTxEkh8dt",
        "outputId": "17fbd82e-54c7-4e57-88a8-29ecb7674768"
      },
      "execution_count": 149,
      "outputs": [
        {
          "output_type": "error",
          "ename": "TypeError",
          "evalue": "Distance() missing 1 required positional argument: 'p'",
          "traceback": [
            "\u001b[0;31m---------------------------------------------------------------------------\u001b[0m",
            "\u001b[0;31mTypeError\u001b[0m                                 Traceback (most recent call last)",
            "\u001b[0;32m<ipython-input-149-e45f0969f9b3>\u001b[0m in \u001b[0;36m<cell line: 0>\u001b[0;34m()\u001b[0m\n\u001b[1;32m      1\u001b[0m \u001b[0;32mfor\u001b[0m \u001b[0mi\u001b[0m \u001b[0;32min\u001b[0m \u001b[0mrange\u001b[0m\u001b[0;34m(\u001b[0m\u001b[0mlen\u001b[0m\u001b[0;34m(\u001b[0m\u001b[0mx\u001b[0m\u001b[0;34m)\u001b[0m\u001b[0;34m-\u001b[0m\u001b[0;36m1\u001b[0m\u001b[0;34m)\u001b[0m\u001b[0;34m:\u001b[0m\u001b[0;34m\u001b[0m\u001b[0;34m\u001b[0m\u001b[0m\n\u001b[0;32m----> 2\u001b[0;31m   \u001b[0mfi\u001b[0m \u001b[0;34m=\u001b[0m \u001b[0mDerivative\u001b[0m\u001b[0;34m(\u001b[0m\u001b[0mDistance\u001b[0m\u001b[0;34m(\u001b[0m\u001b[0mp\u001b[0m\u001b[0;34m)\u001b[0m\u001b[0;34m,\u001b[0m\u001b[0mx\u001b[0m\u001b[0;34m)\u001b[0m\u001b[0;34m\u001b[0m\u001b[0;34m\u001b[0m\u001b[0m\n\u001b[0m\u001b[1;32m      3\u001b[0m   \u001b[0mfj\u001b[0m \u001b[0;34m=\u001b[0m \u001b[0mDerivative\u001b[0m\u001b[0;34m(\u001b[0m\u001b[0mDistance\u001b[0m\u001b[0;34m(\u001b[0m\u001b[0mp\u001b[0m\u001b[0;34m)\u001b[0m\u001b[0;34m,\u001b[0m\u001b[0mx\u001b[0m\u001b[0;34m)\u001b[0m\u001b[0;34m\u001b[0m\u001b[0;34m\u001b[0m\u001b[0m\n\u001b[1;32m      4\u001b[0m   \u001b[0mprint\u001b[0m\u001b[0;34m(\u001b[0m\u001b[0mfi\u001b[0m\u001b[0;34m,\u001b[0m\u001b[0mfj\u001b[0m\u001b[0;34m)\u001b[0m\u001b[0;34m\u001b[0m\u001b[0;34m\u001b[0m\u001b[0m\n\u001b[1;32m      5\u001b[0m   \u001b[0;32mif\u001b[0m \u001b[0mfi\u001b[0m\u001b[0;34m*\u001b[0m\u001b[0mfj\u001b[0m \u001b[0;34m<\u001b[0m \u001b[0;36m0\u001b[0m\u001b[0;34m:\u001b[0m\u001b[0;34m\u001b[0m\u001b[0;34m\u001b[0m\u001b[0m\n",
            "\u001b[0;31mTypeError\u001b[0m: Distance() missing 1 required positional argument: 'p'"
          ]
        }
      ]
    },
    {
      "cell_type": "code",
      "source": [],
      "metadata": {
        "id": "mI54gEomjTbi"
      },
      "execution_count": null,
      "outputs": []
    }
  ]
}