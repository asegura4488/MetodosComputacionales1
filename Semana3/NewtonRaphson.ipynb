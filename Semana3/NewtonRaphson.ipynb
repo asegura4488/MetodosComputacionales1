{
  "nbformat": 4,
  "nbformat_minor": 0,
  "metadata": {
    "colab": {
      "provenance": [],
      "authorship_tag": "ABX9TyP4t901jkleHcm/YX5Qbf4q",
      "include_colab_link": true
    },
    "kernelspec": {
      "name": "python3",
      "display_name": "Python 3"
    },
    "language_info": {
      "name": "python"
    }
  },
  "cells": [
    {
      "cell_type": "markdown",
      "metadata": {
        "id": "view-in-github",
        "colab_type": "text"
      },
      "source": [
        "<a href=\"https://colab.research.google.com/github/asegura4488/MetodosComputacionales1/blob/main/Semana3/NewtonRaphson.ipynb\" target=\"_parent\"><img src=\"https://colab.research.google.com/assets/colab-badge.svg\" alt=\"Open In Colab\"/></a>"
      ]
    },
    {
      "cell_type": "code",
      "execution_count": 3,
      "metadata": {
        "id": "dbuREAdbhzg-"
      },
      "outputs": [],
      "source": [
        "import numpy as np\n",
        "import matplotlib.pyplot as plt\n",
        "from matplotlib import rc"
      ]
    },
    {
      "cell_type": "code",
      "source": [
        "def Function(x):\n",
        "    #return 5*(1-np.exp(-x)) - x\n",
        "    #return x**2 + 1\n",
        "    return 0.5*(5*x**3 - 3*x)\n",
        "    #return (35*x**4 - 30*x**2 + 3)/8"
      ],
      "metadata": {
        "id": "z3txQVbDh0ow"
      },
      "execution_count": 14,
      "outputs": []
    },
    {
      "cell_type": "code",
      "source": [
        "x = np.linspace(-1,1,100)\n",
        "y = Function(x)"
      ],
      "metadata": {
        "id": "cTK6BYxxTBKV"
      },
      "execution_count": 15,
      "outputs": []
    },
    {
      "cell_type": "code",
      "source": [
        "plt.plot(x,y,'.')\n",
        "plt.axhline(y=0,color='r',linestyle='--')"
      ],
      "metadata": {
        "id": "-w7no16Ph230",
        "colab": {
          "base_uri": "https://localhost:8080/",
          "height": 447
        },
        "outputId": "2538bb62-b156-48c1-ada7-3dcbf3168bd0"
      },
      "execution_count": 16,
      "outputs": [
        {
          "output_type": "execute_result",
          "data": {
            "text/plain": [
              "<matplotlib.lines.Line2D at 0x7e2ea4db06d0>"
            ]
          },
          "metadata": {},
          "execution_count": 16
        },
        {
          "output_type": "display_data",
          "data": {
            "text/plain": [
              "<Figure size 640x480 with 1 Axes>"
            ],
            "image/png": "[encoded data removed]"
          },
          "metadata": {}
        }
      ]
    },
    {
      "cell_type": "code",
      "source": [
        "for i in range(len(x)-1):\n",
        "  fi = Function(x[i])\n",
        "  fj = Function(x[i+1])\n",
        "  if fi*fj < 0:\n",
        "    print(x[i])"
      ],
      "metadata": {
        "colab": {
          "base_uri": "https://localhost:8080/"
        },
        "id": "xLfRSUJLTKXm",
        "outputId": "563fc7b5-66e1-4790-8e69-797445c24103"
      },
      "execution_count": 17,
      "outputs": [
        {
          "output_type": "stream",
          "name": "stdout",
          "text": [
            "-0.7777777777777778\n",
            "-0.010101010101010055\n",
            "0.7575757575757578\n"
          ]
        }
      ]
    },
    {
      "cell_type": "code",
      "source": [
        "np.sqrt(3/5)"
      ],
      "metadata": {
        "colab": {
          "base_uri": "https://localhost:8080/"
        },
        "id": "AKE3R8LIUL2m",
        "outputId": "56ee50e3-8d98-4a05-e6fa-897cf17e4545"
      },
      "execution_count": 18,
      "outputs": [
        {
          "output_type": "execute_result",
          "data": {
            "text/plain": [
              "0.7745966692414834"
            ]
          },
          "metadata": {},
          "execution_count": 18
        }
      ]
    },
    {
      "cell_type": "code",
      "source": [
        "def Derivative(f,x,h=1e-6):\n",
        "  return (f(x+h)-f(x-h))/(2*h)"
      ],
      "metadata": {
        "id": "le0-pXsEUzUC"
      },
      "execution_count": 20,
      "outputs": []
    },
    {
      "cell_type": "code",
      "source": [
        "def GetNewtonMethod(f,df,xn,itmax=100,precision=1e-14):\n",
        "\n",
        "  error = 1\n",
        "  it = 0\n",
        "\n",
        "  while error > precision and it < itmax:\n",
        "\n",
        "    try:\n",
        "      dfxn = df(f,xn)\n",
        "      if np.abs(dfxn) < 1e-16:\n",
        "        return False\n",
        "\n",
        "      xn1 = xn - f(xn)/dfxn\n",
        "      error = np.abs(xn1-xn)\n",
        "    except ZeroDivisionError:\n",
        "      print('Division por error')\n",
        "      return False\n",
        "\n",
        "    xn = xn1\n",
        "    it += 1\n",
        "\n",
        "  if it == itmax:\n",
        "    return False\n",
        "  else:\n",
        "    return xn"
      ],
      "metadata": {
        "id": "O2kZqp4PWTyx"
      },
      "execution_count": 21,
      "outputs": []
    },
    {
      "cell_type": "code",
      "source": [],
      "metadata": {
        "id": "o4OQpEdfYF0d"
      },
      "execution_count": null,
      "outputs": []
    }
  ]
}