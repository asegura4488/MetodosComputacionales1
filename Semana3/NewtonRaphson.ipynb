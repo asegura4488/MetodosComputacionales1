{
  "nbformat": 4,
  "nbformat_minor": 0,
  "metadata": {
    "colab": {
      "provenance": [],
      "authorship_tag": "ABX9TyN38CIYmdnF+SRhB1Y1ELsZ",
      "include_colab_link": true
    },
    "kernelspec": {
      "name": "python3",
      "display_name": "Python 3"
    },
    "language_info": {
      "name": "python"
    }
  },
  "cells": [
    {
      "cell_type": "markdown",
      "metadata": {
        "id": "view-in-github",
        "colab_type": "text"
      },
      "source": [
        "<a href=\"https://colab.research.google.com/github/asegura4488/MetodosComputacionales1/blob/main/Semana3/NewtonRaphson.ipynb\" target=\"_parent\"><img src=\"https://colab.research.google.com/assets/colab-badge.svg\" alt=\"Open In Colab\"/></a>"
      ]
    },
    {
      "cell_type": "code",
      "execution_count": 79,
      "metadata": {
        "id": "dbuREAdbhzg-"
      },
      "outputs": [],
      "source": [
        "import numpy as np\n",
        "import matplotlib.pyplot as plt\n",
        "from matplotlib import rc"
      ]
    },
    {
      "cell_type": "code",
      "source": [
        "def Function(x):\n",
        "    #return 5*(1-np.exp(-x)) - x\n",
        "    #return x**2 + 1\n",
        "    #return x**x - 100\n",
        "    #return 0.5*(5*x**3 - 3*x)\n",
        "    return (35*x**4 - 30*x**2 + 3)/8"
      ],
      "metadata": {
        "id": "z3txQVbDh0ow"
      },
      "execution_count": 80,
      "outputs": []
    },
    {
      "cell_type": "code",
      "source": [
        "x = np.linspace(-1,1,100)\n",
        "y = Function(x)"
      ],
      "metadata": {
        "id": "cTK6BYxxTBKV"
      },
      "execution_count": 81,
      "outputs": []
    },
    {
      "cell_type": "code",
      "source": [
        "plt.plot(x,y,'.')\n",
        "plt.axhline(y=0,color='r',linestyle='--')"
      ],
      "metadata": {
        "id": "-w7no16Ph230",
        "colab": {
          "base_uri": "https://localhost:8080/",
          "height": 447
        },
        "outputId": "b9ef6282-d39a-4b9b-f406-31eac26c1428"
      },
      "execution_count": 82,
      "outputs": [
        {
          "output_type": "execute_result",
          "data": {
            "text/plain": [
              "<matplotlib.lines.Line2D at 0x7e2ea4af9c50>"
            ]
          },
          "metadata": {},
          "execution_count": 82
        },
        {
          "output_type": "display_data",
          "data": {
            "text/plain": [
              "<Figure size 640x480 with 1 Axes>"
            ],
            "image/png": "[encoded data removed]"
          },
          "metadata": {}
        }
      ]
    },
    {
      "cell_type": "code",
      "source": [
        "for i in range(len(x)-1):\n",
        "  fi = Function(x[i])\n",
        "  fj = Function(x[i+1])\n",
        "  if fi*fj < 0:\n",
        "    print(x[i])"
      ],
      "metadata": {
        "colab": {
          "base_uri": "https://localhost:8080/"
        },
        "id": "xLfRSUJLTKXm",
        "outputId": "6e8799db-79b3-42b1-d306-f25025a1c05e"
      },
      "execution_count": 83,
      "outputs": [
        {
          "output_type": "stream",
          "name": "stdout",
          "text": [
            "-0.8787878787878788\n",
            "-0.3535353535353535\n",
            "0.3333333333333335\n",
            "0.8585858585858588\n"
          ]
        }
      ]
    },
    {
      "cell_type": "code",
      "source": [
        "np.sqrt(3/5)"
      ],
      "metadata": {
        "colab": {
          "base_uri": "https://localhost:8080/"
        },
        "id": "AKE3R8LIUL2m",
        "outputId": "eacb3168-7c52-4da3-9764-386d9c56673c"
      },
      "execution_count": 84,
      "outputs": [
        {
          "output_type": "execute_result",
          "data": {
            "text/plain": [
              "0.7745966692414834"
            ]
          },
          "metadata": {},
          "execution_count": 84
        }
      ]
    },
    {
      "cell_type": "code",
      "source": [
        "def Derivative(f,x,h=1e-6):\n",
        "  return (f(x+h)-f(x-h))/(2*h)"
      ],
      "metadata": {
        "id": "le0-pXsEUzUC"
      },
      "execution_count": 85,
      "outputs": []
    },
    {
      "cell_type": "code",
      "source": [
        "def GetNewtonMethod(f,df,xn,itmax=100,precision=1e-14):\n",
        "\n",
        "  error = 1\n",
        "  it = 0\n",
        "\n",
        "  while error > precision and it < itmax:\n",
        "\n",
        "    try:\n",
        "      dfxn = df(f,xn)\n",
        "      if np.abs(dfxn) < 1e-16:\n",
        "        return False\n",
        "\n",
        "      xn1 = xn - f(xn)/dfxn\n",
        "      error = np.abs(xn1-xn)\n",
        "    except ZeroDivisionError:\n",
        "      print('Division por error')\n",
        "      return False\n",
        "\n",
        "    xn = xn1\n",
        "    it += 1\n",
        "\n",
        "  if it == itmax:\n",
        "    return False\n",
        "  else:\n",
        "    return xn"
      ],
      "metadata": {
        "id": "O2kZqp4PWTyx"
      },
      "execution_count": 86,
      "outputs": []
    },
    {
      "cell_type": "code",
      "source": [
        "root = GetNewtonMethod(Function,Derivative,0.9)\n",
        "root"
      ],
      "metadata": {
        "colab": {
          "base_uri": "https://localhost:8080/"
        },
        "id": "o4OQpEdfYF0d",
        "outputId": "51a55be4-5847-42b2-849f-c2444f5812dc"
      },
      "execution_count": 103,
      "outputs": [
        {
          "output_type": "execute_result",
          "data": {
            "text/plain": [
              "0.8611363115940526"
            ]
          },
          "metadata": {},
          "execution_count": 103
        }
      ]
    },
    {
      "cell_type": "code",
      "source": [
        "def GetAllRoots(x, atol=1e-9, max_iter = 100, precision = 1e-14):\n",
        "\n",
        "  Roots = np.array([])\n",
        "\n",
        "  for x0 in x:\n",
        "    #print(x)\n",
        "    root = GetNewtonMethod(Function,Derivative,x0,max_iter,precision)\n",
        "    #print(x0)\n",
        "    if root is not False:\n",
        "\n",
        "      if not any(np.isclose(root, r, atol=atol) for r in Roots):\n",
        "        print('New root found', root)\n",
        "        Roots = np.append(Roots,root)\n",
        "\n",
        "  Roots.sort()\n",
        "\n",
        "  return Roots"
      ],
      "metadata": {
        "id": "oQnGZNUQYi7-"
      },
      "execution_count": 106,
      "outputs": []
    },
    {
      "cell_type": "code",
      "source": [
        "xtrial = np.linspace(-1,1,10)\n",
        "Roots = GetAllRoots(xtrial)"
      ],
      "metadata": {
        "colab": {
          "base_uri": "https://localhost:8080/"
        },
        "id": "2XG_waqvYp78",
        "outputId": "11d3d151-de15-43cd-f77a-64b0c571e42a"
      },
      "execution_count": 108,
      "outputs": [
        {
          "output_type": "stream",
          "name": "stdout",
          "text": [
            "New root found -0.8611363115940526\n",
            "New root found -0.3399810435848563\n",
            "New root found 0.3399810435848563\n",
            "New root found 0.8611363115940526\n"
          ]
        }
      ]
    },
    {
      "cell_type": "code",
      "source": [],
      "metadata": {
        "id": "e60D1RF_cgzP"
      },
      "execution_count": null,
      "outputs": []
    }
  ]
}