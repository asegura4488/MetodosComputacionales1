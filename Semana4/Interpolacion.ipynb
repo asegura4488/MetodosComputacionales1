{
  "nbformat": 4,
  "nbformat_minor": 0,
  "metadata": {
    "colab": {
      "provenance": [],
      "authorship_tag": "ABX9TyPpxM2vzaCqCJtecooc7pco",
      "include_colab_link": true
    },
    "kernelspec": {
      "name": "python3",
      "display_name": "Python 3"
    },
    "language_info": {
      "name": "python"
    }
  },
  "cells": [
    {
      "cell_type": "markdown",
      "metadata": {
        "id": "view-in-github",
        "colab_type": "text"
      },
      "source": [
        "<a href=\"https://colab.research.google.com/github/asegura4488/MetodosComputacionales1/blob/main/Semana4/Interpolacion.ipynb\" target=\"_parent\"><img src=\"https://colab.research.google.com/assets/colab-badge.svg\" alt=\"Open In Colab\"/></a>"
      ]
    },
    {
      "cell_type": "code",
      "execution_count": 2,
      "metadata": {
        "id": "XLaFyn-_Tio4"
      },
      "outputs": [],
      "source": [
        "import numpy as np\n",
        "import matplotlib.pyplot as plt\n",
        "import sympy as sym"
      ]
    },
    {
      "cell_type": "code",
      "source": [
        "X = np.array([-3,-2,-1,0,1,2,3])\n",
        "Y = np.array([4,5,2,6,8,-10,2])"
      ],
      "metadata": {
        "id": "3fTdhVgJTnUH"
      },
      "execution_count": 25,
      "outputs": []
    },
    {
      "cell_type": "code",
      "source": [
        "x_inter = np.linspace(-3,1,100)\n",
        "y_inter = np.interp(x_inter,X,Y)"
      ],
      "metadata": {
        "id": "j8FLpM2yVnDn"
      },
      "execution_count": 26,
      "outputs": []
    },
    {
      "cell_type": "code",
      "source": [
        "plt.scatter(X,Y,color='r')\n",
        "plt.plot(x_inter,y_inter,color='b')\n",
        "plt.show()"
      ],
      "metadata": {
        "colab": {
          "base_uri": "https://localhost:8080/",
          "height": 430
        },
        "id": "Z1twUM7bVYLb",
        "outputId": "69417ee5-4f71-429f-f319-becf8c492d07"
      },
      "execution_count": 27,
      "outputs": [
        {
          "output_type": "display_data",
          "data": {
            "text/plain": [
              "<Figure size 640x480 with 1 Axes>"
            ],
            "image/png": "[encoded data removed]"
          },
          "metadata": {}
        }
      ]
    },
    {
      "cell_type": "code",
      "source": [
        "def Lagrange(x,X,i):\n",
        "\n",
        "  L = 1\n",
        "  for j in range(len(X)):\n",
        "    if i != j:\n",
        "      L *= (x-X[j])/(X[i]-X[j])\n",
        "\n",
        "  return L"
      ],
      "metadata": {
        "id": "enqsm__EVagl"
      },
      "execution_count": 28,
      "outputs": []
    },
    {
      "cell_type": "code",
      "source": [
        "x = sym.Symbol('x',real=True)\n",
        "x"
      ],
      "metadata": {
        "colab": {
          "base_uri": "https://localhost:8080/",
          "height": 39
        },
        "id": "yFTt3J4DYG13",
        "outputId": "d67b21dd-495f-4343-eabe-a73c715b2199"
      },
      "execution_count": 29,
      "outputs": [
        {
          "output_type": "execute_result",
          "data": {
            "text/plain": [
              "x"
            ],
            "text/latex": "$\\displaystyle x$"
          },
          "metadata": {},
          "execution_count": 29
        }
      ]
    },
    {
      "cell_type": "code",
      "source": [
        "Lagrange(x,X,0)"
      ],
      "metadata": {
        "colab": {
          "base_uri": "https://localhost:8080/",
          "height": 56
        },
        "id": "IUXb-awWYhur",
        "outputId": "03bef646-19f7-4454-8d29-2f4f10975649"
      },
      "execution_count": 30,
      "outputs": [
        {
          "output_type": "execute_result",
          "data": {
            "text/plain": [
              "-x*(1/4 - x/4)*(2/5 - x/5)*(1/2 - x/6)*(-x - 2)*(-x/2 - 1/2)/3"
            ],
            "text/latex": "$\\displaystyle - \\frac{x \\left(\\frac{1}{4} - \\frac{x}{4}\\right) \\left(\\frac{2}{5} - \\frac{x}{5}\\right) \\left(\\frac{1}{2} - \\frac{x}{6}\\right) \\left(- x - 2\\right) \\left(- \\frac{x}{2} - \\frac{1}{2}\\right)}{3}$"
          },
          "metadata": {},
          "execution_count": 30
        }
      ]
    },
    {
      "cell_type": "code",
      "source": [
        "Lagrange(x,X,1)"
      ],
      "metadata": {
        "colab": {
          "base_uri": "https://localhost:8080/",
          "height": 56
        },
        "id": "KLFixboaYmv9",
        "outputId": "d82c84ce-436b-4054-8f02-ed5897260e2b"
      },
      "execution_count": 31,
      "outputs": [
        {
          "output_type": "execute_result",
          "data": {
            "text/plain": [
              "-x*(1/3 - x/3)*(1/2 - x/4)*(3/5 - x/5)*(-x - 1)*(x + 3)/2"
            ],
            "text/latex": "$\\displaystyle - \\frac{x \\left(\\frac{1}{3} - \\frac{x}{3}\\right) \\left(\\frac{1}{2} - \\frac{x}{4}\\right) \\left(\\frac{3}{5} - \\frac{x}{5}\\right) \\left(- x - 1\\right) \\left(x + 3\\right)}{2}$"
          },
          "metadata": {},
          "execution_count": 31
        }
      ]
    },
    {
      "cell_type": "code",
      "source": [
        "Lagrange(x,X,0).subs(x,X[1])"
      ],
      "metadata": {
        "colab": {
          "base_uri": "https://localhost:8080/",
          "height": 37
        },
        "id": "C-1WZxLHYuvE",
        "outputId": "963d61d3-9025-4c3c-d5e9-d4657d4c1faf"
      },
      "execution_count": 32,
      "outputs": [
        {
          "output_type": "execute_result",
          "data": {
            "text/plain": [
              "0"
            ],
            "text/latex": "$\\displaystyle 0$"
          },
          "metadata": {},
          "execution_count": 32
        }
      ]
    },
    {
      "cell_type": "code",
      "source": [
        "def Interpolate(x,X,Y):\n",
        "\n",
        "  Poly = 0\n",
        "  for i in range(len(X)):\n",
        "    Poly += Y[i]*Lagrange(x,X,i)\n",
        "  return Poly"
      ],
      "metadata": {
        "id": "KaDt2TnNZLhW"
      },
      "execution_count": 33,
      "outputs": []
    },
    {
      "cell_type": "code",
      "source": [
        "Interpolate(-2.5,X,Y)"
      ],
      "metadata": {
        "colab": {
          "base_uri": "https://localhost:8080/"
        },
        "id": "VBqiBHcua9kT",
        "outputId": "be025ff7-5c0b-44e8-e969-88578300b384"
      },
      "execution_count": 34,
      "outputs": [
        {
          "output_type": "execute_result",
          "data": {
            "text/plain": [
              "5.416015625"
            ]
          },
          "metadata": {},
          "execution_count": 34
        }
      ]
    },
    {
      "cell_type": "code",
      "source": [
        "x1 = np.linspace(X[0],X[-1],50)\n",
        "y1 = Interpolate(x1,X,Y)"
      ],
      "metadata": {
        "id": "TqKN5W5_bBn_"
      },
      "execution_count": 35,
      "outputs": []
    },
    {
      "cell_type": "code",
      "source": [
        "plt.scatter(X,Y,color='r')\n",
        "#plt.plot(x_inter,y_inter,color='b')\n",
        "plt.plot(x1,y1,'-.',color='b')\n",
        "plt.show()"
      ],
      "metadata": {
        "colab": {
          "base_uri": "https://localhost:8080/",
          "height": 431
        },
        "id": "3q3W5AUMbT87",
        "outputId": "0a6aa384-998b-42f2-ccac-7e26e5a406e2"
      },
      "execution_count": 36,
      "outputs": [
        {
          "output_type": "display_data",
          "data": {
            "text/plain": [
              "<Figure size 640x480 with 1 Axes>"
            ],
            "image/png": "[encoded data removed]"
          },
          "metadata": {}
        }
      ]
    },
    {
      "cell_type": "code",
      "source": [
        " poly = Interpolate(x,X,Y)\n",
        " poly = poly.expand()\n",
        " poly"
      ],
      "metadata": {
        "colab": {
          "base_uri": "https://localhost:8080/",
          "height": 54
        },
        "id": "lsJ4yMtfbanu",
        "outputId": "6030c9e9-8414-449b-9c98-f2216511dac6"
      },
      "execution_count": 38,
      "outputs": [
        {
          "output_type": "execute_result",
          "data": {
            "text/plain": [
              "11*x**6/120 + 11*x**5/30 - 5*x**4/6 - 49*x**3/12 - 31*x**2/120 + 403*x/60 + 6"
            ],
            "text/latex": "$\\displaystyle \\frac{11 x^{6}}{120} + \\frac{11 x^{5}}{30} - \\frac{5 x^{4}}{6} - \\frac{49 x^{3}}{12} - \\frac{31 x^{2}}{120} + \\frac{403 x}{60} + 6$"
          },
          "metadata": {},
          "execution_count": 38
        }
      ]
    },
    {
      "cell_type": "code",
      "source": [
        "sym.diff(poly,x,1)"
      ],
      "metadata": {
        "colab": {
          "base_uri": "https://localhost:8080/",
          "height": 54
        },
        "id": "N9qiyVIqcdbU",
        "outputId": "4772e8bc-8ccb-4922-d3f1-ddf15a98b2b2"
      },
      "execution_count": 41,
      "outputs": [
        {
          "output_type": "execute_result",
          "data": {
            "text/plain": [
              "11*x**5/20 + 11*x**4/6 - 10*x**3/3 - 49*x**2/4 - 31*x/60 + 403/60"
            ],
            "text/latex": "$\\displaystyle \\frac{11 x^{5}}{20} + \\frac{11 x^{4}}{6} - \\frac{10 x^{3}}{3} - \\frac{49 x^{2}}{4} - \\frac{31 x}{60} + \\frac{403}{60}$"
          },
          "metadata": {},
          "execution_count": 41
        }
      ]
    },
    {
      "cell_type": "code",
      "source": [
        "sym.diff(poly,x,5)"
      ],
      "metadata": {
        "colab": {
          "base_uri": "https://localhost:8080/",
          "height": 39
        },
        "id": "pN2SeQbndelY",
        "outputId": "0db2d052-a46d-4450-8042-40eca2f1b49b"
      },
      "execution_count": 42,
      "outputs": [
        {
          "output_type": "execute_result",
          "data": {
            "text/plain": [
              "22*(3*x + 2)"
            ],
            "text/latex": "$\\displaystyle 22 \\left(3 x + 2\\right)$"
          },
          "metadata": {},
          "execution_count": 42
        }
      ]
    },
    {
      "cell_type": "code",
      "source": [
        "X = np.array([0,1,2,3])\n",
        "Y = np.exp(X)"
      ],
      "metadata": {
        "id": "sWGibP4UdoDy"
      },
      "execution_count": 43,
      "outputs": []
    },
    {
      "cell_type": "code",
      "source": [
        "x1 = np.linspace(X[0],X[-1],40)\n",
        "y1 = Interpolate(x1,X,Y)"
      ],
      "metadata": {
        "id": "mfnVdJL0gLoN"
      },
      "execution_count": 47,
      "outputs": []
    },
    {
      "cell_type": "code",
      "source": [],
      "metadata": {
        "id": "E7zm_ntpgYsA"
      },
      "execution_count": 48,
      "outputs": []
    },
    {
      "cell_type": "code",
      "source": [
        "plt.scatter(X,Y,color='r')\n",
        "plt.plot(x1,y1,'-.',color='b')\n",
        "plt.show()"
      ],
      "metadata": {
        "colab": {
          "base_uri": "https://localhost:8080/",
          "height": 430
        },
        "id": "ZjI3F1YVfCiL",
        "outputId": "99482aa9-6f21-4c68-8179-e70eaf454823"
      },
      "execution_count": 49,
      "outputs": [
        {
          "output_type": "display_data",
          "data": {
            "text/plain": [
              "<Figure size 640x480 with 1 Axes>"
            ],
            "image/png": "[encoded data removed]"
          },
          "metadata": {}
        }
      ]
    },
    {
      "cell_type": "code",
      "source": [
        "estima = Interpolate(2.5,X,Y)"
      ],
      "metadata": {
        "id": "3dxVhxLdfDo0"
      },
      "execution_count": 52,
      "outputs": []
    },
    {
      "cell_type": "code",
      "source": [
        "real = np.exp(2.5)"
      ],
      "metadata": {
        "id": "TmVgenapgh1L"
      },
      "execution_count": 53,
      "outputs": []
    },
    {
      "cell_type": "code",
      "source": [
        "np.abs(real-estima)"
      ],
      "metadata": {
        "colab": {
          "base_uri": "https://localhost:8080/"
        },
        "id": "8YDpaTRkgkZK",
        "outputId": "2fe2868d-479a-45d8-8434-ccaca10f2c40"
      },
      "execution_count": 54,
      "outputs": [
        {
          "output_type": "execute_result",
          "data": {
            "text/plain": [
              "0.23451334914670774"
            ]
          },
          "metadata": {},
          "execution_count": 54
        }
      ]
    },
    {
      "cell_type": "code",
      "source": [
        "cita = 2.5\n",
        "E = np.exp(cita)/np.math.factorial(len(X)) * (cita -X[0])*(cita - X[1])*(cita - X[2])*(cita - X[3])\n",
        "E"
      ],
      "metadata": {
        "colab": {
          "base_uri": "https://localhost:8080/"
        },
        "id": "UCnVKsq7grLa",
        "outputId": "f3ab7091-3479-4056-87dc-06591b1f3890"
      },
      "execution_count": 57,
      "outputs": [
        {
          "output_type": "stream",
          "name": "stderr",
          "text": [
            "<ipython-input-57-fc80516e13ae>:2: DeprecationWarning: `np.math` is a deprecated alias for the standard library `math` module (Deprecated Numpy 1.25). Replace usages of `np.math` with `math`\n",
            "  E = np.exp(cita)/np.math.factorial(len(X)) * (cita -X[0])*(cita - X[1])*(cita - X[2])*(cita - X[3])\n"
          ]
        },
        {
          "output_type": "execute_result",
          "data": {
            "text/plain": [
              "-0.47587867033997944"
            ]
          },
          "metadata": {},
          "execution_count": 57
        }
      ]
    },
    {
      "cell_type": "code",
      "source": [],
      "metadata": {
        "id": "DN067QtCihO-"
      },
      "execution_count": null,
      "outputs": []
    }
  ]
}