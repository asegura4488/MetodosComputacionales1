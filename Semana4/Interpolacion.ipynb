{
  "nbformat": 4,
  "nbformat_minor": 0,
  "metadata": {
    "colab": {
      "provenance": [],
      "authorship_tag": "ABX9TyO3N61gk6rPvlO2VHqu/mDI",
      "include_colab_link": true
    },
    "kernelspec": {
      "name": "python3",
      "display_name": "Python 3"
    },
    "language_info": {
      "name": "python"
    }
  },
  "cells": [
    {
      "cell_type": "markdown",
      "metadata": {
        "id": "view-in-github",
        "colab_type": "text"
      },
      "source": [
        "<a href=\"https://colab.research.google.com/github/asegura4488/MetodosComputacionales1/blob/main/Semana4/Interpolacion.ipynb\" target=\"_parent\"><img src=\"https://colab.research.google.com/assets/colab-badge.svg\" alt=\"Open In Colab\"/></a>"
      ]
    },
    {
      "cell_type": "code",
      "execution_count": 1,
      "metadata": {
        "id": "XLaFyn-_Tio4"
      },
      "outputs": [],
      "source": [
        "import numpy as np\n",
        "import matplotlib.pyplot as plt\n",
        "import sympy as sym"
      ]
    },
    {
      "cell_type": "code",
      "source": [],
      "metadata": {
        "id": "PEkTeBzNZ7b-"
      },
      "execution_count": 1,
      "outputs": []
    },
    {
      "cell_type": "code",
      "source": [
        "X = np.array([-3,-2,-1,0,1,2,3])\n",
        "Y = np.array([4,5,2,6,8,-10,2])"
      ],
      "metadata": {
        "id": "3fTdhVgJTnUH"
      },
      "execution_count": 2,
      "outputs": []
    },
    {
      "cell_type": "code",
      "source": [
        "x_inter = np.linspace(X[0],X[-1],100)\n",
        "y_inter = np.interp(x_inter,X,Y)"
      ],
      "metadata": {
        "id": "j8FLpM2yVnDn"
      },
      "execution_count": 3,
      "outputs": []
    },
    {
      "cell_type": "code",
      "source": [
        "plt.scatter(X,Y,color='r')\n",
        "plt.plot(x_inter,y_inter,color='b')\n",
        "plt.show()"
      ],
      "metadata": {
        "colab": {
          "base_uri": "https://localhost:8080/",
          "height": 430
        },
        "id": "Z1twUM7bVYLb",
        "outputId": "1e4e3418-2cc6-435e-aa90-d3c7323095a9"
      },
      "execution_count": 4,
      "outputs": [
        {
          "output_type": "display_data",
          "data": {
            "text/plain": [
              "<Figure size 640x480 with 1 Axes>"
            ],
            "image/png": "[encoded data removed]"
          },
          "metadata": {}
        }
      ]
    },
    {
      "cell_type": "code",
      "source": [
        "def Lagrange(x,X,i):\n",
        "\n",
        "  L = 1\n",
        "  for j in range(len(X)):\n",
        "    if i != j:\n",
        "      L *= (x-X[j])/(X[i]-X[j])\n",
        "\n",
        "  return L"
      ],
      "metadata": {
        "id": "enqsm__EVagl"
      },
      "execution_count": 5,
      "outputs": []
    },
    {
      "cell_type": "code",
      "source": [
        "x = sym.Symbol('x',real=True)\n",
        "x"
      ],
      "metadata": {
        "colab": {
          "base_uri": "https://localhost:8080/",
          "height": 38
        },
        "id": "yFTt3J4DYG13",
        "outputId": "a638e862-41ef-4e68-8c26-e816ba5c100e"
      },
      "execution_count": 6,
      "outputs": [
        {
          "output_type": "execute_result",
          "data": {
            "text/plain": [
              "x"
            ],
            "text/latex": "$\\displaystyle x$"
          },
          "metadata": {},
          "execution_count": 6
        }
      ]
    },
    {
      "cell_type": "code",
      "source": [
        "Lagrange(x,X,0)"
      ],
      "metadata": {
        "colab": {
          "base_uri": "https://localhost:8080/",
          "height": 56
        },
        "id": "IUXb-awWYhur",
        "outputId": "89ca7f7c-ed48-45c6-e37a-143b0c2faa31"
      },
      "execution_count": 7,
      "outputs": [
        {
          "output_type": "execute_result",
          "data": {
            "text/plain": [
              "-x*(1/4 - x/4)*(2/5 - x/5)*(1/2 - x/6)*(-x - 2)*(-x/2 - 1/2)/3"
            ],
            "text/latex": "$\\displaystyle - \\frac{x \\left(\\frac{1}{4} - \\frac{x}{4}\\right) \\left(\\frac{2}{5} - \\frac{x}{5}\\right) \\left(\\frac{1}{2} - \\frac{x}{6}\\right) \\left(- x - 2\\right) \\left(- \\frac{x}{2} - \\frac{1}{2}\\right)}{3}$"
          },
          "metadata": {},
          "execution_count": 7
        }
      ]
    },
    {
      "cell_type": "code",
      "source": [
        "Lagrange(x,X,1)"
      ],
      "metadata": {
        "colab": {
          "base_uri": "https://localhost:8080/",
          "height": 56
        },
        "id": "KLFixboaYmv9",
        "outputId": "c7982106-0b2f-45e4-c8f4-bda7526df2fd"
      },
      "execution_count": 8,
      "outputs": [
        {
          "output_type": "execute_result",
          "data": {
            "text/plain": [
              "-x*(1/3 - x/3)*(1/2 - x/4)*(3/5 - x/5)*(-x - 1)*(x + 3)/2"
            ],
            "text/latex": "$\\displaystyle - \\frac{x \\left(\\frac{1}{3} - \\frac{x}{3}\\right) \\left(\\frac{1}{2} - \\frac{x}{4}\\right) \\left(\\frac{3}{5} - \\frac{x}{5}\\right) \\left(- x - 1\\right) \\left(x + 3\\right)}{2}$"
          },
          "metadata": {},
          "execution_count": 8
        }
      ]
    },
    {
      "cell_type": "code",
      "source": [
        "Lagrange(x,X,0).subs(x,X[1])"
      ],
      "metadata": {
        "colab": {
          "base_uri": "https://localhost:8080/",
          "height": 37
        },
        "id": "C-1WZxLHYuvE",
        "outputId": "a58eb9de-fcf9-46d9-89a8-ff0db175869e"
      },
      "execution_count": 9,
      "outputs": [
        {
          "output_type": "execute_result",
          "data": {
            "text/plain": [
              "0"
            ],
            "text/latex": "$\\displaystyle 0$"
          },
          "metadata": {},
          "execution_count": 9
        }
      ]
    },
    {
      "cell_type": "code",
      "source": [
        "def Interpolate(x,X,Y):\n",
        "\n",
        "  Poly = 0\n",
        "  for i in range(len(X)):\n",
        "    Poly += Y[i]*Lagrange(x,X,i)\n",
        "  return Poly"
      ],
      "metadata": {
        "id": "KaDt2TnNZLhW"
      },
      "execution_count": 10,
      "outputs": []
    },
    {
      "cell_type": "code",
      "source": [
        "Interpolate(-2.5,X,Y)"
      ],
      "metadata": {
        "colab": {
          "base_uri": "https://localhost:8080/"
        },
        "id": "VBqiBHcua9kT",
        "outputId": "0e6ba82d-dfca-4f5a-ad0f-9303ede6756f"
      },
      "execution_count": 11,
      "outputs": [
        {
          "output_type": "execute_result",
          "data": {
            "text/plain": [
              "5.416015625"
            ]
          },
          "metadata": {},
          "execution_count": 11
        }
      ]
    },
    {
      "cell_type": "code",
      "source": [
        "x1 = np.linspace(X[0],X[-1],50)\n",
        "y1 = Interpolate(x1,X,Y)"
      ],
      "metadata": {
        "id": "TqKN5W5_bBn_"
      },
      "execution_count": 12,
      "outputs": []
    },
    {
      "cell_type": "code",
      "source": [
        "plt.scatter(X,Y,color='r')\n",
        "#plt.plot(x_inter,y_inter,color='b')\n",
        "plt.plot(x1,y1,'-.',color='b')\n",
        "plt.show()"
      ],
      "metadata": {
        "colab": {
          "base_uri": "https://localhost:8080/",
          "height": 431
        },
        "id": "3q3W5AUMbT87",
        "outputId": "8615a4c0-2e34-41e1-f056-66c4d514f0a3"
      },
      "execution_count": 13,
      "outputs": [
        {
          "output_type": "display_data",
          "data": {
            "text/plain": [
              "<Figure size 640x480 with 1 Axes>"
            ],
            "image/png": "[encoded data removed]"
          },
          "metadata": {}
        }
      ]
    },
    {
      "cell_type": "code",
      "source": [
        " poly = Interpolate(x,X,Y)\n",
        " poly = poly.expand()\n",
        " poly"
      ],
      "metadata": {
        "colab": {
          "base_uri": "https://localhost:8080/",
          "height": 54
        },
        "id": "lsJ4yMtfbanu",
        "outputId": "c19ebbba-71d4-4ce8-dc04-a1f96cb7343a"
      },
      "execution_count": 14,
      "outputs": [
        {
          "output_type": "execute_result",
          "data": {
            "text/plain": [
              "11*x**6/120 + 11*x**5/30 - 5*x**4/6 - 49*x**3/12 - 31*x**2/120 + 403*x/60 + 6"
            ],
            "text/latex": "$\\displaystyle \\frac{11 x^{6}}{120} + \\frac{11 x^{5}}{30} - \\frac{5 x^{4}}{6} - \\frac{49 x^{3}}{12} - \\frac{31 x^{2}}{120} + \\frac{403 x}{60} + 6$"
          },
          "metadata": {},
          "execution_count": 14
        }
      ]
    },
    {
      "cell_type": "code",
      "source": [
        "sym.diff(poly,x,1)"
      ],
      "metadata": {
        "colab": {
          "base_uri": "https://localhost:8080/",
          "height": 54
        },
        "id": "N9qiyVIqcdbU",
        "outputId": "7cab5498-74d6-4d30-809f-da1e08d2a43c"
      },
      "execution_count": 15,
      "outputs": [
        {
          "output_type": "execute_result",
          "data": {
            "text/plain": [
              "11*x**5/20 + 11*x**4/6 - 10*x**3/3 - 49*x**2/4 - 31*x/60 + 403/60"
            ],
            "text/latex": "$\\displaystyle \\frac{11 x^{5}}{20} + \\frac{11 x^{4}}{6} - \\frac{10 x^{3}}{3} - \\frac{49 x^{2}}{4} - \\frac{31 x}{60} + \\frac{403}{60}$"
          },
          "metadata": {},
          "execution_count": 15
        }
      ]
    },
    {
      "cell_type": "code",
      "source": [
        "sym.diff(poly,x,5)"
      ],
      "metadata": {
        "colab": {
          "base_uri": "https://localhost:8080/",
          "height": 38
        },
        "id": "pN2SeQbndelY",
        "outputId": "03bdd6db-3102-485b-d376-894ea6ac2bba"
      },
      "execution_count": 16,
      "outputs": [
        {
          "output_type": "execute_result",
          "data": {
            "text/plain": [
              "22*(3*x + 2)"
            ],
            "text/latex": "$\\displaystyle 22 \\left(3 x + 2\\right)$"
          },
          "metadata": {},
          "execution_count": 16
        }
      ]
    },
    {
      "cell_type": "code",
      "source": [
        "X = np.array([0,1,2,3])\n",
        "Y = np.exp(X)"
      ],
      "metadata": {
        "id": "sWGibP4UdoDy"
      },
      "execution_count": 137,
      "outputs": []
    },
    {
      "cell_type": "code",
      "source": [
        "x1 = np.linspace(X[0],X[-1],100)\n",
        "y1 = Interpolate(x1,X,Y)"
      ],
      "metadata": {
        "id": "mfnVdJL0gLoN"
      },
      "execution_count": 138,
      "outputs": []
    },
    {
      "cell_type": "code",
      "source": [],
      "metadata": {
        "id": "E7zm_ntpgYsA"
      },
      "execution_count": 79,
      "outputs": []
    },
    {
      "cell_type": "code",
      "source": [
        "plt.scatter(X,Y,color='r')\n",
        "plt.plot(x1,y1,'-.',color='b')\n",
        "plt.show()"
      ],
      "metadata": {
        "colab": {
          "base_uri": "https://localhost:8080/",
          "height": 430
        },
        "id": "ZjI3F1YVfCiL",
        "outputId": "2c4807ef-d01d-4675-fb29-b3b01d03e7ab"
      },
      "execution_count": 80,
      "outputs": [
        {
          "output_type": "display_data",
          "data": {
            "text/plain": [
              "<Figure size 640x480 with 1 Axes>"
            ],
            "image/png": "[encoded data removed]"
          },
          "metadata": {}
        }
      ]
    },
    {
      "cell_type": "code",
      "source": [
        "estimacion = Interpolate(2.5,X,Y)\n",
        "real = np.exp(2.5)"
      ],
      "metadata": {
        "id": "3dxVhxLdfDo0"
      },
      "execution_count": 140,
      "outputs": []
    },
    {
      "cell_type": "code",
      "source": [
        "np.abs(real-estimacion)"
      ],
      "metadata": {
        "colab": {
          "base_uri": "https://localhost:8080/"
        },
        "id": "8YDpaTRkgkZK",
        "outputId": "ee237c2d-76bb-4d5f-a669-5460b27a688e"
      },
      "execution_count": 82,
      "outputs": [
        {
          "output_type": "execute_result",
          "data": {
            "text/plain": [
              "0.23451334914670774"
            ]
          },
          "metadata": {},
          "execution_count": 82
        }
      ]
    },
    {
      "cell_type": "code",
      "source": [
        "# Debemos encontrar el supremo que define la cota superior de error\n",
        "funcion = np.exp(x1)\n",
        "ii = np.where( x1 == np.max(x1) )\n",
        "cita = x1[ii][0]\n",
        "cita"
      ],
      "metadata": {
        "colab": {
          "base_uri": "https://localhost:8080/"
        },
        "id": "pwfVIrQ3fWGL",
        "outputId": "db0d5b5b-2450-4813-e8f1-b7fa3b7d3890"
      },
      "execution_count": 125,
      "outputs": [
        {
          "output_type": "execute_result",
          "data": {
            "text/plain": [
              "3.0"
            ]
          },
          "metadata": {},
          "execution_count": 125
        }
      ]
    },
    {
      "cell_type": "code",
      "source": [
        "import math\n",
        "\n",
        "def GetError(x,c):\n",
        "\n",
        "  E = np.exp(c)/math.factorial(len(X))\n",
        "\n",
        "  for i in range(len(X)):\n",
        "    E *= np.abs(x-X[i])\n",
        "\n",
        "  return E"
      ],
      "metadata": {
        "id": "C01po0eoaLrM"
      },
      "execution_count": 126,
      "outputs": []
    },
    {
      "cell_type": "code",
      "source": [
        "# Este es error maximo de calcular la exponencial con un polinomio\n",
        "GetError(2.5,cita)"
      ],
      "metadata": {
        "colab": {
          "base_uri": "https://localhost:8080/"
        },
        "id": "z526GnBsaXPi",
        "outputId": "a69a9a68-36bb-4afb-dac1-35d3e9227bb8"
      },
      "execution_count": 141,
      "outputs": [
        {
          "output_type": "execute_result",
          "data": {
            "text/plain": [
              "0.7845912860620183"
            ]
          },
          "metadata": {},
          "execution_count": 141
        }
      ]
    },
    {
      "cell_type": "code",
      "source": [],
      "metadata": {
        "id": "PRwJp5bxawB_"
      },
      "execution_count": 127,
      "outputs": []
    },
    {
      "cell_type": "code",
      "source": [
        "# Operador derivada de orden super\n",
        "def f(x):\n",
        "  return np.sin(x)"
      ],
      "metadata": {
        "id": "DN067QtCihO-"
      },
      "execution_count": 128,
      "outputs": []
    },
    {
      "cell_type": "code",
      "source": [
        "def df(f,x,h=1e-1):\n",
        "  #return (-2*f(x-h) -3*f(x) +6*f(x+h)-f(x+2*h))/(6*h)\n",
        "  return (-1/12*f(x-3*h)+1/2*f(x-2*h)-18/12*(f(x-h))+10/12*f(x)+1/4*f(x+h))/h"
      ],
      "metadata": {
        "id": "k6o8PmrUlUjA"
      },
      "execution_count": 142,
      "outputs": []
    },
    {
      "cell_type": "code",
      "source": [
        "x = np.linspace(-2*np.pi,2*np.pi,1000)\n",
        "h = x[1] - x[0]\n",
        "h"
      ],
      "metadata": {
        "id": "Z9YZSRgUllF1",
        "colab": {
          "base_uri": "https://localhost:8080/"
        },
        "outputId": "2e6a3667-2853-48c4-cf64-96555ec12a11"
      },
      "execution_count": 143,
      "outputs": [
        {
          "output_type": "execute_result",
          "data": {
            "text/plain": [
              "0.012578949563923025"
            ]
          },
          "metadata": {},
          "execution_count": 143
        }
      ]
    },
    {
      "cell_type": "code",
      "source": [
        "De = np.cos(x)\n",
        "Dn = df(f,x,h)"
      ],
      "metadata": {
        "id": "VJcsTrILlqZT"
      },
      "execution_count": 144,
      "outputs": []
    },
    {
      "cell_type": "code",
      "source": [
        "plt.scatter(x,np.abs(De-Dn))\n",
        "plt.yscale('log')"
      ],
      "metadata": {
        "colab": {
          "base_uri": "https://localhost:8080/",
          "height": 430
        },
        "id": "2EU-qtTNlxPv",
        "outputId": "a8cff752-2aea-442f-f39e-191e4d8f4695"
      },
      "execution_count": 146,
      "outputs": [
        {
          "output_type": "display_data",
          "data": {
            "text/plain": [
              "<Figure size 640x480 with 1 Axes>"
            ],
            "image/png": "[encoded data removed]"
          },
          "metadata": {}
        }
      ]
    },
    {
      "cell_type": "code",
      "source": [],
      "metadata": {
        "id": "PVfemHp-l4e8"
      },
      "execution_count": 106,
      "outputs": []
    }
  ]
}