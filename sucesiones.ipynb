{
  "nbformat": 4,
  "nbformat_minor": 0,
  "metadata": {
    "colab": {
      "provenance": [],
      "authorship_tag": "ABX9TyNj5x8ZB+tcIaiKk3/32HLj",
      "include_colab_link": true
    },
    "kernelspec": {
      "name": "python3",
      "display_name": "Python 3"
    },
    "language_info": {
      "name": "python"
    }
  },
  "cells": [
    {
      "cell_type": "markdown",
      "metadata": {
        "id": "view-in-github",
        "colab_type": "text"
      },
      "source": [
        "<a href=\"https://colab.research.google.com/github/asegura4488/MetodosComputationales1/blob/main/sucesiones.ipynb\" target=\"_parent\"><img src=\"https://colab.research.google.com/assets/colab-badge.svg\" alt=\"Open In Colab\"/></a>"
      ]
    },
    {
      "cell_type": "code",
      "execution_count": 4,
      "metadata": {
        "id": "Qkt-L82WN_xX"
      },
      "outputs": [],
      "source": [
        "import numpy as np"
      ]
    },
    {
      "cell_type": "code",
      "source": [
        "f = []\n",
        "f.append(0)\n",
        "f.append(1)\n",
        "\n",
        "for i in range(6):\n",
        "    f.append(f[i] + f[i+1])\n",
        "\n",
        "print(f)"
      ],
      "metadata": {
        "id": "gihBmSiaOO6R",
        "colab": {
          "base_uri": "https://localhost:8080/"
        },
        "outputId": "af79c477-9053-4101-be80-a622ca7daa2a"
      },
      "execution_count": 5,
      "outputs": [
        {
          "output_type": "stream",
          "name": "stdout",
          "text": [
            "[0, 1, 1, 2, 3, 5, 8, 13]\n"
          ]
        }
      ]
    },
    {
      "cell_type": "code",
      "source": [
        "# Calculo de la raiz cuadrada"
      ],
      "metadata": {
        "id": "4OPfOXqbOz1g"
      },
      "execution_count": 6,
      "outputs": []
    },
    {
      "cell_type": "code",
      "source": [
        "np.sqrt(2)"
      ],
      "metadata": {
        "colab": {
          "base_uri": "https://localhost:8080/"
        },
        "id": "p_curNimPv-X",
        "outputId": "261b68f2-9586-43fd-ae74-c2d7434a0c37"
      },
      "execution_count": 7,
      "outputs": [
        {
          "output_type": "execute_result",
          "data": {
            "text/plain": [
              "1.4142135623730951"
            ]
          },
          "metadata": {},
          "execution_count": 7
        }
      ]
    },
    {
      "cell_type": "code",
      "source": [
        "x = 2\n",
        "f = x\n",
        "f = 0.5*( 2/f + f )\n",
        "f"
      ],
      "metadata": {
        "colab": {
          "base_uri": "https://localhost:8080/"
        },
        "id": "n0gdaNrqPyHc",
        "outputId": "50f49a7f-564b-4226-95c2-165afc24b880"
      },
      "execution_count": 8,
      "outputs": [
        {
          "output_type": "execute_result",
          "data": {
            "text/plain": [
              "1.5"
            ]
          },
          "metadata": {},
          "execution_count": 8
        }
      ]
    },
    {
      "cell_type": "code",
      "source": [
        "f = 0.5*( 2/f + f )\n",
        "f"
      ],
      "metadata": {
        "colab": {
          "base_uri": "https://localhost:8080/"
        },
        "id": "SyygjUSGQwIc",
        "outputId": "1e25e0ae-b97e-4048-82c5-846e3d51c043"
      },
      "execution_count": 9,
      "outputs": [
        {
          "output_type": "execute_result",
          "data": {
            "text/plain": [
              "1.4166666666666665"
            ]
          },
          "metadata": {},
          "execution_count": 9
        }
      ]
    },
    {
      "cell_type": "code",
      "source": [
        "f = 0.5*( 2/f + f )\n",
        "f"
      ],
      "metadata": {
        "colab": {
          "base_uri": "https://localhost:8080/"
        },
        "id": "K5cDYL8hQ5oq",
        "outputId": "653ef5a0-ae9a-4f13-fcd8-4cad1942325c"
      },
      "execution_count": 10,
      "outputs": [
        {
          "output_type": "execute_result",
          "data": {
            "text/plain": [
              "1.4142156862745097"
            ]
          },
          "metadata": {},
          "execution_count": 10
        }
      ]
    },
    {
      "cell_type": "code",
      "source": [
        "np.abs(np.sqrt(2) - f)"
      ],
      "metadata": {
        "colab": {
          "base_uri": "https://localhost:8080/"
        },
        "id": "eJksgRTvQ7ig",
        "outputId": "52e75566-9956-48eb-f29a-f2be820f0478"
      },
      "execution_count": 11,
      "outputs": [
        {
          "output_type": "execute_result",
          "data": {
            "text/plain": [
              "2.123901414519125e-06"
            ]
          },
          "metadata": {},
          "execution_count": 11
        }
      ]
    },
    {
      "cell_type": "code",
      "source": [
        "def Babilonico(x = 2, N = 5):\n",
        "\n",
        "  History = []\n",
        "\n",
        "  f = x\n",
        "  for i in range(N):\n",
        "    f = 0.5*( x/f + f )\n",
        "    History.append(f)\n",
        "\n",
        "  return History"
      ],
      "metadata": {
        "id": "_ruOJSEgRCe8"
      },
      "execution_count": 18,
      "outputs": []
    },
    {
      "cell_type": "code",
      "source": [
        "Babilonico()"
      ],
      "metadata": {
        "colab": {
          "base_uri": "https://localhost:8080/"
        },
        "id": "nTXJ3lOvSqOQ",
        "outputId": "5849793e-e9b1-4378-a837-66068a9f5940"
      },
      "execution_count": 19,
      "outputs": [
        {
          "output_type": "execute_result",
          "data": {
            "text/plain": [
              "[1.5,\n",
              " 1.4166666666666665,\n",
              " 1.4142156862745097,\n",
              " 1.4142135623746899,\n",
              " 1.414213562373095]"
            ]
          },
          "metadata": {},
          "execution_count": 19
        }
      ]
    },
    {
      "cell_type": "code",
      "source": [
        "def Babilonico2(x = 2, epsilon = 1e-10):\n",
        "\n",
        "  History = []\n",
        "\n",
        "  f = x\n",
        "  while True:\n",
        "    f_new = 0.5*( x/f + f )\n",
        "    History.append(f_new)\n",
        "    if np.abs(f_new - f) < epsilon:\n",
        "      break\n",
        "    f = f_new\n",
        "\n",
        "  return History\n",
        "\n"
      ],
      "metadata": {
        "id": "QRdMJLuWSuop"
      },
      "execution_count": 24,
      "outputs": []
    },
    {
      "cell_type": "code",
      "source": [
        "Babilonico2()"
      ],
      "metadata": {
        "colab": {
          "base_uri": "https://localhost:8080/"
        },
        "id": "QFSJHDXyVw_i",
        "outputId": "3fd108e4-032c-4cbd-89ce-42b047a2da7a"
      },
      "execution_count": 25,
      "outputs": [
        {
          "output_type": "execute_result",
          "data": {
            "text/plain": [
              "[1.5,\n",
              " 1.4166666666666665,\n",
              " 1.4142156862745097,\n",
              " 1.4142135623746899,\n",
              " 1.414213562373095]"
            ]
          },
          "metadata": {},
          "execution_count": 25
        }
      ]
    },
    {
      "cell_type": "code",
      "source": [],
      "metadata": {
        "id": "fsmedTKGVyh1"
      },
      "execution_count": null,
      "outputs": []
    }
  ]
}