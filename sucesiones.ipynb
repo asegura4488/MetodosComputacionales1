{
  "nbformat": 4,
  "nbformat_minor": 0,
  "metadata": {
    "colab": {
      "provenance": [],
      "authorship_tag": "ABX9TyPfRd273v/NG/ZnzI2iSSZw",
      "include_colab_link": true
    },
    "kernelspec": {
      "name": "python3",
      "display_name": "Python 3"
    },
    "language_info": {
      "name": "python"
    }
  },
  "cells": [
    {
      "cell_type": "markdown",
      "metadata": {
        "id": "view-in-github",
        "colab_type": "text"
      },
      "source": [
        "<a href=\"https://colab.research.google.com/github/asegura4488/MetodosComputationales1/blob/main/sucesiones.ipynb\" target=\"_parent\"><img src=\"https://colab.research.google.com/assets/colab-badge.svg\" alt=\"Open In Colab\"/></a>"
      ]
    },
    {
      "cell_type": "code",
      "execution_count": null,
      "metadata": {
        "id": "Qkt-L82WN_xX"
      },
      "outputs": [],
      "source": [
        "import numpy as np"
      ]
    },
    {
      "cell_type": "code",
      "source": [
        "f = []\n",
        "f.append(0)\n",
        "f.append(1)\n",
        "\n",
        "for i in range(6):\n",
        "    f.append(f[i] + f[i+1])\n",
        "\n",
        "print(f)"
      ],
      "metadata": {
        "id": "gihBmSiaOO6R",
        "colab": {
          "base_uri": "https://localhost:8080/"
        },
        "outputId": "bc508988-4d64-45c2-c9d5-7fcf03010115"
      },
      "execution_count": 1,
      "outputs": [
        {
          "output_type": "stream",
          "name": "stdout",
          "text": [
            "[0, 1, 1, 2, 3, 5, 8, 13]\n"
          ]
        }
      ]
    },
    {
      "cell_type": "code",
      "source": [],
      "metadata": {
        "id": "4OPfOXqbOz1g"
      },
      "execution_count": null,
      "outputs": []
    }
  ]
}