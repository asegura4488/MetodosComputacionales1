{
  "nbformat": 4,
  "nbformat_minor": 0,
  "metadata": {
    "colab": {
      "provenance": [],
      "authorship_tag": "ABX9TyPPvs8yGJAljrrKr/bneWit",
      "include_colab_link": true
    },
    "kernelspec": {
      "name": "python3",
      "display_name": "Python 3"
    },
    "language_info": {
      "name": "python"
    }
  },
  "cells": [
    {
      "cell_type": "markdown",
      "metadata": {
        "id": "view-in-github",
        "colab_type": "text"
      },
      "source": [
        "<a href=\"https://colab.research.google.com/github/asegura4488/MetodosComputacionales1/blob/main/Semana11/MinimosCuadrados.ipynb\" target=\"_parent\"><img src=\"https://colab.research.google.com/assets/colab-badge.svg\" alt=\"Open In Colab\"/></a>"
      ]
    },
    {
      "cell_type": "code",
      "execution_count": 1,
      "metadata": {
        "colab": {
          "base_uri": "https://localhost:8080/"
        },
        "id": "jhfYvwCC57m-",
        "outputId": "1b52a43c-72f1-441e-a8dc-56baca086563"
      },
      "outputs": [
        {
          "output_type": "stream",
          "name": "stdout",
          "text": [
            "Mounted at /content/drive\n"
          ]
        }
      ],
      "source": [
        "import numpy as np\n",
        "import matplotlib.pyplot as plt\n",
        "import pandas as pd\n",
        "import os\n",
        "from google.colab import drive\n",
        "drive.mount('/content/drive', force_remount=True)"
      ]
    },
    {
      "cell_type": "code",
      "source": [
        "os.chdir(\"/content/drive/MyDrive/ColabNotebooks/Cursos/MetodosComputacionalesI\")\n",
        "!ls"
      ],
      "metadata": {
        "colab": {
          "base_uri": "https://localhost:8080/"
        },
        "id": "lHSHYK8I5-ni",
        "outputId": "bcd05e51-fa88-481a-f2d8-d80713336b04"
      },
      "execution_count": 4,
      "outputs": [
        {
          "output_type": "stream",
          "name": "stdout",
          "text": [
            "Parcial2    Semana1   Semana11\tSemana3  Semana5  Semana7  Semana9\n",
            "ProyectoML  Semana10  Semana2\tSemana4  Semana6  Semana8\n"
          ]
        }
      ]
    },
    {
      "cell_type": "code",
      "source": [
        "file = '/content/drive/MyDrive/ColabNotebooks/Cursos/MetodosComputacionalesI/Semana11/Data/MinimosLineal.txt'\n",
        "file"
      ],
      "metadata": {
        "colab": {
          "base_uri": "https://localhost:8080/",
          "height": 36
        },
        "id": "b1fbDvKm6FcT",
        "outputId": "26fa7ae7-d9e8-4a8b-ed2c-70b1d86924b9"
      },
      "execution_count": 13,
      "outputs": [
        {
          "output_type": "execute_result",
          "data": {
            "text/plain": [
              "'/content/drive/MyDrive/ColabNotebooks/Cursos/MetodosComputacionalesI/Semana11/Data/MinimosLineal.txt'"
            ],
            "application/vnd.google.colaboratory.intrinsic+json": {
              "type": "string"
            }
          },
          "metadata": {},
          "execution_count": 13
        }
      ]
    },
    {
      "cell_type": "code",
      "source": [
        "data = np.loadtxt(file)\n",
        "x = data[:,0]\n",
        "y = data[:,1]"
      ],
      "metadata": {
        "id": "f3UONJ_p6Jfp"
      },
      "execution_count": 14,
      "outputs": []
    },
    {
      "cell_type": "code",
      "source": [
        "plt.scatter(x,y,color='red')"
      ],
      "metadata": {
        "colab": {
          "base_uri": "https://localhost:8080/",
          "height": 447
        },
        "id": "z_d7GDET6MuD",
        "outputId": "a7dc68e8-a4eb-4e27-a9c3-bb100d60ad13"
      },
      "execution_count": 15,
      "outputs": [
        {
          "output_type": "execute_result",
          "data": {
            "text/plain": [
              "<matplotlib.collections.PathCollection at 0x78f26a604490>"
            ]
          },
          "metadata": {},
          "execution_count": 15
        },
        {
          "output_type": "display_data",
          "data": {
            "text/plain": [
              "<Figure size 640x480 with 1 Axes>"
            ],
            "image/png": "[encoded data removed]"
          },
          "metadata": {}
        }
      ]
    },
    {
      "cell_type": "code",
      "source": [
        "def GetFit(x,y,n=1):\n",
        "\n",
        "  l = x.shape[0] # Cantidad de datos\n",
        "  b = y\n",
        "\n",
        "  A = np.ones((l,n+1))\n",
        "\n",
        "  for i in range(1,n+1):\n",
        "    A[:,i] = x**i\n",
        "\n",
        "  # Fitting\n",
        "  AT = np.dot(A.T,A)\n",
        "  bT = np.dot(A.T,b)\n",
        "\n",
        "  #print(AT)\n",
        "\n",
        "  xsol = np.dot(np.linalg.inv(AT),bT)\n",
        "\n",
        "  return xsol"
      ],
      "metadata": {
        "id": "QajOcHqC6NL7"
      },
      "execution_count": 29,
      "outputs": []
    },
    {
      "cell_type": "code",
      "source": [
        "params = GetFit(x,y)\n",
        "params"
      ],
      "metadata": {
        "colab": {
          "base_uri": "https://localhost:8080/"
        },
        "id": "Ml1lUEISjd5P",
        "outputId": "5efa298f-5383-4e68-f784-d404745672bb"
      },
      "execution_count": 30,
      "outputs": [
        {
          "output_type": "execute_result",
          "data": {
            "text/plain": [
              "array([-5.12918553,  2.12503681])"
            ]
          },
          "metadata": {},
          "execution_count": 30
        }
      ]
    },
    {
      "cell_type": "code",
      "source": [
        "def GetModel(x,p):\n",
        "\n",
        "  y = 0.\n",
        "  for n in range(len(p)):\n",
        "    y += p[n]*x**n\n",
        "\n",
        "  return y"
      ],
      "metadata": {
        "id": "zZJr0CNDje2A"
      },
      "execution_count": 31,
      "outputs": []
    },
    {
      "cell_type": "code",
      "source": [
        "import sympy as sym\n",
        "X = sym.Symbol('x',real=True)\n",
        "Y = GetModel(X,params)\n",
        "Y"
      ],
      "metadata": {
        "colab": {
          "base_uri": "https://localhost:8080/",
          "height": 39
        },
        "id": "Z_kE74_hlXpq",
        "outputId": "8fd2adfd-a9e1-4f66-944a-eaf4921cb16c"
      },
      "execution_count": 33,
      "outputs": [
        {
          "output_type": "execute_result",
          "data": {
            "text/plain": [
              "2.12503680800827*x - 5.12918552885297"
            ],
            "text/latex": "$\\displaystyle 2.12503680800827 x - 5.12918552885297$"
          },
          "metadata": {},
          "execution_count": 33
        }
      ]
    },
    {
      "cell_type": "code",
      "source": [
        "_x = np.linspace(np.min(x),np.max(x),50)\n",
        "_y = GetModel(_x,params)"
      ],
      "metadata": {
        "id": "SHnJeD5Klc6r"
      },
      "execution_count": 34,
      "outputs": []
    },
    {
      "cell_type": "code",
      "source": [
        "plt.plot(_x,_y,color='red')\n",
        "plt.scatter(x,y,color='blue')"
      ],
      "metadata": {
        "colab": {
          "base_uri": "https://localhost:8080/",
          "height": 447
        },
        "id": "eFjffTM7lpcM",
        "outputId": "20182d6f-31b2-4209-9e79-ed912fff9e83"
      },
      "execution_count": 35,
      "outputs": [
        {
          "output_type": "execute_result",
          "data": {
            "text/plain": [
              "<matplotlib.collections.PathCollection at 0x78f25c5b6d50>"
            ]
          },
          "metadata": {},
          "execution_count": 35
        },
        {
          "output_type": "display_data",
          "data": {
            "text/plain": [
              "<Figure size 640x480 with 1 Axes>"
            ],
            "image/png": "[encoded data removed]"
          },
          "metadata": {}
        }
      ]
    },
    {
      "cell_type": "code",
      "source": [],
      "metadata": {
        "id": "76zSeUflluAI"
      },
      "execution_count": null,
      "outputs": []
    }
  ]
}