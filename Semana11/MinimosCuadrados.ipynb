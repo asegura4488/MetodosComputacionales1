{
  "nbformat": 4,
  "nbformat_minor": 0,
  "metadata": {
    "colab": {
      "provenance": [],
      "authorship_tag": "ABX9TyNDwSrLvftxsl2hPm96goEg",
      "include_colab_link": true
    },
    "kernelspec": {
      "name": "python3",
      "display_name": "Python 3"
    },
    "language_info": {
      "name": "python"
    }
  },
  "cells": [
    {
      "cell_type": "markdown",
      "metadata": {
        "id": "view-in-github",
        "colab_type": "text"
      },
      "source": [
        "<a href=\"https://colab.research.google.com/github/asegura4488/MetodosComputacionales1/blob/main/Semana11/MinimosCuadrados.ipynb\" target=\"_parent\"><img src=\"https://colab.research.google.com/assets/colab-badge.svg\" alt=\"Open In Colab\"/></a>"
      ]
    },
    {
      "cell_type": "code",
      "execution_count": 1,
      "metadata": {
        "colab": {
          "base_uri": "https://localhost:8080/"
        },
        "id": "jhfYvwCC57m-",
        "outputId": "1b52a43c-72f1-441e-a8dc-56baca086563"
      },
      "outputs": [
        {
          "output_type": "stream",
          "name": "stdout",
          "text": [
            "Mounted at /content/drive\n"
          ]
        }
      ],
      "source": [
        "import numpy as np\n",
        "import matplotlib.pyplot as plt\n",
        "import pandas as pd\n",
        "import os\n",
        "from google.colab import drive\n",
        "drive.mount('/content/drive', force_remount=True)"
      ]
    },
    {
      "cell_type": "code",
      "source": [
        "os.chdir(\"/content/drive/MyDrive/ColabNotebooks/Cursos/MetodosComputacionalesI\")\n",
        "!ls"
      ],
      "metadata": {
        "colab": {
          "base_uri": "https://localhost:8080/"
        },
        "id": "lHSHYK8I5-ni",
        "outputId": "bcd05e51-fa88-481a-f2d8-d80713336b04"
      },
      "execution_count": 4,
      "outputs": [
        {
          "output_type": "stream",
          "name": "stdout",
          "text": [
            "Parcial2    Semana1   Semana11\tSemana3  Semana5  Semana7  Semana9\n",
            "ProyectoML  Semana10  Semana2\tSemana4  Semana6  Semana8\n"
          ]
        }
      ]
    },
    {
      "cell_type": "code",
      "source": [
        "file = '/content/drive/MyDrive/ColabNotebooks/Cursos/MetodosComputacionalesI/Semana11/Data/MinimosLineal.txt'\n",
        "file"
      ],
      "metadata": {
        "colab": {
          "base_uri": "https://localhost:8080/",
          "height": 36
        },
        "id": "b1fbDvKm6FcT",
        "outputId": "26fa7ae7-d9e8-4a8b-ed2c-70b1d86924b9"
      },
      "execution_count": 13,
      "outputs": [
        {
          "output_type": "execute_result",
          "data": {
            "text/plain": [
              "'/content/drive/MyDrive/ColabNotebooks/Cursos/MetodosComputacionalesI/Semana11/Data/MinimosLineal.txt'"
            ],
            "application/vnd.google.colaboratory.intrinsic+json": {
              "type": "string"
            }
          },
          "metadata": {},
          "execution_count": 13
        }
      ]
    },
    {
      "cell_type": "code",
      "source": [
        "data = np.loadtxt(file)\n",
        "x = data[:,0]\n",
        "y = data[:,1]"
      ],
      "metadata": {
        "id": "f3UONJ_p6Jfp"
      },
      "execution_count": 14,
      "outputs": []
    },
    {
      "cell_type": "code",
      "source": [
        "plt.scatter(x,y,color='red')"
      ],
      "metadata": {
        "colab": {
          "base_uri": "https://localhost:8080/",
          "height": 447
        },
        "id": "z_d7GDET6MuD",
        "outputId": "a7dc68e8-a4eb-4e27-a9c3-bb100d60ad13"
      },
      "execution_count": 15,
      "outputs": [
        {
          "output_type": "execute_result",
          "data": {
            "text/plain": [
              "<matplotlib.collections.PathCollection at 0x78f26a604490>"
            ]
          },
          "metadata": {},
          "execution_count": 15
        },
        {
          "output_type": "display_data",
          "data": {
            "text/plain": [
              "<Figure size 640x480 with 1 Axes>"
            ],
            "image/png": "[encoded data removed]"
          },
          "metadata": {}
        }
      ]
    },
    {
      "cell_type": "code",
      "source": [
        "def GetFit(x,y,n=1):\n",
        "\n",
        "  l = x.shape[0] # Cantidad de datos\n",
        "  b = y\n",
        "\n",
        "  A = np.ones((l,n+1))\n",
        "\n",
        "  for i in range(1,n+1):\n",
        "    A[:,i] = x**i\n",
        "\n",
        "  print(A)"
      ],
      "metadata": {
        "id": "QajOcHqC6NL7"
      },
      "execution_count": 23,
      "outputs": []
    },
    {
      "cell_type": "code",
      "source": [
        "GetFit(x,y)"
      ],
      "metadata": {
        "colab": {
          "base_uri": "https://localhost:8080/"
        },
        "id": "Ml1lUEISjd5P",
        "outputId": "eccb4179-ddfd-4029-d4e5-0d3155c4efae"
      },
      "execution_count": 24,
      "outputs": [
        {
          "output_type": "stream",
          "name": "stdout",
          "text": [
            "[[ 1.        0.      ]\n",
            " [ 1.        1.052632]\n",
            " [ 1.        2.105263]\n",
            " [ 1.        3.157895]\n",
            " [ 1.        4.210526]\n",
            " [ 1.        5.263158]\n",
            " [ 1.        6.315789]\n",
            " [ 1.        7.368421]\n",
            " [ 1.        8.421053]\n",
            " [ 1.        9.473684]\n",
            " [ 1.       10.52632 ]\n",
            " [ 1.       11.57895 ]\n",
            " [ 1.       12.63158 ]\n",
            " [ 1.       13.68421 ]\n",
            " [ 1.       14.73684 ]\n",
            " [ 1.       15.78947 ]\n",
            " [ 1.       16.84211 ]\n",
            " [ 1.       17.89474 ]\n",
            " [ 1.       18.94737 ]\n",
            " [ 1.       20.      ]]\n"
          ]
        }
      ]
    },
    {
      "cell_type": "code",
      "source": [],
      "metadata": {
        "id": "zZJr0CNDje2A"
      },
      "execution_count": null,
      "outputs": []
    }
  ]
}