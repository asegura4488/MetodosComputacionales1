{
  "nbformat": 4,
  "nbformat_minor": 0,
  "metadata": {
    "colab": {
      "provenance": [],
      "authorship_tag": "ABX9TyPu/eT7Ta/q+HpBheiMhJgS",
      "include_colab_link": true
    },
    "kernelspec": {
      "name": "python3",
      "display_name": "Python 3"
    },
    "language_info": {
      "name": "python"
    }
  },
  "cells": [
    {
      "cell_type": "markdown",
      "metadata": {
        "id": "view-in-github",
        "colab_type": "text"
      },
      "source": [
        "<a href=\"https://colab.research.google.com/github/asegura4488/MetodosComputacionales1/blob/main/Semana9/GradienteLineal2D.ipynb\" target=\"_parent\"><img src=\"https://colab.research.google.com/assets/colab-badge.svg\" alt=\"Open In Colab\"/></a>"
      ]
    },
    {
      "cell_type": "code",
      "execution_count": 2,
      "metadata": {
        "id": "fyIKDyj5M5jx"
      },
      "outputs": [],
      "source": [
        "import numpy as np\n",
        "import matplotlib.pyplot as plt\n",
        "from IPython.display import clear_output\n",
        "import time"
      ]
    },
    {
      "cell_type": "code",
      "source": [
        "G = (lambda x,y: x**3 - 3*x*y - 1, \\\n",
        "     lambda x,y: 3*x**2*y -y**3)"
      ],
      "metadata": {
        "id": "eAuNItJbNe6w"
      },
      "execution_count": 9,
      "outputs": []
    },
    {
      "cell_type": "code",
      "source": [
        "def GetVectorF(G,r):\n",
        "\n",
        "    v = np.zeros(len(G))\n",
        "    for i in range(v.shape[0]):\n",
        "        v[i] = G[i](r[0],r[1])\n",
        "\n",
        "    return v"
      ],
      "metadata": {
        "id": "30BVseLzNkdD"
      },
      "execution_count": 10,
      "outputs": []
    },
    {
      "cell_type": "code",
      "source": [
        "GetVectorF(G,np.array([1,0]))"
      ],
      "metadata": {
        "colab": {
          "base_uri": "https://localhost:8080/"
        },
        "id": "prVjQsJfOANT",
        "outputId": "a07f11f6-e94c-4364-ef17-57fa124905f1"
      },
      "execution_count": 11,
      "outputs": [
        {
          "output_type": "execute_result",
          "data": {
            "text/plain": [
              "array([0., 0.])"
            ]
          },
          "metadata": {},
          "execution_count": 11
        }
      ]
    },
    {
      "cell_type": "code",
      "source": [
        "def GetJacobian(G,r,h=1e-4):\n",
        "\n",
        "    J = np.zeros((r.shape[0],r.shape[0]))\n",
        "\n",
        "    for i in range(r.shape[0]):\n",
        "        J[i,0] = (G[i](r[0]+h,r[1]) - G[i](r[0]-h,r[1]))/(2*h)\n",
        "        J[i,1] = (G[i](r[0],r[1]+h) - G[i](r[0],r[1]-h))/(2*h)\n",
        "\n",
        "\n",
        "    return J"
      ],
      "metadata": {
        "id": "KXpqJO1QOEDB"
      },
      "execution_count": 12,
      "outputs": []
    },
    {
      "cell_type": "code",
      "source": [
        "GetJacobian(G,np.array([1,2]))"
      ],
      "metadata": {
        "colab": {
          "base_uri": "https://localhost:8080/"
        },
        "id": "xvK7hn-Wsr-4",
        "outputId": "dccbc7d7-12b1-4571-c321-207c2d5fbd51"
      },
      "execution_count": 14,
      "outputs": [
        {
          "output_type": "execute_result",
          "data": {
            "text/plain": [
              "array([[-2.99999999, -3.        ],\n",
              "       [12.        , -9.00000001]])"
            ]
          },
          "metadata": {},
          "execution_count": 14
        }
      ]
    },
    {
      "cell_type": "code",
      "source": [
        "def Metric(G,r):\n",
        "  return 0.5*np.linalg.norm(GetVectorF(G,r))"
      ],
      "metadata": {
        "id": "ufjiH-P1uE_H"
      },
      "execution_count": 15,
      "outputs": []
    },
    {
      "cell_type": "code",
      "source": [
        "Metric(G,np.array([1,0]))"
      ],
      "metadata": {
        "colab": {
          "base_uri": "https://localhost:8080/"
        },
        "id": "pBBkbYLIuLJp",
        "outputId": "33ca1502-7640-4def-9ca1-d86378e979b3"
      },
      "execution_count": 16,
      "outputs": [
        {
          "output_type": "execute_result",
          "data": {
            "text/plain": [
              "np.float64(0.0)"
            ]
          },
          "metadata": {},
          "execution_count": 16
        }
      ]
    },
    {
      "cell_type": "code",
      "source": [
        "def GetFig(R,W,it):\n",
        "\n",
        "  fig = plt.figure(figsize=(6,4))\n",
        "  ax = fig.add_subplot(1,2,1)\n",
        "  ax1 = fig.add_subplot(1,2,2)\n",
        "\n",
        "  ax.plot(R[:it])\n",
        "  ax1.plot(W[:it])\n",
        "\n",
        "  return ax,ax1"
      ],
      "metadata": {
        "id": "Hnl0drnLs365"
      },
      "execution_count": 17,
      "outputs": []
    },
    {
      "cell_type": "code",
      "source": [
        "GetFig(np.array([1,2]),np.array([1,2]),2)"
      ],
      "metadata": {
        "colab": {
          "base_uri": "https://localhost:8080/",
          "height": 385
        },
        "id": "NwRvSj3GtVFN",
        "outputId": "b027b84d-b369-4eef-c562-bb56a2d0558a"
      },
      "execution_count": 18,
      "outputs": [
        {
          "output_type": "execute_result",
          "data": {
            "text/plain": [
              "(<Axes: >, <Axes: >)"
            ]
          },
          "metadata": {},
          "execution_count": 18
        },
        {
          "output_type": "display_data",
          "data": {
            "text/plain": [
              "<Figure size 600x400 with 2 Axes>"
            ],
            "image/png": "[encoded data removed]"
          },
          "metadata": {}
        }
      ]
    },
    {
      "cell_type": "code",
      "source": [
        "def Minimizer(G,r,lr=0.01,epochs=int(1e3),error=1e-4):\n",
        "\n",
        "  metric = 1\n",
        "  it = 0\n",
        "\n",
        "  R = np.array([r])\n",
        "  M = np.array([])\n",
        "\n",
        "  while metric > error and it < epochs:\n",
        "\n",
        "    # Metric\n",
        "    M = np.append(M,Metric(G,r))\n",
        "\n",
        "    # Gradient\n",
        "    J = GetJacobian(G,r)\n",
        "    Vector = GetVectorF(G,r)\n",
        "\n",
        "    # Gradient descent\n",
        "    r -= lr*np.dot(J.T,Vector)\n",
        "    #print(R)\n",
        "\n",
        "    R = np.vstack((R,r))\n",
        "\n",
        "\n",
        "    clear_output(wait=True)\n",
        "    ax,ax1 = GetFig(R,M,it)\n",
        "\n",
        "    plt.show()\n",
        "\n",
        "    it += 1\n",
        "\n",
        "  return r\n",
        "\n",
        "\n",
        "\n"
      ],
      "metadata": {
        "id": "_ZJJbV8BtYv3"
      },
      "execution_count": 19,
      "outputs": []
    },
    {
      "cell_type": "code",
      "source": [
        "xsol = Minimizer(G,np.array([10.,2.]))"
      ],
      "metadata": {
        "colab": {
          "base_uri": "https://localhost:8080/",
          "height": 383
        },
        "id": "82HrczDivUYu",
        "outputId": "bc65ae57-6715-4e8b-c6d2-01f24aef7b53"
      },
      "execution_count": null,
      "outputs": [
        {
          "output_type": "display_data",
          "data": {
            "text/plain": [
              "<Figure size 600x400 with 2 Axes>"
            ],
            "image/png": "[encoded data removed]"
          },
          "metadata": {}
        }
      ]
    },
    {
      "cell_type": "code",
      "source": [],
      "metadata": {
        "id": "YpHrAff5vbrU"
      },
      "execution_count": null,
      "outputs": []
    }
  ]
}