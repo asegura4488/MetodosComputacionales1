{
  "nbformat": 4,
  "nbformat_minor": 0,
  "metadata": {
    "colab": {
      "provenance": [],
      "authorship_tag": "ABX9TyNMu7+OH5qh1me9ZNEGx8H+",
      "include_colab_link": true
    },
    "kernelspec": {
      "name": "python3",
      "display_name": "Python 3"
    },
    "language_info": {
      "name": "python"
    }
  },
  "cells": [
    {
      "cell_type": "markdown",
      "metadata": {
        "id": "view-in-github",
        "colab_type": "text"
      },
      "source": [
        "<a href=\"https://colab.research.google.com/github/asegura4488/MetodosComputacionales1/blob/main/Semana9/GradienteLineal2D.ipynb\" target=\"_parent\"><img src=\"https://colab.research.google.com/assets/colab-badge.svg\" alt=\"Open In Colab\"/></a>"
      ]
    },
    {
      "cell_type": "code",
      "execution_count": 2,
      "metadata": {
        "id": "fyIKDyj5M5jx"
      },
      "outputs": [],
      "source": [
        "import numpy as np\n",
        "import matplotlib.pyplot as plt\n",
        "from IPython.display import clear_output\n",
        "import time"
      ]
    },
    {
      "cell_type": "code",
      "source": [
        "G = (lambda x,y: x**3 - 3*x*y - 1, \\\n",
        "     lambda x,y: 3*x**2*y -y**3)"
      ],
      "metadata": {
        "id": "eAuNItJbNe6w"
      },
      "execution_count": 9,
      "outputs": []
    },
    {
      "cell_type": "code",
      "source": [
        "def GetVectorF(G,r):\n",
        "\n",
        "    v = np.zeros(len(G))\n",
        "    for i in range(v.shape[0]):\n",
        "        v[i] = G[i](r[0],r[1])\n",
        "\n",
        "    return v"
      ],
      "metadata": {
        "id": "30BVseLzNkdD"
      },
      "execution_count": 23,
      "outputs": []
    },
    {
      "cell_type": "code",
      "source": [
        "GetVectorF(G,np.array([1,0]))"
      ],
      "metadata": {
        "colab": {
          "base_uri": "https://localhost:8080/"
        },
        "id": "prVjQsJfOANT",
        "outputId": "973ac104-aef1-4232-b951-23db3d3f02da"
      },
      "execution_count": 24,
      "outputs": [
        {
          "output_type": "execute_result",
          "data": {
            "text/plain": [
              "array([0., 0.])"
            ]
          },
          "metadata": {},
          "execution_count": 24
        }
      ]
    },
    {
      "cell_type": "code",
      "source": [
        "def GetJacobian(G,r,h=1e-4):\n",
        "\n",
        "    J = np.zeros((r.shape[0],r.shape[0]))\n",
        "\n",
        "    for i in range(r.shape[0]):\n",
        "        J[i,0] = (G[i](r[0]+h,r[1]) - G[i](r[0]-h,r[1]))/(2*h)\n",
        "        J[i,1] = (G[i](r[0],r[1]+h) - G[i](r[0],r[1]-h))/(2*h)\n",
        "\n",
        "\n",
        "    return J"
      ],
      "metadata": {
        "id": "KXpqJO1QOEDB"
      },
      "execution_count": 25,
      "outputs": []
    },
    {
      "cell_type": "code",
      "source": [
        "GetJacobian(G,np.array([1,2]))"
      ],
      "metadata": {
        "colab": {
          "base_uri": "https://localhost:8080/"
        },
        "id": "xvK7hn-Wsr-4",
        "outputId": "84e0bdc9-367b-4570-b1e0-6b5ff8a02ad6"
      },
      "execution_count": 26,
      "outputs": [
        {
          "output_type": "execute_result",
          "data": {
            "text/plain": [
              "array([[-2.99999999, -3.        ],\n",
              "       [12.        , -9.00000001]])"
            ]
          },
          "metadata": {},
          "execution_count": 26
        }
      ]
    },
    {
      "cell_type": "code",
      "source": [
        "def Metric(G,r):\n",
        "  return 0.5*np.linalg.norm(GetVectorF(G,r))"
      ],
      "metadata": {
        "id": "ufjiH-P1uE_H"
      },
      "execution_count": 27,
      "outputs": []
    },
    {
      "cell_type": "code",
      "source": [
        "Metric(G,np.array([1,0]))"
      ],
      "metadata": {
        "colab": {
          "base_uri": "https://localhost:8080/"
        },
        "id": "pBBkbYLIuLJp",
        "outputId": "8259c627-1165-47e2-db01-76ef3542f5a5"
      },
      "execution_count": 28,
      "outputs": [
        {
          "output_type": "execute_result",
          "data": {
            "text/plain": [
              "np.float64(0.0)"
            ]
          },
          "metadata": {},
          "execution_count": 28
        }
      ]
    },
    {
      "cell_type": "code",
      "source": [
        "def GetFig(R,W,it):\n",
        "\n",
        "  fig = plt.figure(figsize=(6,4))\n",
        "  ax = fig.add_subplot(1,2,1)\n",
        "  ax1 = fig.add_subplot(1,2,2)\n",
        "\n",
        "  ax.plot(R[:it])\n",
        "  ax1.plot(W[:it])\n",
        "\n",
        "  return ax,ax1"
      ],
      "metadata": {
        "id": "Hnl0drnLs365"
      },
      "execution_count": 17,
      "outputs": []
    },
    {
      "cell_type": "code",
      "source": [
        "GetFig(np.array([1,2]),np.array([1,2]),2)"
      ],
      "metadata": {
        "colab": {
          "base_uri": "https://localhost:8080/",
          "height": 385
        },
        "id": "NwRvSj3GtVFN",
        "outputId": "b027b84d-b369-4eef-c562-bb56a2d0558a"
      },
      "execution_count": 18,
      "outputs": [
        {
          "output_type": "execute_result",
          "data": {
            "text/plain": [
              "(<Axes: >, <Axes: >)"
            ]
          },
          "metadata": {},
          "execution_count": 18
        },
        {
          "output_type": "display_data",
          "data": {
            "text/plain": [
              "<Figure size 600x400 with 2 Axes>"
            ],
            "image/png": "[encoded data removed]"
          },
          "metadata": {}
        }
      ]
    },
    {
      "cell_type": "code",
      "source": [
        "def Minimizer(G,r,lr=0.01,epochs=int(1e3),error=1e-4):\n",
        "\n",
        "  metric = 1\n",
        "  it = 0\n",
        "\n",
        "  R = np.array([r])\n",
        "  M = np.array([])\n",
        "\n",
        "  while metric > error and it < epochs:\n",
        "\n",
        "    # Metric\n",
        "    M = np.append(M,Metric(G,r))\n",
        "\n",
        "    # Gradient\n",
        "    J = GetJacobian(G,r)\n",
        "    Vector = GetVectorF(G,r)\n",
        "\n",
        "    # Gradient descent\n",
        "    r -= lr*np.dot(J.T,Vector)\n",
        "    #print(R)\n",
        "\n",
        "    R = np.vstack((R,r))\n",
        "\n",
        "\n",
        "    clear_output(wait=True)\n",
        "    ax,ax1 = GetFig(R,M,it)\n",
        "\n",
        "    plt.show()\n",
        "\n",
        "    it += 1\n",
        "\n",
        "  return r\n",
        "\n",
        "\n",
        "\n"
      ],
      "metadata": {
        "id": "_ZJJbV8BtYv3"
      },
      "execution_count": 29,
      "outputs": []
    },
    {
      "cell_type": "code",
      "source": [
        "xsol = Minimizer(G,np.array([-2.,1.]))"
      ],
      "metadata": {
        "colab": {
          "base_uri": "https://localhost:8080/",
          "height": 368
        },
        "id": "82HrczDivUYu",
        "outputId": "9309682f-7ce8-4224-e274-fdfabb7f8813"
      },
      "execution_count": 31,
      "outputs": [
        {
          "output_type": "display_data",
          "data": {
            "text/plain": [
              "<Figure size 600x400 with 2 Axes>"
            ],
            "image/png": "[encoded data removed]"
          },
          "metadata": {}
        }
      ]
    },
    {
      "cell_type": "code",
      "source": [],
      "metadata": {
        "id": "YpHrAff5vbrU"
      },
      "execution_count": null,
      "outputs": []
    }
  ]
}