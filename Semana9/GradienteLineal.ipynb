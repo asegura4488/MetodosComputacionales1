{
  "nbformat": 4,
  "nbformat_minor": 0,
  "metadata": {
    "colab": {
      "provenance": [],
      "authorship_tag": "ABX9TyPBLbOIpLPW5hbYliXOOwi4",
      "include_colab_link": true
    },
    "kernelspec": {
      "name": "python3",
      "display_name": "Python 3"
    },
    "language_info": {
      "name": "python"
    }
  },
  "cells": [
    {
      "cell_type": "markdown",
      "metadata": {
        "id": "view-in-github",
        "colab_type": "text"
      },
      "source": [
        "<a href=\"https://colab.research.google.com/github/asegura4488/MetodosComputacionales1/blob/main/Semana9/GradienteLineal.ipynb\" target=\"_parent\"><img src=\"https://colab.research.google.com/assets/colab-badge.svg\" alt=\"Open In Colab\"/></a>"
      ]
    },
    {
      "cell_type": "code",
      "execution_count": 7,
      "metadata": {
        "id": "fyIKDyj5M5jx"
      },
      "outputs": [],
      "source": [
        "import numpy as np\n",
        "import matplotlib.pyplot as plt\n",
        "from IPython.display import clear_output\n",
        "import time"
      ]
    },
    {
      "cell_type": "code",
      "source": [
        "G = (lambda x,y,z: 3*x - y - z - 1, \\\n",
        "     lambda x,y,z: -x + 3*y + z - 3, \\\n",
        "     lambda x,y,z: 2*x + y + 4*z - 7 )"
      ],
      "metadata": {
        "id": "eAuNItJbNe6w"
      },
      "execution_count": 8,
      "outputs": []
    },
    {
      "cell_type": "code",
      "source": [
        "def GetVectorF(G,r):\n",
        "\n",
        "    v = np.zeros(len(G))\n",
        "    for i in range(v.shape[0]):\n",
        "        v[i] = G[i](r[0],r[1],r[2])\n",
        "\n",
        "    return v"
      ],
      "metadata": {
        "id": "30BVseLzNkdD"
      },
      "execution_count": 9,
      "outputs": []
    },
    {
      "cell_type": "code",
      "source": [
        "GetVectorF(G,np.array([1,3,1]))"
      ],
      "metadata": {
        "colab": {
          "base_uri": "https://localhost:8080/"
        },
        "id": "prVjQsJfOANT",
        "outputId": "74ff87eb-a1de-4975-ac49-aa6db8cf7c9e"
      },
      "execution_count": 10,
      "outputs": [
        {
          "output_type": "execute_result",
          "data": {
            "text/plain": [
              "array([-2.,  6.,  2.])"
            ]
          },
          "metadata": {},
          "execution_count": 10
        }
      ]
    },
    {
      "cell_type": "code",
      "source": [
        "def GetJacobian(G,r,h=1e-4):\n",
        "\n",
        "    J = np.zeros((r.shape[0],r.shape[0]))\n",
        "\n",
        "    for i in range(r.shape[0]):\n",
        "        J[i,0] = (G[i](r[0]+h,r[1],r[2]) - G[i](r[0]-h,r[1],r[2]))/(2*h)\n",
        "        J[i,1] = (G[i](r[0],r[1]+h,r[2]) - G[i](r[0],r[1]-h,r[2]))/(2*h)\n",
        "        J[i,2] = (G[i](r[0],r[1],r[2]+h) - G[i](r[0],r[1],r[2]-h))/(2*h)\n",
        "\n",
        "\n",
        "    return J"
      ],
      "metadata": {
        "id": "KXpqJO1QOEDB"
      },
      "execution_count": 11,
      "outputs": []
    },
    {
      "cell_type": "code",
      "source": [
        "GetJacobian(G,np.array([1,1,1]))"
      ],
      "metadata": {
        "colab": {
          "base_uri": "https://localhost:8080/"
        },
        "id": "xvK7hn-Wsr-4",
        "outputId": "3572daf9-240f-4fa6-b39c-66566d388f01"
      },
      "execution_count": 26,
      "outputs": [
        {
          "output_type": "execute_result",
          "data": {
            "text/plain": [
              "array([[ 3., -1., -1.],\n",
              "       [-1.,  3.,  1.],\n",
              "       [ 2.,  1.,  4.]])"
            ]
          },
          "metadata": {},
          "execution_count": 26
        }
      ]
    },
    {
      "cell_type": "code",
      "source": [
        "def Metric(G,r):\n",
        "  return 0.5*np.linalg.norm(GetVectorF(G,r))"
      ],
      "metadata": {
        "id": "ufjiH-P1uE_H"
      },
      "execution_count": 27,
      "outputs": []
    },
    {
      "cell_type": "code",
      "source": [
        "Metric(G,np.array([1,1,1]))"
      ],
      "metadata": {
        "colab": {
          "base_uri": "https://localhost:8080/"
        },
        "id": "pBBkbYLIuLJp",
        "outputId": "21b25136-1ec6-432f-dbe6-aa02733c6961"
      },
      "execution_count": 28,
      "outputs": [
        {
          "output_type": "execute_result",
          "data": {
            "text/plain": [
              "np.float64(0.0)"
            ]
          },
          "metadata": {},
          "execution_count": 28
        }
      ]
    },
    {
      "cell_type": "code",
      "source": [
        "def GetFig(R,W,it):\n",
        "\n",
        "  fig = plt.figure(figsize=(6,4))\n",
        "  ax = fig.add_subplot(1,2,1)\n",
        "\n",
        "  ax.plot(R[:it])\n",
        "\n",
        "  return ax"
      ],
      "metadata": {
        "id": "Hnl0drnLs365"
      },
      "execution_count": 29,
      "outputs": []
    },
    {
      "cell_type": "code",
      "source": [
        "GetFig(np.array([1,2,3]),np.array([1,2,3]),2)"
      ],
      "metadata": {
        "colab": {
          "base_uri": "https://localhost:8080/",
          "height": 385
        },
        "id": "NwRvSj3GtVFN",
        "outputId": "428ee342-ace2-4778-f133-a829c50fd114"
      },
      "execution_count": 30,
      "outputs": [
        {
          "output_type": "execute_result",
          "data": {
            "text/plain": [
              "<Axes: >"
            ]
          },
          "metadata": {},
          "execution_count": 30
        },
        {
          "output_type": "display_data",
          "data": {
            "text/plain": [
              "<Figure size 600x400 with 1 Axes>"
            ],
            "image/png": "[encoded data removed]"
          },
          "metadata": {}
        }
      ]
    },
    {
      "cell_type": "code",
      "source": [
        "def Minimizer(G,r,lr=0.01,epochs=int(1e3),error=1e-4):\n",
        "\n",
        "  metric = 1\n",
        "  it = 0\n",
        "\n",
        "  R = np.array([r])\n",
        "\n",
        "  while metric > error and it < epochs:\n",
        "\n",
        ""
      ],
      "metadata": {
        "id": "_ZJJbV8BtYv3"
      },
      "execution_count": null,
      "outputs": []
    }
  ]
}