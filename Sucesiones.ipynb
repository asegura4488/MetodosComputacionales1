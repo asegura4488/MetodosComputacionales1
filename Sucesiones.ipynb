{
  "nbformat": 4,
  "nbformat_minor": 0,
  "metadata": {
    "colab": {
      "provenance": [],
      "authorship_tag": "ABX9TyPXg4lEaliQKK7vq1VjuEGg",
      "include_colab_link": true
    },
    "kernelspec": {
      "name": "python3",
      "display_name": "Python 3"
    },
    "language_info": {
      "name": "python"
    }
  },
  "cells": [
    {
      "cell_type": "markdown",
      "metadata": {
        "id": "view-in-github",
        "colab_type": "text"
      },
      "source": [
        "<a href=\"https://colab.research.google.com/github/asegura4488/MetodosComputacionales1/blob/main/Sucesiones.ipynb\" target=\"_parent\"><img src=\"https://colab.research.google.com/assets/colab-badge.svg\" alt=\"Open In Colab\"/></a>"
      ]
    },
    {
      "cell_type": "code",
      "execution_count": 1,
      "metadata": {
        "id": "Qkt-L82WN_xX"
      },
      "outputs": [],
      "source": [
        "import numpy as np\n",
        "import matplotlib.pyplot as plt"
      ]
    },
    {
      "cell_type": "code",
      "source": [
        "\n",
        "\n",
        "f = []\n",
        "f.append(0)\n",
        "f.append(1)\n",
        "\n",
        "for i in range(6):\n",
        "    f.append(f[i] + f[i+1])\n",
        "\n",
        "print(f)\n",
        ""
      ],
      "metadata": {
        "id": "gihBmSiaOO6R",
        "colab": {
          "base_uri": "https://localhost:8080/"
        },
        "outputId": "9cc1a602-49a7-4121-c170-de324707b0f9"
      },
      "execution_count": 2,
      "outputs": [
        {
          "output_type": "stream",
          "name": "stdout",
          "text": [
            "[0, 1, 1, 2, 3, 5, 8, 13]\n"
          ]
        }
      ]
    },
    {
      "cell_type": "code",
      "source": [
        "np.sqrt(2)"
      ],
      "metadata": {
        "colab": {
          "base_uri": "https://localhost:8080/"
        },
        "id": "AolyF8-6jay3",
        "outputId": "9f185d9c-8893-4843-856f-fff00e29480e"
      },
      "execution_count": 3,
      "outputs": [
        {
          "output_type": "execute_result",
          "data": {
            "text/plain": [
              "1.4142135623730951"
            ]
          },
          "metadata": {},
          "execution_count": 3
        }
      ]
    },
    {
      "cell_type": "code",
      "source": [
        "x = 2\n",
        "f = x\n",
        "f = 0.5*( 2/f + f )\n",
        "f"
      ],
      "metadata": {
        "colab": {
          "base_uri": "https://localhost:8080/"
        },
        "id": "YJe2wV1LjdII",
        "outputId": "c959d16d-87d2-4ec9-e102-cbe63b1ede22"
      },
      "execution_count": 4,
      "outputs": [
        {
          "output_type": "execute_result",
          "data": {
            "text/plain": [
              "1.5"
            ]
          },
          "metadata": {},
          "execution_count": 4
        }
      ]
    },
    {
      "cell_type": "code",
      "source": [
        "f = 0.5*( 2/f + f )\n",
        "f"
      ],
      "metadata": {
        "colab": {
          "base_uri": "https://localhost:8080/"
        },
        "id": "Z2qEYEbUje6c",
        "outputId": "57ad77db-e55b-4385-ee32-cc381336e4b6"
      },
      "execution_count": 5,
      "outputs": [
        {
          "output_type": "execute_result",
          "data": {
            "text/plain": [
              "1.4166666666666665"
            ]
          },
          "metadata": {},
          "execution_count": 5
        }
      ]
    },
    {
      "cell_type": "code",
      "source": [
        "f = 0.5*( 2/f + f )\n",
        "f"
      ],
      "metadata": {
        "colab": {
          "base_uri": "https://localhost:8080/"
        },
        "id": "GwqxkNodjg3j",
        "outputId": "5bbe35c3-3d5c-4e74-fb23-4534929713d7"
      },
      "execution_count": 6,
      "outputs": [
        {
          "output_type": "execute_result",
          "data": {
            "text/plain": [
              "1.4142156862745097"
            ]
          },
          "metadata": {},
          "execution_count": 6
        }
      ]
    },
    {
      "cell_type": "code",
      "source": [
        "np.abs(np.sqrt(2) - f)"
      ],
      "metadata": {
        "colab": {
          "base_uri": "https://localhost:8080/"
        },
        "id": "xLB_bh8Zjicp",
        "outputId": "ae0ac466-eb44-40e7-b599-e06490c9c51d"
      },
      "execution_count": 7,
      "outputs": [
        {
          "output_type": "execute_result",
          "data": {
            "text/plain": [
              "2.123901414519125e-06"
            ]
          },
          "metadata": {},
          "execution_count": 7
        }
      ]
    },
    {
      "cell_type": "code",
      "source": [
        "def Babilonico(x = 2, N = 5):\n",
        "\n",
        "  History = []\n",
        "\n",
        "  f = x\n",
        "  for i in range(N):\n",
        "    f = 0.5*( x/f + f )\n",
        "    History.append(f)\n",
        "\n",
        "  return History"
      ],
      "metadata": {
        "id": "g_8NIC6gjlmp"
      },
      "execution_count": 8,
      "outputs": []
    },
    {
      "cell_type": "code",
      "source": [
        "Babilonico()"
      ],
      "metadata": {
        "colab": {
          "base_uri": "https://localhost:8080/"
        },
        "id": "NcFOiKmljocD",
        "outputId": "ee669b7c-cc1e-467e-ec43-eb948d7555fb"
      },
      "execution_count": 9,
      "outputs": [
        {
          "output_type": "execute_result",
          "data": {
            "text/plain": [
              "[1.5,\n",
              " 1.4166666666666665,\n",
              " 1.4142156862745097,\n",
              " 1.4142135623746899,\n",
              " 1.414213562373095]"
            ]
          },
          "metadata": {},
          "execution_count": 9
        }
      ]
    },
    {
      "cell_type": "code",
      "source": [
        "def Babilonico2(x = 2, epsilon = 1e-10):\n",
        "\n",
        "  History = []\n",
        "\n",
        "  f = x\n",
        "  while True:\n",
        "    f_new = 0.5*( x/f + f )\n",
        "    History.append(f_new)\n",
        "    if np.abs(f_new - f) < epsilon:\n",
        "      break\n",
        "    f = f_new\n",
        "\n",
        "  return History, len(History)"
      ],
      "metadata": {
        "id": "s8rvck5-jqVb"
      },
      "execution_count": 15,
      "outputs": []
    },
    {
      "cell_type": "code",
      "source": [
        "Raices,_ = Babilonico2()"
      ],
      "metadata": {
        "id": "2xLN7Vw2jsop"
      },
      "execution_count": 16,
      "outputs": []
    },
    {
      "cell_type": "code",
      "source": [
        "Raices"
      ],
      "metadata": {
        "colab": {
          "base_uri": "https://localhost:8080/"
        },
        "id": "P3F4obyejudK",
        "outputId": "3dbd7a68-62a8-4a04-c5c9-05806798c04d"
      },
      "execution_count": 17,
      "outputs": [
        {
          "output_type": "execute_result",
          "data": {
            "text/plain": [
              "[1.5,\n",
              " 1.4166666666666665,\n",
              " 1.4142156862745097,\n",
              " 1.4142135623746899,\n",
              " 1.414213562373095]"
            ]
          },
          "metadata": {},
          "execution_count": 17
        }
      ]
    },
    {
      "cell_type": "code",
      "source": [
        "n = [i+1 for i in range(len(Raices))]\n",
        "n"
      ],
      "metadata": {
        "colab": {
          "base_uri": "https://localhost:8080/"
        },
        "id": "uav8NFhDjwnz",
        "outputId": "65d9e305-3dca-4d38-abac-a0f3913b3513"
      },
      "execution_count": 18,
      "outputs": [
        {
          "output_type": "execute_result",
          "data": {
            "text/plain": [
              "[1, 2, 3, 4, 5]"
            ]
          },
          "metadata": {},
          "execution_count": 18
        }
      ]
    },
    {
      "cell_type": "code",
      "source": [
        "plt.scatter(n,Raices)\n",
        "plt.xlabel('n')\n",
        "plt.ylabel(r'$\\sqrt{x}$')\n",
        "plt.axhline(y=np.sqrt(2),color='r')"
      ],
      "metadata": {
        "colab": {
          "base_uri": "https://localhost:8080/",
          "height": 466
        },
        "id": "4_nW40WRjykp",
        "outputId": "28595cfa-0ece-4a43-fa32-ed6834b4ed6b"
      },
      "execution_count": 19,
      "outputs": [
        {
          "output_type": "execute_result",
          "data": {
            "text/plain": [
              "<matplotlib.lines.Line2D at 0x7fb731cfe350>"
            ]
          },
          "metadata": {},
          "execution_count": 19
        },
        {
          "output_type": "display_data",
          "data": {
            "text/plain": [
              "<Figure size 640x480 with 1 Axes>"
            ],
            "image/png": "[encoded data removed]"
          },
          "metadata": {}
        }
      ]
    },
    {
      "cell_type": "code",
      "source": [
        "# Usemos elementos de numpy\n",
        "scan = np.logspace(1,6,500)\n",
        "time = np.zeros_like(scan)\n",
        "for i in range(len(scan)):\n",
        "  _ , n_iter = Babilonico2(scan[i])\n",
        "  time[i] = n_iter"
      ],
      "metadata": {
        "id": "-8R9lpeyj28C"
      },
      "execution_count": 35,
      "outputs": []
    },
    {
      "cell_type": "code",
      "source": [
        "plt.scatter(scan,time)"
      ],
      "metadata": {
        "colab": {
          "base_uri": "https://localhost:8080/",
          "height": 465
        },
        "id": "QsyO7QOskWH-",
        "outputId": "2e94b647-9cc5-4a9c-acfb-13c15020710a"
      },
      "execution_count": 36,
      "outputs": [
        {
          "output_type": "execute_result",
          "data": {
            "text/plain": [
              "<matplotlib.collections.PathCollection at 0x7fb731233690>"
            ]
          },
          "metadata": {},
          "execution_count": 36
        },
        {
          "output_type": "display_data",
          "data": {
            "text/plain": [
              "<Figure size 640x480 with 1 Axes>"
            ],
            "image/png": "[encoded data removed]"
          },
          "metadata": {}
        }
      ]
    },
    {
      "cell_type": "code",
      "source": [],
      "metadata": {
        "id": "TqytkRp6kiil"
      },
      "execution_count": null,
      "outputs": []
    }
  ]
}