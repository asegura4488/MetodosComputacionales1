{
  "nbformat": 4,
  "nbformat_minor": 0,
  "metadata": {
    "colab": {
      "provenance": [],
      "authorship_tag": "ABX9TyOvnXicWaEviJhiF1rJdSzy",
      "include_colab_link": true
    },
    "kernelspec": {
      "name": "python3",
      "display_name": "Python 3"
    },
    "language_info": {
      "name": "python"
    }
  },
  "cells": [
    {
      "cell_type": "markdown",
      "metadata": {
        "id": "view-in-github",
        "colab_type": "text"
      },
      "source": [
        "<a href=\"https://colab.research.google.com/github/asegura4488/MetodosComputacionales1/blob/main/Semana13/Neurona.ipynb\" target=\"_parent\"><img src=\"https://colab.research.google.com/assets/colab-badge.svg\" alt=\"Open In Colab\"/></a>"
      ]
    },
    {
      "cell_type": "code",
      "execution_count": 1,
      "metadata": {
        "id": "lk6_18FGDmUX"
      },
      "outputs": [],
      "source": [
        "import numpy as np\n",
        "import matplotlib.pyplot as plt\n",
        "from IPython.display import clear_output\n",
        "import time"
      ]
    },
    {
      "cell_type": "code",
      "source": [
        "sigm = lambda x: 1/(1+np.exp(-x))"
      ],
      "metadata": {
        "id": "wzNx_FBJDyxX"
      },
      "execution_count": 2,
      "outputs": []
    },
    {
      "cell_type": "code",
      "source": [
        "x = np.linspace(-5,5,100)\n",
        "y = sigm(x)\n",
        "plt.plot(x,y)"
      ],
      "metadata": {
        "colab": {
          "base_uri": "https://localhost:8080/",
          "height": 447
        },
        "id": "VUAufUpwD2Am",
        "outputId": "32f4a828-b86c-436f-ef8c-b206ab5c9949"
      },
      "execution_count": 3,
      "outputs": [
        {
          "output_type": "execute_result",
          "data": {
            "text/plain": [
              "[<matplotlib.lines.Line2D at 0x7e1b21d10390>]"
            ]
          },
          "metadata": {},
          "execution_count": 3
        },
        {
          "output_type": "display_data",
          "data": {
            "text/plain": [
              "<Figure size 640x480 with 1 Axes>"
            ],
            "image/png": "[encoded data removed]"
          },
          "metadata": {}
        }
      ]
    },
    {
      "cell_type": "code",
      "source": [
        "class Layers:\n",
        "\n",
        "  def __init__(self, NC, NN, ActFunc, rate= 0.1):\n",
        "\n",
        "    self.NC = NC\n",
        "    self.NN = NN\n",
        "    self.ActFun = ActFunc\n",
        "    self.rate = rate\n",
        "\n",
        "    self.W = np.random.uniform(-10,10,size=(self.NC,self.NN))\n",
        "    self.b = np.random.uniform(-10,10,size=(1,self.NN))\n",
        "\n",
        "  def Activation(self,x):\n",
        "    z = np.dot(x,self.W) + self.b\n",
        "    return self.ActFun(z)[0]\n",
        "\n",
        "  def Mutate(self):\n",
        "    self.W += np.random.normal(loc=0,scale=self.rate,size=(self.NC,self.NN))\n",
        "    self.b += np.random.normal(loc=0,scale=self.rate,size=(1,self.NN))\n",
        "\n"
      ],
      "metadata": {
        "id": "XsaCj1XqD5PV"
      },
      "execution_count": 48,
      "outputs": []
    },
    {
      "cell_type": "markdown",
      "source": [],
      "metadata": {
        "id": "kVlDyiv3pp-v"
      }
    },
    {
      "cell_type": "code",
      "source": [
        "l0 = Layers(2,3,sigm)\n",
        "l0"
      ],
      "metadata": {
        "colab": {
          "base_uri": "https://localhost:8080/"
        },
        "id": "IU6ieBhHpZWp",
        "outputId": "fb94d654-ae79-49c3-a159-cc588e0bff0c"
      },
      "execution_count": 49,
      "outputs": [
        {
          "output_type": "execute_result",
          "data": {
            "text/plain": [
              "<__main__.Layers at 0x7e1aee24a290>"
            ]
          },
          "metadata": {},
          "execution_count": 49
        }
      ]
    },
    {
      "cell_type": "code",
      "source": [
        "l0.W"
      ],
      "metadata": {
        "colab": {
          "base_uri": "https://localhost:8080/"
        },
        "id": "cmEKfWnqpgYI",
        "outputId": "1c6eef5d-79eb-4cdd-be59-d7969e5af035"
      },
      "execution_count": 50,
      "outputs": [
        {
          "output_type": "execute_result",
          "data": {
            "text/plain": [
              "array([[ 0.64292213, -2.91897407,  9.37181602],\n",
              "       [ 1.55579259, -8.71765377, -6.79789304]])"
            ]
          },
          "metadata": {},
          "execution_count": 50
        }
      ]
    },
    {
      "cell_type": "code",
      "source": [
        "l0.b"
      ],
      "metadata": {
        "colab": {
          "base_uri": "https://localhost:8080/"
        },
        "id": "0YA0_D1_phe2",
        "outputId": "f7cfcc96-5578-49a7-e3f7-1ca7ce3bd090"
      },
      "execution_count": 51,
      "outputs": [
        {
          "output_type": "execute_result",
          "data": {
            "text/plain": [
              "array([[ 4.13878244, -5.07219895,  7.62554822]])"
            ]
          },
          "metadata": {},
          "execution_count": 51
        }
      ]
    },
    {
      "cell_type": "code",
      "source": [
        "l0.Mutate()"
      ],
      "metadata": {
        "id": "Fh3p8f4UpoG5"
      },
      "execution_count": 52,
      "outputs": []
    },
    {
      "cell_type": "code",
      "source": [
        "l0.W"
      ],
      "metadata": {
        "colab": {
          "base_uri": "https://localhost:8080/"
        },
        "id": "p4GeVq6mrEQ_",
        "outputId": "66d0a645-0801-4937-9df4-5f9c09ec3291"
      },
      "execution_count": 53,
      "outputs": [
        {
          "output_type": "execute_result",
          "data": {
            "text/plain": [
              "array([[ 0.64774096, -2.78480115,  9.29160717],\n",
              "       [ 1.580063  , -8.76364839, -6.73205195]])"
            ]
          },
          "metadata": {},
          "execution_count": 53
        }
      ]
    },
    {
      "cell_type": "code",
      "source": [
        "def GetBrain():\n",
        "  l0 = Layers(1,4,sigm)\n",
        "  l1 = Layers(4,2,sigm)\n",
        "\n",
        "  return [l0,l1]"
      ],
      "metadata": {
        "id": "nAoSyo2arF4V"
      },
      "execution_count": 74,
      "outputs": []
    },
    {
      "cell_type": "code",
      "source": [
        "Brain = GetBrain()\n",
        "Brain"
      ],
      "metadata": {
        "colab": {
          "base_uri": "https://localhost:8080/"
        },
        "id": "aEUgtX11vLNf",
        "outputId": "52344eca-3a4f-47cc-961b-d6a7a0704f78"
      },
      "execution_count": 75,
      "outputs": [
        {
          "output_type": "execute_result",
          "data": {
            "text/plain": [
              "[<__main__.Layers at 0x7e1aee8f8110>, <__main__.Layers at 0x7e1aedbd1c10>]"
            ]
          },
          "metadata": {},
          "execution_count": 75
        }
      ]
    },
    {
      "cell_type": "code",
      "source": [
        "def BrainActivation(Brain,x):\n",
        "\n",
        "  for i in range(len(Brain)):\n",
        "    if i == 0:\n",
        "      output =  Brain[i].Activation(x)\n",
        "    else:\n",
        "      output = Brain[i].Activation(output)\n",
        "\n",
        "  return output"
      ],
      "metadata": {
        "id": "PwjdJBqUrzj7"
      },
      "execution_count": 76,
      "outputs": []
    },
    {
      "cell_type": "code",
      "source": [
        "BrainActivation(GetBrain(),np.array([1]))"
      ],
      "metadata": {
        "colab": {
          "base_uri": "https://localhost:8080/"
        },
        "id": "F3Dl8QsPsbqW",
        "outputId": "905c94ae-e402-4aad-e662-44b746b935e2"
      },
      "execution_count": 78,
      "outputs": [
        {
          "output_type": "execute_result",
          "data": {
            "text/plain": [
              "array([9.99999362e-01, 1.14262392e-04])"
            ]
          },
          "metadata": {},
          "execution_count": 78
        }
      ]
    },
    {
      "cell_type": "code",
      "source": [
        "def BrainMutate(Brain):\n",
        "  for i in range(len(Brain)):\n",
        "    Brain[i].Mutate()\n",
        "  return Brain"
      ],
      "metadata": {
        "id": "Kev4GJzvv2QA"
      },
      "execution_count": 79,
      "outputs": []
    },
    {
      "cell_type": "code",
      "source": [
        "def GetPlot():\n",
        "\n",
        "  fig = plt.figure(figsize=(8,5))\n",
        "  ax1 = fig.add_subplot(121)\n",
        "  ax2 = fig.add_subplot(122)\n",
        "\n",
        "  return ax1,ax2\n",
        "\n",
        "  return fig,ax1,ax2"
      ],
      "metadata": {
        "id": "3XQWR2eXslUe"
      },
      "execution_count": 83,
      "outputs": []
    },
    {
      "cell_type": "code",
      "source": [
        "GetPlot()"
      ],
      "metadata": {
        "colab": {
          "base_uri": "https://localhost:8080/",
          "height": 468
        },
        "id": "nMKy2W1XtPkV",
        "outputId": "82a08d99-eb72-4c38-b7be-32f1fccda8d0"
      },
      "execution_count": 84,
      "outputs": [
        {
          "output_type": "execute_result",
          "data": {
            "text/plain": [
              "(<Axes: >, <Axes: >)"
            ]
          },
          "metadata": {},
          "execution_count": 84
        },
        {
          "output_type": "display_data",
          "data": {
            "text/plain": [
              "<Figure size 800x500 with 2 Axes>"
            ],
            "image/png": "[encoded data removed]"
          },
          "metadata": {}
        }
      ]
    },
    {
      "cell_type": "code",
      "source": [
        "def Genetic(Brain,epochs=50):\n",
        "\n",
        "  n = 20\n",
        "  x = np.linspace(-1,1,n)\n",
        "  y = np.linspace(-1,1,n)\n",
        "  X,Y = np.meshgrid(x,y)\n",
        "  N = np.zeros((2,5))\n",
        "\n",
        "  for e in range(epochs):\n",
        "\n",
        "    clear_output(wait=True)\n",
        "    print(f'Epoch: {e}')\n",
        "\n",
        "    Brain = BrainMutate(Brain)\n",
        "\n",
        "    x = np.linspace(0,2,5)\n",
        "    y = np.zeros((5,2))\n",
        "    y[0,:] = np.array([1,0])\n",
        "    y[1,:] = np.array([0,1])\n",
        "    y[2,:] = np.array([1,0])\n",
        "    y[3,:] = np.array([0,1])\n",
        "    y[4,:] = np.array([1,0])\n",
        "\n",
        "    for i in range(5):\n",
        "      N[0,i] = BrainActivation(Brain,np.array([x[i]]))[0]\n",
        "      N[1,i] = BrainActivation(Brain,np.array([x[i]]))[1]\n",
        "\n",
        "    #for i in range(n):\n",
        "    #  for j in range(n):\n",
        "    #    N[0,i,j] = BrainActivation(Brain,np.array([x[i],y[j]]))[0]\n",
        "    #    N[1,i,j] = BrainActivation(Brain,np.array([x[i],y[j]]))[1]\n",
        "\n",
        "    ax1,ax2 = GetPlot()\n",
        "    ax1.plot(x,N[0,:])\n",
        "    ax1.plot(x,N[1,:])\n",
        "    #ax1.plot_surface(X,Y,N[0,:,:],cmap='viridis')\n",
        "    #ax2.plot_surface(X,Y,N[1,:,:],cmap='viridis')\n",
        "    plt.show()\n",
        "    time.sleep(0.1)"
      ],
      "metadata": {
        "id": "zsM7QvoGtQd_"
      },
      "execution_count": 90,
      "outputs": []
    },
    {
      "cell_type": "code",
      "source": [
        "Genetic(Brain)"
      ],
      "metadata": {
        "colab": {
          "base_uri": "https://localhost:8080/",
          "height": 468
        },
        "id": "Qps1p2Euug3w",
        "outputId": "0392cde7-86e6-4e70-f255-d9a209a397e8"
      },
      "execution_count": 91,
      "outputs": [
        {
          "output_type": "stream",
          "name": "stdout",
          "text": [
            "Epoch: 49\n"
          ]
        },
        {
          "output_type": "display_data",
          "data": {
            "text/plain": [
              "<Figure size 800x500 with 2 Axes>"
            ],
            "image/png": "[encoded data removed]"
          },
          "metadata": {}
        }
      ]
    },
    {
      "cell_type": "code",
      "source": [],
      "metadata": {
        "id": "irc-zl52vH2Y"
      },
      "execution_count": null,
      "outputs": []
    }
  ]
}