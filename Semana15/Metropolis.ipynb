{
  "nbformat": 4,
  "nbformat_minor": 0,
  "metadata": {
    "colab": {
      "provenance": [],
      "authorship_tag": "ABX9TyPw9GQIxGJix1Z9D2t1VQYf",
      "include_colab_link": true
    },
    "kernelspec": {
      "name": "python3",
      "display_name": "Python 3"
    },
    "language_info": {
      "name": "python"
    }
  },
  "cells": [
    {
      "cell_type": "markdown",
      "metadata": {
        "id": "view-in-github",
        "colab_type": "text"
      },
      "source": [
        "<a href=\"https://colab.research.google.com/github/asegura4488/MetodosComputacionales1/blob/main/Semana15/Metropolis.ipynb\" target=\"_parent\"><img src=\"https://colab.research.google.com/assets/colab-badge.svg\" alt=\"Open In Colab\"/></a>"
      ]
    },
    {
      "cell_type": "code",
      "execution_count": 2,
      "metadata": {
        "id": "nof_Zf0y0o0o"
      },
      "outputs": [],
      "source": [
        "import numpy as np\n",
        "import matplotlib.pyplot as plt\n",
        "from IPython.display import clear_output\n",
        "from tqdm import tqdm"
      ]
    },
    {
      "cell_type": "code",
      "source": [
        "def GetPlot():\n",
        "\n",
        "  fig = plt.figure(figsize=(15,4))\n",
        "  ax = fig.add_subplot(121)\n",
        "  ax1 = fig.add_subplot(122)\n",
        "\n",
        "  return ax,ax1"
      ],
      "metadata": {
        "id": "jUN51D7p00qE"
      },
      "execution_count": 3,
      "outputs": []
    },
    {
      "cell_type": "code",
      "source": [
        "#GetPlot()"
      ],
      "metadata": {
        "id": "f0Y_zVsr1DHU"
      },
      "execution_count": 5,
      "outputs": []
    },
    {
      "cell_type": "code",
      "source": [
        "def Likelihood(p,x):\n",
        "  mean,std = p\n",
        "  return 1/np.sqrt(2*np.pi*std**2)*np.exp(-(x-mean)**2/(2*std**2))"
      ],
      "metadata": {
        "id": "apFCb7r-1Eud"
      },
      "execution_count": 8,
      "outputs": []
    },
    {
      "cell_type": "code",
      "source": [
        "def Metropolis(Likelihood,p,x0=0,a=1,NSteps=int(100),burned=1000):\n",
        "\n",
        "  x = np.zeros(NSteps)\n",
        "  x[0] = x0\n",
        "\n",
        "  for i in range(NSteps-1):\n",
        "\n",
        "    # Donde estoy?\n",
        "    p0 = Likelihood(x[i],p)\n",
        "\n",
        "    # Doy un paso\n",
        "    xn1 = x[i] + a*np.random.uniform(-1,1)\n",
        "\n",
        "    # A donde me movi?\n",
        "    p1 = Likelihood(xn1,p)\n",
        "\n",
        "    # Probabilidad de aceptacion\n",
        "    alpha = np.minimum(1, p1/p0)\n",
        "\n",
        "    g = np.random.rand()\n",
        "\n",
        "    if g < alpha:\n",
        "      x[i+1] = xn1 # ME muevo\n",
        "    else:\n",
        "      x[i+1] = x[i]\n",
        "\n",
        "\n",
        "  return x"
      ],
      "metadata": {
        "id": "EcGy-Naw1WPx"
      },
      "execution_count": 9,
      "outputs": []
    },
    {
      "cell_type": "code",
      "source": [
        "p0 = np.array([4,2])\n"
      ],
      "metadata": {
        "id": "EH3wjbWu3nep"
      },
      "execution_count": null,
      "outputs": []
    }
  ]
}