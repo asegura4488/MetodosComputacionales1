{
  "nbformat": 4,
  "nbformat_minor": 0,
  "metadata": {
    "colab": {
      "provenance": [],
      "authorship_tag": "ABX9TyOl/3PSZBp0F7JpxY5KP/Dh",
      "include_colab_link": true
    },
    "kernelspec": {
      "name": "python3",
      "display_name": "Python 3"
    },
    "language_info": {
      "name": "python"
    }
  },
  "cells": [
    {
      "cell_type": "markdown",
      "metadata": {
        "id": "view-in-github",
        "colab_type": "text"
      },
      "source": [
        "<a href=\"https://colab.research.google.com/github/asegura4488/MetodosComputacionales1/blob/main/Semana15/Metropolis.ipynb\" target=\"_parent\"><img src=\"https://colab.research.google.com/assets/colab-badge.svg\" alt=\"Open In Colab\"/></a>"
      ]
    },
    {
      "cell_type": "code",
      "execution_count": 2,
      "metadata": {
        "id": "nof_Zf0y0o0o"
      },
      "outputs": [],
      "source": [
        "import numpy as np\n",
        "import matplotlib.pyplot as plt\n",
        "from IPython.display import clear_output\n",
        "from tqdm import tqdm"
      ]
    },
    {
      "cell_type": "code",
      "source": [
        "def GetPlot():\n",
        "\n",
        "  fig = plt.figure(figsize=(15,4))\n",
        "  ax = fig.add_subplot(121)\n",
        "  ax1 = fig.add_subplot(122)\n",
        "\n",
        "  return ax,ax1"
      ],
      "metadata": {
        "id": "jUN51D7p00qE"
      },
      "execution_count": 3,
      "outputs": []
    },
    {
      "cell_type": "code",
      "source": [
        "#GetPlot()"
      ],
      "metadata": {
        "id": "f0Y_zVsr1DHU"
      },
      "execution_count": 5,
      "outputs": []
    },
    {
      "cell_type": "code",
      "source": [
        "def Likelihood(x,p):\n",
        "  mean,std = p\n",
        "  return 1/np.sqrt(2*np.pi*std**2)*np.exp(-(x-mean)**2/(2*std**2))"
      ],
      "metadata": {
        "id": "apFCb7r-1Eud"
      },
      "execution_count": 11,
      "outputs": []
    },
    {
      "cell_type": "code",
      "source": [
        "def Metropolis(Likelihood,p,x0=0,a=1,NSteps=int(100),burned=1000):\n",
        "\n",
        "  x = np.zeros(NSteps)\n",
        "  x[0] = x0\n",
        "\n",
        "  for i in range(NSteps-1):\n",
        "\n",
        "    # Donde estoy?\n",
        "    p0 = Likelihood(x[i],p)\n",
        "\n",
        "    # Doy un paso\n",
        "    xn1 = x[i] + a*np.random.uniform(-1,1)\n",
        "\n",
        "    # A donde me movi?\n",
        "    p1 = Likelihood(xn1,p)\n",
        "\n",
        "    # Probabilidad de aceptacion\n",
        "    alpha = np.minimum(1, p1/p0)\n",
        "\n",
        "    g = np.random.rand()\n",
        "\n",
        "    if g < alpha:\n",
        "      x[i+1] = xn1 # ME muevo\n",
        "    else:\n",
        "      x[i+1] = x[i]\n",
        "\n",
        "\n",
        "  return x"
      ],
      "metadata": {
        "id": "EcGy-Naw1WPx"
      },
      "execution_count": 12,
      "outputs": []
    },
    {
      "cell_type": "code",
      "source": [
        "p0 = np.array([4,2])\n",
        "x = Metropolis(Likelihood,p0,NSteps=100000)"
      ],
      "metadata": {
        "id": "EH3wjbWu3nep"
      },
      "execution_count": 21,
      "outputs": []
    },
    {
      "cell_type": "code",
      "source": [
        "plt.hist(x,bins=50,density=True)\n",
        "_x = np.linspace(-5,10,10)\n",
        "_like = Likelihood(_x,p0)\n",
        "plt.plot(_x,_like)"
      ],
      "metadata": {
        "colab": {
          "base_uri": "https://localhost:8080/",
          "height": 447
        },
        "id": "ip7up2Jd4MY8",
        "outputId": "98ebbd00-41d9-4902-afe0-45bf0010f5f6"
      },
      "execution_count": 22,
      "outputs": [
        {
          "output_type": "execute_result",
          "data": {
            "text/plain": [
              "[<matplotlib.lines.Line2D at 0x7a4640944d10>]"
            ]
          },
          "metadata": {},
          "execution_count": 22
        },
        {
          "output_type": "display_data",
          "data": {
            "text/plain": [
              "<Figure size 640x480 with 1 Axes>"
            ],
            "image/png": "[encoded data removed]"
          },
          "metadata": {}
        }
      ]
    },
    {
      "cell_type": "code",
      "source": [],
      "metadata": {
        "id": "QiFuVdF54UZO"
      },
      "execution_count": null,
      "outputs": []
    }
  ]
}